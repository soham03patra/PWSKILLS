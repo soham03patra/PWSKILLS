{
 "cells": [
  {
   "cell_type": "markdown",
   "id": "11b60f75-5867-4dd5-b8b6-20d1bfac2ae1",
   "metadata": {},
   "source": [
    "1) Multiprocessing in Python is a built-in package that allows the system to run multiple processes simultaneously. It will enable the breaking of applications into smaller threads that can run independently."
   ]
  },
  {
   "cell_type": "markdown",
   "id": "e641b3e4-0f05-4aeb-a5f8-183ef8b66908",
   "metadata": {},
   "source": [
    "2) Multiprocessing uses two or more CPUs to increase computing power, whereas multithreading uses a single process with multiple code segments to increase computing power."
   ]
  },
  {
   "cell_type": "code",
   "execution_count": 2,
   "id": "4e8017e7-9c31-4cf8-9003-0276d69faf9a",
   "metadata": {},
   "outputs": [],
   "source": [
    "import multiprocessing"
   ]
  },
  {
   "cell_type": "code",
   "execution_count": 6,
   "id": "205841f9-b629-4e0b-a0ac-e7a974d84c28",
   "metadata": {},
   "outputs": [
    {
     "name": "stdout",
     "output_type": "stream",
     "text": [
      "this is my main prog\n",
      "this is my multiprocessing \n"
     ]
    }
   ],
   "source": [
    "def test():\n",
    "    print(\"this is my multiprocessing \")\n",
    "    \n",
    "if __name__ == \"__main__\":\n",
    "    m=multiprocessing.Process(target=test)\n",
    "    print(\"this is my main prog\")\n",
    "    m.start()\n",
    "    m.join()\n",
    "            "
   ]
  },
  {
   "cell_type": "markdown",
   "id": "24ddb083-6441-4a2d-862a-8b27f6782c56",
   "metadata": {},
   "source": [
    "4) Python multiprocessing Pool can be used for parallel execution of a function across multiple input values, distributing the input data across processes (data parallelism)."
   ]
  },
  {
   "cell_type": "code",
   "execution_count": 10,
   "id": "6c4bd786-c1ca-407e-9554-d6933475d8b1",
   "metadata": {},
   "outputs": [
    {
     "name": "stdout",
     "output_type": "stream",
     "text": [
      "[1, 4, 9, 16, 25, 36, 49, 64, 81]\n"
     ]
    }
   ],
   "source": [
    "def square(n):\n",
    "    return n**2\n",
    "\n",
    "if __name__ == '__main__':\n",
    "    with multiprocessing.Pool(processes=4) as pool : \n",
    "        out = pool.map(square , [1,2,3,4,5,6,7,8,9])\n",
    "        print(out)\n",
    "    \n",
    "    "
   ]
  },
  {
   "cell_type": "code",
   "execution_count": 15,
   "id": "b98b4404-f6a9-4a21-965c-5588e91361b0",
   "metadata": {},
   "outputs": [
    {
     "name": "stdout",
     "output_type": "stream",
     "text": [
      "1\n",
      "2\n",
      "3\n",
      "4\n"
     ]
    }
   ],
   "source": [
    "import multiprocessing\n",
    "\n",
    "def print_number(number):\n",
    "    print( number)\n",
    "\n",
    "if __name__ == '__main__':\n",
    "    processes = []\n",
    "    numbers = [1, 2, 3, 4]\n",
    "\n",
    "    for i in numbers:\n",
    "        process = multiprocessing.Process(target=print_number, args=(i,))\n",
    "        process.start()\n",
    "        process.join()\n",
    "    \n"
   ]
  },
  {
   "cell_type": "code",
   "execution_count": null,
   "id": "437eca66-12f6-4f13-abda-5589ed181d5d",
   "metadata": {},
   "outputs": [],
   "source": []
  }
 ],
 "metadata": {
  "kernelspec": {
   "display_name": "Python 3 (ipykernel)",
   "language": "python",
   "name": "python3"
  },
  "language_info": {
   "codemirror_mode": {
    "name": "ipython",
    "version": 3
   },
   "file_extension": ".py",
   "mimetype": "text/x-python",
   "name": "python",
   "nbconvert_exporter": "python",
   "pygments_lexer": "ipython3",
   "version": "3.10.8"
  }
 },
 "nbformat": 4,
 "nbformat_minor": 5
}
