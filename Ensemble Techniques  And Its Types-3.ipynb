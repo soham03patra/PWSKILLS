{
 "cells": [
  {
   "cell_type": "markdown",
   "id": "7eec5ed0-146d-496c-bb41-95e93d868923",
   "metadata": {},
   "source": [
    "# Q1. What is Random Forest Regressor?"
   ]
  },
  {
   "cell_type": "markdown",
   "id": "1a262e95-a38c-40b3-8b5f-baeb45c64bdf",
   "metadata": {},
   "source": [
    "- Random Forest Regressor is a machine learning algorithm that is used for regression tasks. It is an ensemble learning method that operates by constructing a multitude of decision trees during training time and outputs the mean prediction of the individual trees for regression tasks.\n",
    "\n",
    "Here's how the Random Forest Regressor works:\n",
    "\n",
    "1. **Bootstrapping:** Random Forest Regressor uses bootstrapping to create multiple random samples (with replacement) from the training data. Each sample is used to train a decision tree.\n",
    "\n",
    "2. **Random Feature Selection:** At each node of the decision tree, a random subset of features is considered for splitting. This helps in creating diversity among the trees in the forest.\n",
    "\n",
    "3. **Decision Tree Construction:** For each sample, a decision tree is constructed using the randomly selected subset of features. The tree is grown to its maximum depth without pruning.\n",
    "\n",
    "4. **Voting:** During prediction, the Random Forest Regressor aggregates the predictions of all the individual trees in the forest. For regression tasks, the final prediction is the mean of the predictions of all the trees.\n",
    "\n",
    "- Random Forest Regressor is known for its ability to handle large datasets with high dimensionality and to reduce overfitting compared to a single decision tree. It is also robust to noise and outliers in the data."
   ]
  },
  {
   "cell_type": "markdown",
   "id": "e7fde3ef-25a0-486f-9450-fd2c52aee5eb",
   "metadata": {},
   "source": [
    "# Q2. How does Random Forest Regressor reduce the risk of overfitting?\n",
    "\n"
   ]
  },
  {
   "cell_type": "markdown",
   "id": "72440a72-78f1-4be4-be75-6e5065bbcb13",
   "metadata": {},
   "source": [
    "*Random Forest Regressor reduces the risk of overfitting through several mechanisms:*\n",
    "\n",
    "1. **Bagging:** Random Forest Regressor is an ensemble learning method that uses bagging (bootstrap aggregating) to create multiple subsets of the training data. Each subset is used to train a separate decision tree. By averaging the predictions of multiple trees, Random Forest Regressor reduces the variance of the model, which helps prevent overfitting.\n",
    "\n",
    "2. **Random Feature Selection:** At each node of the decision tree, Random Forest Regressor considers only a random subset of features for splitting. This random feature selection introduces additional randomness into the model and helps prevent individual trees from memorizing noise in the data. As a result, the ensemble model is less likely to overfit the training data.\n",
    "\n",
    "3. **Ensemble Learning:** By combining the predictions of multiple decision trees, Random Forest Regressor is able to generalize better to unseen data. The ensemble model is more robust and less sensitive to noise and outliers in the training data, which helps reduce overfitting.\n",
    "\n",
    "4. **Max Features Parameter:** Random Forest Regressor allows you to control the number of features considered for splitting at each node. By limiting the number of features, you can further reduce the risk of overfitting and improve the generalization performance of the model.\n",
    "\n",
    "- Random Forest Regressor's use of bagging, random feature selection, and ensemble learning helps reduce the risk of overfitting and improve the model's ability to generalize to new data."
   ]
  },
  {
   "cell_type": "markdown",
   "id": "f5d8920e-e986-498b-8ab1-89a0c40b41a5",
   "metadata": {},
   "source": [
    "# Q3. How does Random Forest Regressor aggregate the predictions of multiple decision trees?\n",
    "\n"
   ]
  },
  {
   "cell_type": "markdown",
   "id": "686339ad-804c-44fa-a359-44bbd1fbac7e",
   "metadata": {},
   "source": [
    "- Random Forest Regressor aggregates the predictions of multiple decision trees by averaging the predictions for regression tasks. Here's how the aggregation process works:\n",
    "\n",
    "1. **Training:** During the training phase, Random Forest Regressor creates an ensemble of decision trees. Each decision tree is trained on a bootstrap sample of the training data, and at each node of the tree, a random subset of features is considered for splitting.\n",
    "\n",
    "2. **Prediction:** When making predictions, each decision tree in the ensemble independently predicts the target variable for a given input sample.\n",
    "\n",
    "3. **Aggregation:** For regression tasks, the final prediction of the Random Forest Regressor is the average of the predictions of all the individual trees in the ensemble. This averaging process helps smooth out the predictions and reduce the variance of the final prediction.\n",
    "\n",
    "- By aggregating the predictions of multiple trees, Random Forest Regressor is able to improve the accuracy and generalization performance of the model compared to a single decision tree."
   ]
  },
  {
   "cell_type": "markdown",
   "id": "0b20555c-ce76-4984-a7fe-5be607b31bda",
   "metadata": {},
   "source": [
    "# Q4. What are the hyperparameters of Random Forest Regressor?\n",
    "\n"
   ]
  },
  {
   "cell_type": "markdown",
   "id": "f4b7c925-b7d1-4cf9-a6ee-c5e37538312c",
   "metadata": {},
   "source": [
    "- Random Forest Regressor has several hyperparameters that can be tuned to optimize its performance. Some of the key hyperparameters include:\n",
    "\n",
    "1. **n_estimators:** The number of decision trees in the forest. Increasing the number of trees can improve performance but also increases computational cost.\n",
    "\n",
    "2. **max_depth:** The maximum depth of each decision tree. Increasing max_depth can lead to more complex trees, which may result in overfitting.\n",
    "\n",
    "3. **min_samples_split:** The minimum number of samples required to split an internal node. Increasing min_samples_split can help prevent overfitting by requiring each split to have a minimum number of samples.\n",
    "\n",
    "4. **min_samples_leaf:** The minimum number of samples required to be at a leaf node. Increasing min_samples_leaf can help prevent overfitting by requiring each leaf to have a minimum number of samples.\n",
    "\n",
    "5. **max_features:** The number of features to consider when looking for the best split. Increasing max_features can reduce the correlation between trees and improve the diversity of the ensemble.\n",
    "\n",
    "6. **bootstrap:** Whether bootstrap samples are used when building trees. Setting bootstrap to False will use the entire dataset for each tree, which can lead to high variance.\n",
    "\n",
    "7. **random_state:** The seed used by the random number generator. Setting random_state ensures reproducibility of results.\n",
    "\n",
    "- These are just a few of the hyperparameters that can be tuned in Random Forest Regressor. The optimal hyperparameter values depend on the specific dataset and problem being solved and are typically found through hyperparameter tuning techniques such as grid search or random search."
   ]
  },
  {
   "cell_type": "markdown",
   "id": "d330de5c-8a28-43d5-88c6-f3226ca8a20b",
   "metadata": {},
   "source": [
    "# Q5. What is the difference between Random Forest Regressor and Decision Tree Regressor?\n",
    "\n"
   ]
  },
  {
   "cell_type": "markdown",
   "id": "3fc5f028-9c46-447c-8546-2ad14b8985ad",
   "metadata": {},
   "source": [
    "- Random Forest Regressor and Decision Tree Regressor are both machine learning algorithms used for regression tasks, but they differ in several key aspects:\n",
    "\n",
    "1. **Model Complexity:** Decision Tree Regressor can be prone to overfitting, especially when the tree is deep and complex. Random Forest Regressor, on the other hand, reduces overfitting by averaging the predictions of multiple decision trees, which are trained on different subsets of the data.\n",
    "\n",
    "2. **Bias-Variance Tradeoff:** Decision Tree Regressor tends to have high variance and low bias, especially for complex trees. Random Forest Regressor reduces variance by aggregating the predictions of multiple trees, leading to a more stable and robust model.\n",
    "\n",
    "3. **Feature Selection:** Decision Tree Regressor considers all features when making split decisions at each node. Random Forest Regressor randomly selects a subset of features at each node, which helps in reducing the correlation between trees and improves the generalization performance of the model.\n",
    "\n",
    "4. **Predictive Performance:** Random Forest Regressor generally performs better than Decision Tree Regressor in terms of predictive accuracy, especially when the dataset is large and complex. Random Forest Regressor is less prone to overfitting and can capture more complex relationships in the data.\n",
    "\n",
    "5. **Interpretability:** Decision Tree Regressor produces a single tree that can be easily visualized and interpreted. Random Forest Regressor, however, consists of multiple trees, which makes it more difficult to interpret the overall model."
   ]
  },
  {
   "cell_type": "markdown",
   "id": "b50b9d84-d6b2-489e-a1e0-ad51b16b1e0e",
   "metadata": {},
   "source": [
    "# Q6. What are the advantages and disadvantages of Random Forest Regressor?\n",
    "\n"
   ]
  },
  {
   "cell_type": "markdown",
   "id": "e24a8c23-585b-41fa-b3be-fdd4220277a6",
   "metadata": {},
   "source": [
    "- Random Forest Regressor has several advantages and disadvantages:\n",
    "\n",
    "**Advantages:**\n",
    "\n",
    "1. **Reduced Overfitting:** Random Forest Regressor reduces overfitting by averaging the predictions of multiple decision trees, each trained on a different subset of the data.\n",
    "\n",
    "2. **Improved Accuracy:** Random Forest Regressor generally has higher accuracy compared to a single decision tree, especially for complex datasets.\n",
    "\n",
    "3. **Robustness to Noise:** Random Forest Regressor is robust to noise and outliers in the data, as the averaging process helps smooth out the impact of individual data points.\n",
    "\n",
    "4. **Feature Importance:** Random Forest Regressor can provide information about the relative importance of different features in making predictions, which can be useful for feature selection.\n",
    "\n",
    "5. **Parallelization:** Training of individual decision trees in a Random Forest can be parallelized, making it efficient for large datasets.\n",
    "\n",
    "**Disadvantages:**\n",
    "\n",
    "1. **Computational Complexity:** Random Forest Regressor can be computationally expensive, especially for large ensembles and complex datasets.\n",
    "\n",
    "2. **Lack of Interpretability:** Random Forest Regressor consists of multiple decision trees, which can make it difficult to interpret the overall model compared to a single decision tree.\n",
    "\n",
    "3. **Memory Usage:** Random Forest Regressor requires storing multiple decision trees in memory, which can be memory-intensive for large ensembles.\n",
    "\n",
    "4. **Hyperparameter Tuning:** Random Forest Regressor has several hyperparameters that need to be tuned to achieve optimal performance, which can be time-consuming.\n",
    "\n",
    "5. **Data Imbalance:** Random Forest Regressor may not perform well on imbalanced datasets, as the majority class may dominate the predictions."
   ]
  },
  {
   "cell_type": "markdown",
   "id": "038cfe8d-1155-47a3-bf54-9be7a82fa46d",
   "metadata": {},
   "source": [
    "# Q7. What is the output of Random Forest Regressor?\n",
    "\n"
   ]
  },
  {
   "cell_type": "code",
   "execution_count": 1,
   "id": "b965a84d-b7a1-4283-80bb-dc1accadecd5",
   "metadata": {
    "tags": []
   },
   "outputs": [],
   "source": [
    "from sklearn.model_selection import train_test_split\n",
    "from sklearn.ensemble import RandomForestRegressor\n",
    "from sklearn.datasets import make_regression"
   ]
  },
  {
   "cell_type": "code",
   "execution_count": 2,
   "id": "459c4595-318f-49b3-a419-698c49104cd1",
   "metadata": {},
   "outputs": [],
   "source": [
    "\n",
    "# Generate some synthetic data\n",
    "X, y = make_regression(n_samples=100, n_features=10, noise=0.1, random_state=42)\n"
   ]
  },
  {
   "cell_type": "code",
   "execution_count": 3,
   "id": "9f21173b-bde5-4721-87a6-447e887f1d8c",
   "metadata": {},
   "outputs": [],
   "source": [
    "# Split the data into training and test sets\n",
    "X_train, X_test, y_train, y_test = train_test_split(X, y, test_size=0.2, random_state=42)"
   ]
  },
  {
   "cell_type": "code",
   "execution_count": 4,
   "id": "2212b378-0b66-44cc-b93b-1766e4b10d17",
   "metadata": {},
   "outputs": [],
   "source": [
    "# Create a Random Forest Regressor model\n",
    "rf = RandomForestRegressor(n_estimators=100, random_state=42)"
   ]
  },
  {
   "cell_type": "code",
   "execution_count": 5,
   "id": "98b004fa-56ff-42c4-9518-107cc0823769",
   "metadata": {},
   "outputs": [
    {
     "data": {
      "text/html": [
       "<style>#sk-container-id-1 {color: black;background-color: white;}#sk-container-id-1 pre{padding: 0;}#sk-container-id-1 div.sk-toggleable {background-color: white;}#sk-container-id-1 label.sk-toggleable__label {cursor: pointer;display: block;width: 100%;margin-bottom: 0;padding: 0.3em;box-sizing: border-box;text-align: center;}#sk-container-id-1 label.sk-toggleable__label-arrow:before {content: \"▸\";float: left;margin-right: 0.25em;color: #696969;}#sk-container-id-1 label.sk-toggleable__label-arrow:hover:before {color: black;}#sk-container-id-1 div.sk-estimator:hover label.sk-toggleable__label-arrow:before {color: black;}#sk-container-id-1 div.sk-toggleable__content {max-height: 0;max-width: 0;overflow: hidden;text-align: left;background-color: #f0f8ff;}#sk-container-id-1 div.sk-toggleable__content pre {margin: 0.2em;color: black;border-radius: 0.25em;background-color: #f0f8ff;}#sk-container-id-1 input.sk-toggleable__control:checked~div.sk-toggleable__content {max-height: 200px;max-width: 100%;overflow: auto;}#sk-container-id-1 input.sk-toggleable__control:checked~label.sk-toggleable__label-arrow:before {content: \"▾\";}#sk-container-id-1 div.sk-estimator input.sk-toggleable__control:checked~label.sk-toggleable__label {background-color: #d4ebff;}#sk-container-id-1 div.sk-label input.sk-toggleable__control:checked~label.sk-toggleable__label {background-color: #d4ebff;}#sk-container-id-1 input.sk-hidden--visually {border: 0;clip: rect(1px 1px 1px 1px);clip: rect(1px, 1px, 1px, 1px);height: 1px;margin: -1px;overflow: hidden;padding: 0;position: absolute;width: 1px;}#sk-container-id-1 div.sk-estimator {font-family: monospace;background-color: #f0f8ff;border: 1px dotted black;border-radius: 0.25em;box-sizing: border-box;margin-bottom: 0.5em;}#sk-container-id-1 div.sk-estimator:hover {background-color: #d4ebff;}#sk-container-id-1 div.sk-parallel-item::after {content: \"\";width: 100%;border-bottom: 1px solid gray;flex-grow: 1;}#sk-container-id-1 div.sk-label:hover label.sk-toggleable__label {background-color: #d4ebff;}#sk-container-id-1 div.sk-serial::before {content: \"\";position: absolute;border-left: 1px solid gray;box-sizing: border-box;top: 0;bottom: 0;left: 50%;z-index: 0;}#sk-container-id-1 div.sk-serial {display: flex;flex-direction: column;align-items: center;background-color: white;padding-right: 0.2em;padding-left: 0.2em;position: relative;}#sk-container-id-1 div.sk-item {position: relative;z-index: 1;}#sk-container-id-1 div.sk-parallel {display: flex;align-items: stretch;justify-content: center;background-color: white;position: relative;}#sk-container-id-1 div.sk-item::before, #sk-container-id-1 div.sk-parallel-item::before {content: \"\";position: absolute;border-left: 1px solid gray;box-sizing: border-box;top: 0;bottom: 0;left: 50%;z-index: -1;}#sk-container-id-1 div.sk-parallel-item {display: flex;flex-direction: column;z-index: 1;position: relative;background-color: white;}#sk-container-id-1 div.sk-parallel-item:first-child::after {align-self: flex-end;width: 50%;}#sk-container-id-1 div.sk-parallel-item:last-child::after {align-self: flex-start;width: 50%;}#sk-container-id-1 div.sk-parallel-item:only-child::after {width: 0;}#sk-container-id-1 div.sk-dashed-wrapped {border: 1px dashed gray;margin: 0 0.4em 0.5em 0.4em;box-sizing: border-box;padding-bottom: 0.4em;background-color: white;}#sk-container-id-1 div.sk-label label {font-family: monospace;font-weight: bold;display: inline-block;line-height: 1.2em;}#sk-container-id-1 div.sk-label-container {text-align: center;}#sk-container-id-1 div.sk-container {/* jupyter's `normalize.less` sets `[hidden] { display: none; }` but bootstrap.min.css set `[hidden] { display: none !important; }` so we also need the `!important` here to be able to override the default hidden behavior on the sphinx rendered scikit-learn.org. See: https://github.com/scikit-learn/scikit-learn/issues/21755 */display: inline-block !important;position: relative;}#sk-container-id-1 div.sk-text-repr-fallback {display: none;}</style><div id=\"sk-container-id-1\" class=\"sk-top-container\"><div class=\"sk-text-repr-fallback\"><pre>RandomForestRegressor(random_state=42)</pre><b>In a Jupyter environment, please rerun this cell to show the HTML representation or trust the notebook. <br />On GitHub, the HTML representation is unable to render, please try loading this page with nbviewer.org.</b></div><div class=\"sk-container\" hidden><div class=\"sk-item\"><div class=\"sk-estimator sk-toggleable\"><input class=\"sk-toggleable__control sk-hidden--visually\" id=\"sk-estimator-id-1\" type=\"checkbox\" checked><label for=\"sk-estimator-id-1\" class=\"sk-toggleable__label sk-toggleable__label-arrow\">RandomForestRegressor</label><div class=\"sk-toggleable__content\"><pre>RandomForestRegressor(random_state=42)</pre></div></div></div></div></div>"
      ],
      "text/plain": [
       "RandomForestRegressor(random_state=42)"
      ]
     },
     "execution_count": 5,
     "metadata": {},
     "output_type": "execute_result"
    }
   ],
   "source": [
    "# Train the model on the training data\n",
    "rf.fit(X_train, y_train)\n"
   ]
  },
  {
   "cell_type": "code",
   "execution_count": 6,
   "id": "fe2950d2-2704-47b9-bf36-46b646690173",
   "metadata": {},
   "outputs": [],
   "source": [
    "# Make predictions on the test data\n",
    "predictions = rf.predict(X_test)\n"
   ]
  },
  {
   "cell_type": "code",
   "execution_count": 7,
   "id": "15118359-4ac3-48d5-8e05-d706e84fcdaa",
   "metadata": {},
   "outputs": [
    {
     "name": "stdout",
     "output_type": "stream",
     "text": [
      "[ 120.78423032 -219.41398856  244.86906677   54.39109673  167.47729664\n",
      "  134.70005545 -114.59637444   40.88115985  -13.92466554 -161.51868539\n",
      "  217.24351426  -75.25928278   -4.48928507   50.65091123  -78.77346119\n",
      "  -55.2766167   111.37858912   20.00564396 -162.34632244   83.3132182 ]\n"
     ]
    }
   ],
   "source": [
    "# Print the predictions\n",
    "print(predictions)"
   ]
  },
  {
   "cell_type": "markdown",
   "id": "35fda3da-cbea-40c3-ad97-ca1e5ed1a2c3",
   "metadata": {},
   "source": [
    "# Q8. Can Random Forest Regressor be used for classification tasks?"
   ]
  },
  {
   "cell_type": "code",
   "execution_count": 8,
   "id": "64e2a749-496a-4000-b3e2-5bec2436094c",
   "metadata": {
    "tags": []
   },
   "outputs": [],
   "source": [
    "from sklearn.model_selection import train_test_split\n",
    "from sklearn.ensemble import RandomForestRegressor\n",
    "from sklearn.datasets import make_classification\n",
    "from sklearn.metrics import accuracy_score"
   ]
  },
  {
   "cell_type": "code",
   "execution_count": 9,
   "id": "5a9755f5-a131-4222-af8f-3d91bd99e080",
   "metadata": {},
   "outputs": [],
   "source": [
    "# Generate some synthetic data for classification\n",
    "X, y = make_classification(n_samples=100, n_features=10, n_classes=2, random_state=42)\n"
   ]
  },
  {
   "cell_type": "code",
   "execution_count": 10,
   "id": "27cc31c2-b5ed-47cc-ba0d-cfc0359c2303",
   "metadata": {},
   "outputs": [],
   "source": [
    "# Convert the target variable into a categorical variable\n",
    "y[y < 0] = 0\n",
    "y[y > 0] = 1\n"
   ]
  },
  {
   "cell_type": "code",
   "execution_count": 11,
   "id": "899cb5e2-846b-4bcd-ae67-bb92bdc2d6bb",
   "metadata": {},
   "outputs": [],
   "source": [
    "# Split the data into training and test sets\n",
    "X_train, X_test, y_train, y_test = train_test_split(X, y, test_size=0.2, random_state=42)"
   ]
  },
  {
   "cell_type": "code",
   "execution_count": 12,
   "id": "dec6408c-ce6c-47c9-9b0e-8514996e750c",
   "metadata": {},
   "outputs": [],
   "source": [
    "# Create a Random Forest Regressor model\n",
    "rf = RandomForestRegressor(n_estimators=100, random_state=42)"
   ]
  },
  {
   "cell_type": "code",
   "execution_count": 13,
   "id": "a478c766-0ab0-47dd-8254-ea077f4f6fb7",
   "metadata": {},
   "outputs": [
    {
     "data": {
      "text/html": [
       "<style>#sk-container-id-2 {color: black;background-color: white;}#sk-container-id-2 pre{padding: 0;}#sk-container-id-2 div.sk-toggleable {background-color: white;}#sk-container-id-2 label.sk-toggleable__label {cursor: pointer;display: block;width: 100%;margin-bottom: 0;padding: 0.3em;box-sizing: border-box;text-align: center;}#sk-container-id-2 label.sk-toggleable__label-arrow:before {content: \"▸\";float: left;margin-right: 0.25em;color: #696969;}#sk-container-id-2 label.sk-toggleable__label-arrow:hover:before {color: black;}#sk-container-id-2 div.sk-estimator:hover label.sk-toggleable__label-arrow:before {color: black;}#sk-container-id-2 div.sk-toggleable__content {max-height: 0;max-width: 0;overflow: hidden;text-align: left;background-color: #f0f8ff;}#sk-container-id-2 div.sk-toggleable__content pre {margin: 0.2em;color: black;border-radius: 0.25em;background-color: #f0f8ff;}#sk-container-id-2 input.sk-toggleable__control:checked~div.sk-toggleable__content {max-height: 200px;max-width: 100%;overflow: auto;}#sk-container-id-2 input.sk-toggleable__control:checked~label.sk-toggleable__label-arrow:before {content: \"▾\";}#sk-container-id-2 div.sk-estimator input.sk-toggleable__control:checked~label.sk-toggleable__label {background-color: #d4ebff;}#sk-container-id-2 div.sk-label input.sk-toggleable__control:checked~label.sk-toggleable__label {background-color: #d4ebff;}#sk-container-id-2 input.sk-hidden--visually {border: 0;clip: rect(1px 1px 1px 1px);clip: rect(1px, 1px, 1px, 1px);height: 1px;margin: -1px;overflow: hidden;padding: 0;position: absolute;width: 1px;}#sk-container-id-2 div.sk-estimator {font-family: monospace;background-color: #f0f8ff;border: 1px dotted black;border-radius: 0.25em;box-sizing: border-box;margin-bottom: 0.5em;}#sk-container-id-2 div.sk-estimator:hover {background-color: #d4ebff;}#sk-container-id-2 div.sk-parallel-item::after {content: \"\";width: 100%;border-bottom: 1px solid gray;flex-grow: 1;}#sk-container-id-2 div.sk-label:hover label.sk-toggleable__label {background-color: #d4ebff;}#sk-container-id-2 div.sk-serial::before {content: \"\";position: absolute;border-left: 1px solid gray;box-sizing: border-box;top: 0;bottom: 0;left: 50%;z-index: 0;}#sk-container-id-2 div.sk-serial {display: flex;flex-direction: column;align-items: center;background-color: white;padding-right: 0.2em;padding-left: 0.2em;position: relative;}#sk-container-id-2 div.sk-item {position: relative;z-index: 1;}#sk-container-id-2 div.sk-parallel {display: flex;align-items: stretch;justify-content: center;background-color: white;position: relative;}#sk-container-id-2 div.sk-item::before, #sk-container-id-2 div.sk-parallel-item::before {content: \"\";position: absolute;border-left: 1px solid gray;box-sizing: border-box;top: 0;bottom: 0;left: 50%;z-index: -1;}#sk-container-id-2 div.sk-parallel-item {display: flex;flex-direction: column;z-index: 1;position: relative;background-color: white;}#sk-container-id-2 div.sk-parallel-item:first-child::after {align-self: flex-end;width: 50%;}#sk-container-id-2 div.sk-parallel-item:last-child::after {align-self: flex-start;width: 50%;}#sk-container-id-2 div.sk-parallel-item:only-child::after {width: 0;}#sk-container-id-2 div.sk-dashed-wrapped {border: 1px dashed gray;margin: 0 0.4em 0.5em 0.4em;box-sizing: border-box;padding-bottom: 0.4em;background-color: white;}#sk-container-id-2 div.sk-label label {font-family: monospace;font-weight: bold;display: inline-block;line-height: 1.2em;}#sk-container-id-2 div.sk-label-container {text-align: center;}#sk-container-id-2 div.sk-container {/* jupyter's `normalize.less` sets `[hidden] { display: none; }` but bootstrap.min.css set `[hidden] { display: none !important; }` so we also need the `!important` here to be able to override the default hidden behavior on the sphinx rendered scikit-learn.org. See: https://github.com/scikit-learn/scikit-learn/issues/21755 */display: inline-block !important;position: relative;}#sk-container-id-2 div.sk-text-repr-fallback {display: none;}</style><div id=\"sk-container-id-2\" class=\"sk-top-container\"><div class=\"sk-text-repr-fallback\"><pre>RandomForestRegressor(random_state=42)</pre><b>In a Jupyter environment, please rerun this cell to show the HTML representation or trust the notebook. <br />On GitHub, the HTML representation is unable to render, please try loading this page with nbviewer.org.</b></div><div class=\"sk-container\" hidden><div class=\"sk-item\"><div class=\"sk-estimator sk-toggleable\"><input class=\"sk-toggleable__control sk-hidden--visually\" id=\"sk-estimator-id-2\" type=\"checkbox\" checked><label for=\"sk-estimator-id-2\" class=\"sk-toggleable__label sk-toggleable__label-arrow\">RandomForestRegressor</label><div class=\"sk-toggleable__content\"><pre>RandomForestRegressor(random_state=42)</pre></div></div></div></div></div>"
      ],
      "text/plain": [
       "RandomForestRegressor(random_state=42)"
      ]
     },
     "execution_count": 13,
     "metadata": {},
     "output_type": "execute_result"
    }
   ],
   "source": [
    "# Train the model on the training data\n",
    "rf.fit(X_train, y_train)\n"
   ]
  },
  {
   "cell_type": "code",
   "execution_count": 14,
   "id": "fd87ca00-1549-4954-97e2-50de69e9da1e",
   "metadata": {},
   "outputs": [],
   "source": [
    "# Make predictions on the test data\n",
    "predictions = rf.predict(X_test)"
   ]
  },
  {
   "cell_type": "code",
   "execution_count": 15,
   "id": "6fcf2bf6-bc57-4fd0-b707-cbf5a3d7de24",
   "metadata": {},
   "outputs": [],
   "source": [
    "# Convert the predictions to binary values\n",
    "predictions_binary = (predictions > 0.5).astype(int)\n"
   ]
  },
  {
   "cell_type": "code",
   "execution_count": 16,
   "id": "f95fb85e-4d55-4d51-9e74-3c6316541406",
   "metadata": {},
   "outputs": [],
   "source": [
    "# Calculate the accuracy of the model\n",
    "accuracy = accuracy_score(y_test, predictions_binary)"
   ]
  },
  {
   "cell_type": "code",
   "execution_count": 17,
   "id": "794dc514-2702-4fbc-8e51-5cd9c87a2230",
   "metadata": {},
   "outputs": [
    {
     "name": "stdout",
     "output_type": "stream",
     "text": [
      "Accuracy: 1.0\n"
     ]
    }
   ],
   "source": [
    "# Print the accuracy\n",
    "print(\"Accuracy:\", accuracy)\n"
   ]
  },
  {
   "cell_type": "code",
   "execution_count": null,
   "id": "ce60d703-0c2f-4556-9715-34b9d0e63c20",
   "metadata": {},
   "outputs": [],
   "source": []
  }
 ],
 "metadata": {
  "kernelspec": {
   "display_name": "Python 3 (ipykernel)",
   "language": "python",
   "name": "python3"
  },
  "language_info": {
   "codemirror_mode": {
    "name": "ipython",
    "version": 3
   },
   "file_extension": ".py",
   "mimetype": "text/x-python",
   "name": "python",
   "nbconvert_exporter": "python",
   "pygments_lexer": "ipython3",
   "version": "3.10.8"
  },
  "widgets": {
   "application/vnd.jupyter.widget-state+json": {
    "state": {},
    "version_major": 2,
    "version_minor": 0
   }
  }
 },
 "nbformat": 4,
 "nbformat_minor": 5
}
