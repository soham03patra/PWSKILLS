{
 "cells": [
  {
   "cell_type": "markdown",
   "id": "6437e4fb-98b4-418f-8df7-1aa9578cddab",
   "metadata": {},
   "source": [
    "#####\n",
    "Q(1)\n",
    "\n",
    "Statistics is the science of collecting , organizing and analyzing data\n",
    "\n",
    "Ex--> Height of students in classroom.\n"
   ]
  },
  {
   "cell_type": "markdown",
   "id": "477282d0-9706-4f2f-a11f-439cd4351a5f",
   "metadata": {},
   "source": [
    "#####\n",
    "Q(2)\n",
    "\n",
    "The types of statistics are -->\n",
    "\n",
    "i)Descriptive statistics --> it describes the properties of sample and population data, and inferential statistics, which uses those properties to                                  test hypotheses and draw conclusions.\n",
    "                             Descriptive statistics include mean (average), variance, skewness, and kurtosis.\n",
    "                             \n",
    "ii) Inferential Statistics --> Inferential statistics are tools that statisticians use to draw conclusion from the data\n",
    "                               examples: Hypothesis testing.\n",
    "                               Regression analysis."
   ]
  },
  {
   "cell_type": "markdown",
   "id": "b084a9e3-f8d1-448f-8041-228f768c2102",
   "metadata": {},
   "source": [
    "#####\n",
    "Q(3)\n",
    "\n",
    "The different types of data are -->\n",
    "i) Quantitative --> quantitative data are numerical and measurable\n",
    "ii) Qualitative --> Qualitative data are descriptive and categorical\n",
    "\n",
    "\n",
    "Nominal data are qualitative data that have no inherent order or ranking. They are used to label or identify different categories or groups. For example, gender, eye color, blood type, etc. are nominal data.\n",
    "\n",
    "\n",
    "Ordinal data are qualitative data that have some order or ranking. They are used to compare or rate different categories or groups based on some criteria. For example, customer satisfaction, education level, movie ratings, etc. are ordinal data.\n",
    "\n",
    "\n",
    "Discrete data are quantitative data that have finite or countable values. They are used to measure or count discrete events or objects. For example, number of students, number of books, number of heads in a coin toss, etc. are discrete data.\n",
    "\n",
    "\n",
    "Continuous data are quantitative data that have infinite or uncountable values. They are used to measure or record continuous phenomena or variables. For example, height, weight, temperature, time, speed, etc. are continuous data."
   ]
  },
  {
   "cell_type": "markdown",
   "id": "8ac1b21e-da3c-41bb-982a-d9f34b54a2a3",
   "metadata": {},
   "source": [
    "#####\n",
    "Q(4)\n",
    "\n",
    "(i) Grading in exam: A+, A, B+, B, C+, C, D, E --> qualitative\n",
    "\n",
    "\n",
    "(ii) Colour of mangoes: yellow, green, orange, red  --> qualitative\n",
    "\n",
    "\n",
    "(iii) Height data of a class: [178.9, 179, 179.5, 176, 177.2, 178.3, 175.8,...]  --> quantitative\n",
    "\n",
    "\n",
    "(iv) Number of mangoes exported by a farm: [500, 600, 478, 672, ...]  --> quantitative"
   ]
  },
  {
   "cell_type": "markdown",
   "id": "bd180baa-2282-4423-b216-23b9d147400b",
   "metadata": {},
   "source": [
    "####\n",
    "Q(5)\n",
    "\n",
    "There are four main levels of measurement: nominal, ordinal, interval, and ratio. Each level has different properties and rules for data analysis.\n",
    "\n",
    "Nominal level is the lowest and simplest level of measurement. It involves assigning values to variables based on their names or categories. There is no order or ranking among the values, and they cannot be added, subtracted, multiplied, or divided. For example, hair color, religion, nationality, etc. are nominal variables.\n",
    "\n",
    "Ordinal level is the next level of measurement. It involves assigning values to variables based on their order or rank relative to each other. There is some degree of comparison among the values, but the intervals between them are not equal or meaningful. For example, academic grades, customer satisfaction ratings, social class, etc. are ordinal variables.\n",
    "\n",
    "Interval level is the third level of measurement. It involves assigning values to variables based on a fixed and equal interval scale. There is a meaningful comparison and difference among the values, but there is no true zero point or ratio. For example, temperature in Celsius or Fahrenheit, IQ scores, calendar dates, etc. are interval variables.\n",
    "\n",
    "Ratio level is the highest and most complex level of measurement. It involves assigning values to variables based on a fixed and equal interval scale with a true zero point. There is a meaningful comparison, difference, and ratio among the values, and all mathematical operations can be performed on them. For example, height, weight, income, age, etc. are ratio variables."
   ]
  },
  {
   "cell_type": "markdown",
   "id": "56ea1593-eb51-47c6-9f5f-0c8a547625a2",
   "metadata": {},
   "source": [
    "#####\n",
    "Q(6)\n",
    "\n",
    "It is important to understand the level of measurement when analyzing data because it determines the type of statistical analysis you can carry out, and affects both the nature and the depth of insights you can glean from your data.\n",
    "\n",
    "Depending on the level of measurement, you can use different descriptive statistics to summarize your data, and different inferential statistics to test your hypotheses or answer your research questions.\n",
    "\n",
    "For example, if you have a nominal variable, such as gender, you can only use measures of central tendency such as mode or frequency, and you cannot calculate measures of variability such as standard deviation or range. You can also only use non-parametric tests such as chi-square or Mann-Whitney U to compare groups or associations.\n",
    "\n",
    "However, if you have a ratio variable, such as income, you can use measures of central tendency such as mean or median, and measures of variability such as standard deviation or range. You can also use parametric tests such as t-test or ANOVA to compare groups or associations.\n",
    "\n",
    "Therefore, knowing the level of measurement of your variables helps you choose the appropriate statistics for your data analysis and interpretation."
   ]
  },
  {
   "cell_type": "markdown",
   "id": "3de19825-ef44-4279-857e-ee557ede00c7",
   "metadata": {},
   "source": [
    "####\n",
    "Q(7)\n",
    "\n",
    "Nominal data type and ordinal data type are both qualitative data types, but they have different properties and rules for data analysis.\n",
    "\n",
    "The main difference between nominal and ordinal data type is that nominal data type has no order or ranking among the values, while ordinal data type has some order or ranking among the values.\n",
    "\n",
    "For example, gender, eye color, blood type, etc. are nominal data type because they are just labels or names of different categories or groups. There is no way to say that one gender or eye color is higher or lower than another.\n",
    "\n",
    "However, academic grades, customer satisfaction ratings, social class, etc. are ordinal data type because they have some order or rank based on some criteria. There is a way to say that one grade or rating is higher or lower than another.\n"
   ]
  },
  {
   "cell_type": "markdown",
   "id": "46bfb67d-96f4-4dc2-baed-f2f7484e51df",
   "metadata": {},
   "source": [
    "#####\n",
    "Q(8)\n",
    "\n",
    "One type of plot that can be used to display data in terms of range is the **range plot**. A range plot shows two dots on a line for each observation or category, and connects them with a bold line. The dots represent the minimum and maximum values of the data, and the line represents the range or gap between them. A range plot is useful for highlighting the distance or difference between the values more than the values themselves.\n",
    "\n",
    "For example, a range plot can be used to show the gender pay gap across different countries, by plotting the minimum and maximum wages for men and women in each country. The dots would show the lowest and highest wages, and the line would show the gap between them.\n"
   ]
  },
  {
   "cell_type": "markdown",
   "id": "ea64bcb4-28ea-4f33-b51a-fdfb5e06ae7f",
   "metadata": {},
   "source": [
    "#####\n",
    "Q(9)\n",
    "\n",
    "Descriptive and inferential statistics are two types of statistics that have different purposes and methods.\n",
    "\n",
    "**Descriptive statistics** describe the characteristics and distribution of a data set, such as the frequency, average, and range of the values. Descriptive statistics are useful because they allow you to understand a group of data much more quickly and easily compared to just staring at rows and rows of raw data values. Descriptive statistics can be achieved with the help of summary statistics, graphs, and tables.\n",
    "\n",
    "For example, if you have a data set of test scores of 100 students, you can use descriptive statistics to find the mean, median, mode, standard deviation, and range of the scores. You can also create a histogram or a boxplot to visualize the distribution of the scores.\n",
    "\n",
    "**Inferential statistics** allow researchers to make generalizations from a sample group to a larger population, such as testing hypotheses, estimating parameters, and comparing groups. Inferential statistics are useful because they allow you to draw conclusions or make predictions based on a small subset of data instead of working on the whole population. Inferential statistics can be achieved with the help of probability and statistical tests.\n",
    "\n",
    "For example, if you have a sample of 100 students from a school and you want to know if their test scores are different from the national average, you can use inferential statistics to test your hypothesis using a t-test or an ANOVA. You can also use inferential statistics to estimate the confidence interval or the margin of error for your sample mean.\n"
   ]
  },
  {
   "cell_type": "markdown",
   "id": "048fa115-01b0-4051-a561-320f70f109bb",
   "metadata": {},
   "source": [
    "#####\n",
    "Q(10)\n",
    "Some common measures of central tendency and variability used in statistics are:\n",
    "\n",
    "- **Mean**:\n",
    "\n",
    "The mean is the arithmetic average of a data set, calculated by adding up all the values and dividing by the number of values. The mean is a measure of central tendency that shows the typical or expected value of a data set. For example, the mean height of a group of people is the sum of their heights divided by the number of people.\n",
    "\n",
    "- **Median**: \n",
    "\n",
    "The median is the middle value of a data set, when the values are arranged in ascending or descending order. The median is a measure of central tendency that shows the value that divides the data set into two equal halves. For example, the median income of a group of people is the income that separates the lower 50% from the upper 50%.\n",
    "\n",
    "- **Mode**:\n",
    "\n",
    "The mode is the most frequently occurring value in a data set. The mode is a measure of central tendency that shows the most common or popular value of a data set. For example, the mode of a group of people's favorite colors is the color that is chosen by most people.\n",
    "\n",
    "\n",
    "- **Range**:\n",
    "\n",
    "The range is the difference between the maximum and minimum values in a data set. The range is a measure of variability that shows the spread or dispersion of a data set. For example, the range of a group of people's ages is the oldest age minus the youngest age.\n",
    "\n",
    "- **Variance**:\n",
    "\n",
    "The variance is the average squared deviation of each value from the mean in a data set. The variance is a measure of variability that shows how much each value differs from the typical or expected value. For example, the variance of a group of people's test scores is the sum of squared differences between each score and the mean score, divided by the number of scores.\n",
    "\n",
    "- **Standard deviation**:\n",
    "\n",
    "The standard deviation is the square root of the variance in a data set. The standard deviation is a measure of variability that shows how much each value deviates from the mean in standard units. For example, the standard deviation of a group of people's test scores is the square root of the variance, which indicates how much each score is above or below average.\n",
    "\n"
   ]
  },
  {
   "cell_type": "code",
   "execution_count": null,
   "id": "bb86bab4-48bf-4ca8-8831-d9ce5c130bd6",
   "metadata": {},
   "outputs": [],
   "source": []
  }
 ],
 "metadata": {
  "kernelspec": {
   "display_name": "Python 3 (ipykernel)",
   "language": "python",
   "name": "python3"
  },
  "language_info": {
   "codemirror_mode": {
    "name": "ipython",
    "version": 3
   },
   "file_extension": ".py",
   "mimetype": "text/x-python",
   "name": "python",
   "nbconvert_exporter": "python",
   "pygments_lexer": "ipython3",
   "version": "3.10.8"
  }
 },
 "nbformat": 4,
 "nbformat_minor": 5
}
