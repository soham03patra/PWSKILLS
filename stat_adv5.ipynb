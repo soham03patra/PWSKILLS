{
 "cells": [
  {
   "cell_type": "markdown",
   "id": "ee1d5ed1-f2dc-4044-ac25-068c0cb063df",
   "metadata": {},
   "source": [
    "## Q(1)"
   ]
  },
  {
   "cell_type": "code",
   "execution_count": 4,
   "id": "c0a282c4-4835-4893-8e9c-a1a384dde68f",
   "metadata": {},
   "outputs": [
    {
     "name": "stdout",
     "output_type": "stream",
     "text": [
      "95% Confidence Interval: (48.21, 51.79)\n"
     ]
    }
   ],
   "source": [
    "import scipy.stats as stats\n",
    "\n",
    "mean = 50\n",
    "std_dev = 5\n",
    "confidence_level = 0.95\n",
    "sample_size = 30  \n",
    "\n",
    "\n",
    "sem = std_dev / (sample_size**0.5)\n",
    "\n",
    "# margin of arror\n",
    "moe = stats.norm.ppf((1 + confidence_level) / 2) * sem\n",
    "\n",
    "# the confidence interval\n",
    "lower_limit = mean - moe\n",
    "upper_limit = mean + moe\n",
    "\n",
    "print(f\"95% Confidence Interval: ({lower_limit:.2f}, {upper_limit:.2f})\")\n"
   ]
  },
  {
   "cell_type": "markdown",
   "id": "105a067c-0f27-4821-9780-7beee57f0018",
   "metadata": {},
   "source": [
    "## Q(2)"
   ]
  },
  {
   "cell_type": "code",
   "execution_count": 5,
   "id": "21db8d5d-185a-41e4-a340-80767e944b8e",
   "metadata": {},
   "outputs": [
    {
     "name": "stdout",
     "output_type": "stream",
     "text": [
      "Chi-square statistic: 1.3636\n",
      "P-value: 0.9282\n",
      "Fail to reject the null hypothesis. The distribution of colors is consistent with the expected distribution.\n"
     ]
    }
   ],
   "source": [
    "import numpy as np\n",
    "from scipy.stats import chisquare\n",
    "\n",
    "\n",
    "observed_counts = np.array([25, 22, 18, 10, 12, 23])  \n",
    "\n",
    "expected_percentages = np.array([20, 20, 20, 10, 10, 20]) / 100\n",
    "\n",
    "total_observation = np.sum(observed_counts)\n",
    "expected_counts = total_observation * expected_percentages\n",
    "\n",
    "\n",
    "chi2_stat, p_value = chisquare(observed_counts, f_exp=expected_counts)\n",
    "\n",
    "alpha = 0.05\n",
    "print(f\"Chi-square statistic: {chi2_stat:.4f}\")\n",
    "print(f\"P-value: {p_value:.4f}\")\n",
    "\n",
    "if p_value < alpha:\n",
    "    print(\"Reject the null hypothesis. The distribution of colors is different from the expected distribution.\")\n",
    "else:\n",
    "    print(\"Fail to reject the null hypothesis. The distribution of colors is consistent with the expected distribution.\")\n"
   ]
  },
  {
   "cell_type": "markdown",
   "id": "cf992e09-deac-47ea-928c-951469ec6c3b",
   "metadata": {},
   "source": [
    "## Q(3)"
   ]
  },
  {
   "cell_type": "code",
   "execution_count": 7,
   "id": "727299a1-a45c-4deb-9766-9308be57d7a4",
   "metadata": {},
   "outputs": [
    {
     "name": "stdout",
     "output_type": "stream",
     "text": [
      "Chi-square statistic: 5.8333\n",
      "P-value: 0.0541\n",
      "Degrees of freedom: 2\n",
      "Expected frequencies:\n",
      "[[15. 20.]\n",
      " [15. 20.]\n",
      " [15. 20.]]\n"
     ]
    }
   ],
   "source": [
    "import numpy as np\n",
    "from scipy.stats import chi2_contingency\n",
    "\n",
    "\n",
    "data = np.array([[20, 15], [10, 25], [15, 20]])\n",
    "\n",
    "# Perform the chi-square test of independence\n",
    "chi2_stat, p_value, dof, expected = chi2_contingency(data)\n",
    "\n",
    "# Display the results\n",
    "print(f\"Chi-square statistic: {chi2_stat:.4f}\")\n",
    "print(f\"P-value: {p_value:.4f}\")\n",
    "print(f\"Degrees of freedom: {dof}\")\n",
    "print(\"Expected frequencies:\")\n",
    "print(expected)\n"
   ]
  },
  {
   "cell_type": "markdown",
   "id": "818c9bda-e76c-459a-8a5d-48f796539672",
   "metadata": {},
   "source": [
    "## Q(4)"
   ]
  },
  {
   "cell_type": "code",
   "execution_count": 8,
   "id": "90f055af-9d30-4b9f-b960-c89ce5d734b5",
   "metadata": {},
   "outputs": [
    {
     "name": "stdout",
     "output_type": "stream",
     "text": [
      "95% Confidence Interval: (0.0915, 0.1485)\n"
     ]
    }
   ],
   "source": [
    "import scipy.stats as stats\n",
    "\n",
    "sample_size = 500\n",
    "observed_smokers = 60\n",
    "\n",
    "#  the sample proportion\n",
    "sample_proportion = observed_smokers / sample_size\n",
    "\n",
    "# the confidence level\n",
    "confidence_level = 0.95\n",
    "\n",
    "#  the standard error\n",
    "standard_error = (sample_proportion * (1 - sample_proportion) / sample_size) ** 0.5\n",
    "\n",
    "#  the margin of error\n",
    "margin_of_error = stats.norm.ppf((1 + confidence_level) / 2) * standard_error\n",
    "\n",
    "# the confidence interval\n",
    "lower_limit = sample_proportion - margin_of_error\n",
    "upper_limit = sample_proportion + margin_of_error\n",
    "\n",
    "print(f\"95% Confidence Interval: ({lower_limit:.4f}, {upper_limit:.4f})\")\n"
   ]
  },
  {
   "cell_type": "markdown",
   "id": "0842eb89-3e2a-481d-b7cd-69fe6df751de",
   "metadata": {},
   "source": [
    "## Q(5)"
   ]
  },
  {
   "cell_type": "code",
   "execution_count": 9,
   "id": "76a7352f-8c8c-46a8-8bfd-db6d55746740",
   "metadata": {},
   "outputs": [
    {
     "name": "stdout",
     "output_type": "stream",
     "text": [
      "90% Confidence Interval: (71.40, 78.60)\n"
     ]
    }
   ],
   "source": [
    "import scipy.stats as stats\n",
    "\n",
    "# Given data\n",
    "mean = 75\n",
    "std_dev = 12\n",
    "confidence_level = 0.90\n",
    "sample_size = 30  # Replace this with your actual sample size\n",
    "\n",
    "#  the standard error of the mean (SEM)\n",
    "sem = std_dev / (sample_size ** 0.5)\n",
    "\n",
    "# the margin of error (MOE)\n",
    "moe = stats.norm.ppf((1 + confidence_level) / 2) * sem\n",
    "\n",
    "# the confidence interval\n",
    "lower_limit = mean - moe\n",
    "upper_limit = mean + moe\n",
    "\n",
    "print(f\"90% Confidence Interval: ({lower_limit:.2f}, {upper_limit:.2f})\")\n"
   ]
  },
  {
   "cell_type": "markdown",
   "id": "3c66924e-3cb6-4069-a542-63ac6860e1c1",
   "metadata": {},
   "source": [
    "## Q(6)"
   ]
  },
  {
   "cell_type": "code",
   "execution_count": 10,
   "id": "aa94af49-715b-4e92-8b52-1b2a28858d04",
   "metadata": {},
   "outputs": [
    {
     "data": {
      "image/png": "[encoded data removed]",
      "text/plain": [
       "<Figure size 640x480 with 1 Axes>"
      ]
     },
     "metadata": {},
     "output_type": "display_data"
    }
   ],
   "source": [
    "import numpy as np\n",
    "import matplotlib.pyplot as plt\n",
    "import scipy.stats as stats\n",
    "\n",
    "# Degrees of freedom\n",
    "df = 10\n",
    "\n",
    "# Generate values for the chi-square distribution\n",
    "x = np.linspace(0, 30, 1000)\n",
    "y = stats.chi2.pdf(x, df)\n",
    "\n",
    "# Plot the chi-square distribution\n",
    "plt.plot(x, y, label=f'Chi-Square Distribution (df={df})')\n",
    "\n",
    "# Shade the area corresponding to a chi-square statistic of 15\n",
    "x_fill = np.linspace(15, 30, 100)\n",
    "y_fill = stats.chi2.pdf(x_fill, df)\n",
    "plt.fill_between(x_fill, y_fill, color='orange', alpha=0.5, label='Chi-Square Statistic = 15')\n",
    "\n",
    "# Label the axes and add a legend\n",
    "plt.xlabel('Chi-Square Statistic')\n",
    "plt.ylabel('Probability Density Function')\n",
    "plt.title('Chi-Square Distribution with 10 Degrees of Freedom')\n",
    "plt.legend()\n",
    "\n",
    "# Show the plot\n",
    "plt.show()\n"
   ]
  },
  {
   "cell_type": "markdown",
   "id": "a9d4629c-73ee-45a6-a57c-9c7a3866043c",
   "metadata": {},
   "source": [
    "## Q(7)"
   ]
  },
  {
   "cell_type": "markdown",
   "id": "9febf1e7-5903-4903-94ba-73db3a83cf61",
   "metadata": {},
   "source": [
    "To calculate a 99% confidence interval for the true proportion of people in the population who prefer Coke, we can use the following formula:\n",
    "\n",
    "Confidence interval=p^​+-zα/2​np^​(1−p^​)​​\n",
    "\n",
    "where p^​ is the sample proportion, zα/2​ is the z-critical value based on the confidence level, and n is the sample size.\n",
    "Given the sample data, we have:\n",
    "\n",
    "p^​=520/1000=0.52\n",
    "\n",
    "zα/2​=2.58 for a 99% confidence level 1\n",
    "n=1000\n",
    "\n",
    "Plugging these values into the formula, we get:\n",
    "Confidence interval=0.52 +- 2.5810000.52(1−0.52)​​\n",
    "Confidence interval=0.52+-0.04\n",
    "Confidence interval=(0.48,0.56)\n",
    "Therefore, we are 99% confident that the true proportion of people in the population who prefer Coke is between 0.48 and 0.56."
   ]
  },
  {
   "cell_type": "markdown",
   "id": "94852eb4-bd17-4989-94a3-833584772740",
   "metadata": {},
   "source": [
    "## Q(8)"
   ]
  },
  {
   "cell_type": "code",
   "execution_count": 11,
   "id": "92b91182-bbb9-4289-928d-d4f7900592f2",
   "metadata": {},
   "outputs": [
    {
     "name": "stdout",
     "output_type": "stream",
     "text": [
      "Chi-square statistic: 1.0000\n",
      "P-value: 0.3173\n",
      "Fail to reject the null hypothesis. The coin may be fair.\n"
     ]
    }
   ],
   "source": [
    "import numpy as np\n",
    "from scipy.stats import chisquare\n",
    "\n",
    "# Given data\n",
    "observed_tails = 45\n",
    "expected_tails = 50  # Expected tails for a fair coin\n",
    "sample_size = 100\n",
    "\n",
    "# Calculate observed and expected frequencies\n",
    "observed_frequencies = np.array([observed_tails, sample_size - observed_tails])\n",
    "expected_frequencies = np.array([expected_tails, sample_size - expected_tails])\n",
    "\n",
    "# the chi-square goodness-of-fit test\n",
    "chi2_stat, p_value = chisquare(f_obs=observed_frequencies, f_exp=expected_frequencies)\n",
    "\n",
    "# Compare p-value to the significance level\n",
    "alpha = 0.05\n",
    "print(f\"Chi-square statistic: {chi2_stat:.4f}\")\n",
    "print(f\"P-value: {p_value:.4f}\")\n",
    "\n",
    "if p_value < alpha:\n",
    "    print(\"Reject the null hypothesis. The coin may be biased towards tails.\")\n",
    "else:\n",
    "    print(\"Fail to reject the null hypothesis. The coin may be fair.\")\n"
   ]
  },
  {
   "cell_type": "markdown",
   "id": "a7638d07-182a-4996-a39f-3e6c488242ea",
   "metadata": {},
   "source": [
    "## Q(9)"
   ]
  },
  {
   "cell_type": "code",
   "execution_count": 14,
   "id": "a08c8065-705e-4875-8edc-527b25df41da",
   "metadata": {},
   "outputs": [
    {
     "name": "stdout",
     "output_type": "stream",
     "text": [
      "Chi-square statistic: 36.3783\n",
      "P-value: 0.0000\n",
      "Degrees of freedom: 4\n",
      "Reject the null hypothesis. There is a significant association between smoking status and lung cancer diagnosis.\n"
     ]
    }
   ],
   "source": [
    "import numpy as np\n",
    "from scipy.stats import chi2_contingency\n",
    "\n",
    "# Contingency table data\n",
    "observed_data = np.array([[20, 15], [10, 25], [15, 20], [60, 140], [30, 170]])\n",
    "\n",
    "# Perform the chi-square test for independence\n",
    "chi2_stat, p_value, dof, expected = chi2_contingency(observed_data)\n",
    "\n",
    "# Significance level\n",
    "alpha = 0.05\n",
    "\n",
    "print(f\"Chi-square statistic: {chi2_stat:.4f}\")\n",
    "print(f\"P-value: {p_value:.4f}\")\n",
    "print(f\"Degrees of freedom: {dof}\")\n",
    "\n",
    "if p_value < alpha:\n",
    "    print(\"Reject the null hypothesis. There is a significant association between smoking status and lung cancer diagnosis.\")\n",
    "else:\n",
    "    print(\"Fail to reject the null hypothesis. There is no significant association between smoking status and lung cancer diagnosis.\")\n"
   ]
  },
  {
   "cell_type": "markdown",
   "id": "f8015a64-1988-4077-a525-c33c1e9a3cc5",
   "metadata": {},
   "source": [
    "## Q(10)"
   ]
  },
  {
   "cell_type": "code",
   "execution_count": 15,
   "id": "71d68c9a-4c17-4882-8a60-469078939ed9",
   "metadata": {},
   "outputs": [
    {
     "name": "stdout",
     "output_type": "stream",
     "text": [
      "Chi-square statistic: 13.3937\n",
      "P-value: 0.0012\n",
      "Degrees of freedom: 2\n",
      "Reject the null hypothesis. There is a significant association between chocolate preference and country of origin.\n"
     ]
    }
   ],
   "source": [
    "import numpy as np\n",
    "from scipy.stats import chi2_contingency\n",
    "\n",
    "# Contingency table data\n",
    "observed_data = np.array([[200, 150, 150], [225, 175, 100]])\n",
    "\n",
    "# Perform the chi-square test for independence\n",
    "chi2_stat, p_value, dof, expected = chi2_contingency(observed_data)\n",
    "\n",
    "# Significance level\n",
    "alpha = 0.01\n",
    "\n",
    "\n",
    "print(f\"Chi-square statistic: {chi2_stat:.4f}\")\n",
    "print(f\"P-value: {p_value:.4f}\")\n",
    "print(f\"Degrees of freedom: {dof}\")\n",
    "\n",
    "if p_value < alpha:\n",
    "    print(\"Reject the null hypothesis. There is a significant association between chocolate preference and country of origin.\")\n",
    "else:\n",
    "    print(\"Fail to reject the null hypothesis. There is no significant association between chocolate preference and country of origin.\")\n"
   ]
  },
  {
   "cell_type": "markdown",
   "id": "dfe417e4-f9a2-4d4f-a2d8-fc7389f966e8",
   "metadata": {},
   "source": [
    "## Q(11)"
   ]
  },
  {
   "cell_type": "code",
   "execution_count": 16,
   "id": "8484784a-5fed-4693-8489-d929422765a5",
   "metadata": {},
   "outputs": [
    {
     "name": "stdout",
     "output_type": "stream",
     "text": [
      "T-statistic: 1.0954\n",
      "Critical t-values: (-2.0452, 2.0452)\n",
      "Fail to reject the null hypothesis. There is no significant difference in the population mean.\n"
     ]
    }
   ],
   "source": [
    "from scipy.stats import t\n",
    "\n",
    "sample_mean = 72\n",
    "sample_std_dev = 10\n",
    "sample_size = 30\n",
    "population_mean = 70\n",
    "\n",
    "t_stat = (sample_mean - population_mean) / (sample_std_dev / (sample_size ** 0.5))\n",
    "\n",
    "# Degrees of freedom\n",
    "degrees_of_freedom = sample_size - 1\n",
    "\n",
    "# Significance level\n",
    "alpha = 0.05\n",
    "\n",
    "# Calculate the critical t-values (two-tailed)\n",
    "critical_t_value_lower = t.ppf(alpha / 2, degrees_of_freedom)\n",
    "critical_t_value_upper = t.ppf(1 - alpha / 2, degrees_of_freedom)\n",
    "\n",
    "print(f\"T-statistic: {t_stat:.4f}\")\n",
    "print(f\"Critical t-values: ({critical_t_value_lower:.4f}, {critical_t_value_upper:.4f})\")\n",
    "\n",
    "if t_stat < critical_t_value_lower or t_stat > critical_t_value_upper:\n",
    "    print(\"Reject the null hypothesis. The population mean is significantly different from 70.\")\n",
    "else:\n",
    "    print(\"Fail to reject the null hypothesis. There is no significant difference in the population mean.\")\n"
   ]
  },
  {
   "cell_type": "code",
   "execution_count": null,
   "id": "5a7f18a6-5147-4bfd-a4be-cbd6635726de",
   "metadata": {},
   "outputs": [],
   "source": []
  },
  {
   "cell_type": "code",
   "execution_count": null,
   "id": "e9fada8b-35b0-4710-8217-24f6c8dd01d6",
   "metadata": {},
   "outputs": [],
   "source": []
  },
  {
   "cell_type": "code",
   "execution_count": null,
   "id": "25988e38-622b-40f5-8d37-c2b028c11b3a",
   "metadata": {},
   "outputs": [],
   "source": []
  }
 ],
 "metadata": {
  "kernelspec": {
   "display_name": "Python 3 (ipykernel)",
   "language": "python",
   "name": "python3"
  },
  "language_info": {
   "codemirror_mode": {
    "name": "ipython",
    "version": 3
   },
   "file_extension": ".py",
   "mimetype": "text/x-python",
   "name": "python",
   "nbconvert_exporter": "python",
   "pygments_lexer": "ipython3",
   "version": "3.10.8"
  }
 },
 "nbformat": 4,
 "nbformat_minor": 5
}
