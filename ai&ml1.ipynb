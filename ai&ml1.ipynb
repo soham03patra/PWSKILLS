{
 "cells": [
  {
   "cell_type": "markdown",
   "id": "4923390e-52cd-4d5f-9179-aede049831fc",
   "metadata": {},
   "source": [
    "###\n",
    "Q(1)"
   ]
  },
  {
   "cell_type": "markdown",
   "id": "d99b32cf-7ccc-4ebb-9713-03d439e0b788",
   "metadata": {},
   "source": [
    "Artificial intelligence (AI) is the broad concept that machines and robots can carry out tasks in ways that are similar to humans, in ways that humans deem “smart.” It is the theory that computers can replicate human intelligence and “think.” For example, AI can be used to create digital assistants, such as Siri or Alexa, that can understand natural language and respond to user queries.\n",
    "\n",
    "Machine learning (ML) is a subfield of AI that uses algorithms trained on data to produce adaptable models that can perform a variety of complex tasks. Machine learning algorithms leverage structured, labeled data to make predictions—meaning that specific features are defined from the input data for the model and organized into tables. For example, machine learning can be used to recommend products to customers based on their purchase history, detect spam emails based on keywords, or classify images based on their content\n",
    "\n",
    "Deep learning is a subset of machine learning that uses several layers within neural networks to do some of the most complex ML tasks without any human intervention. Deep learning eliminates some of data pre-processing that is typically involved with machine learning. These algorithms can ingest and process unstructured data, like text and images, and it automates feature extraction, removing some of the dependency on human experts. For example, deep learning can be used to generate realistic images, translate languages, or recognize speech."
   ]
  },
  {
   "cell_type": "markdown",
   "id": "78dbd2e8-0da9-4030-a7fe-f54bea47c485",
   "metadata": {},
   "source": [
    "###\n",
    "Q(2)"
   ]
  },
  {
   "cell_type": "markdown",
   "id": "e6d91503-d36b-4ab7-a9ca-43a1fd53321a",
   "metadata": {},
   "source": [
    "Supervised learning is a type of machine learning that uses labeled data to train a model that can make predictions or classifications. Labeled data means that the input data has a known output value, such as a category or a number. The model learns from the training data and then applies its knowledge to new data that it has not seen before. Some examples of supervised learning are:\n",
    "\n",
    "Spam detection: A model can learn to classify emails as spam or not spam based on features such as the sender, the subject, the keywords, etc. The training data consists of emails that are labeled as spam or not spam by humans. The model can then use this information to filter out unwanted emails from the inbox1\n",
    "Image recognition: A model can learn to recognize objects or faces in images based on features such as the shape, the color, the texture, etc. The training data consists of images that are labeled with the name of the object or the person in them by humans. The model can then use this information to identify new images that it has not seen before.\n",
    "\n",
    "Sentiment analysis: A model can learn to analyze the sentiment or emotion of a text based on features such as the words, the punctuation, the tone, etc. The training data consists of texts that are labeled with the sentiment or emotion they express by humans. The model can then use this information to determine the sentiment or emotion of new texts that it has not seen before"
   ]
  },
  {
   "cell_type": "markdown",
   "id": "d9c7fc66-0c3b-46b1-b553-dc8c97c9d7cf",
   "metadata": {},
   "source": [
    "###\n",
    "Q(3)"
   ]
  },
  {
   "cell_type": "markdown",
   "id": "3150f7b9-39c0-4cf4-9577-4238a0f9d29c",
   "metadata": {},
   "source": [
    "Unsupervised learning is a type of machine learning that does not use any labeled data to train a model, but instead tries to discover hidden patterns and structure in the data by itself. Unsupervised learning can be used to explore and cluster data, reduce the dimensionality of data, or generate new data. Some examples of unsupervised learning are:\n",
    "\n",
    "Clustering: This is the process of grouping similar data points together based on their features or distance. Clustering can be used to segment customers, identify anomalies, or find topics in text. For example, unsupervised learning can be used to organize computing clusters based on the geographic areas of web requests received from a specific area of the world.\n",
    "\n",
    "Dimensionality reduction: This is the process of reducing the number of features or variables in a dataset while preserving its essential information. Dimensionality reduction can be used to visualize high-dimensional data, remove noise, or improve performance. For example, unsupervised learning can be used to compress images, extract keywords, or find latent factors.\n",
    "\n",
    "Generative modeling: This is the process of creating new data that resembles the original data distribution. Generative modeling can be used to augment data, synthesize data, or transfer styles. For example, unsupervised learning can be used to generate realistic images, translate languages, or recognize speech."
   ]
  },
  {
   "cell_type": "markdown",
   "id": "2953cf48-9f58-44ba-9f0d-873c37addea1",
   "metadata": {},
   "source": [
    "###\n",
    "Q(4)"
   ]
  },
  {
   "cell_type": "markdown",
   "id": "cd48bdea-87a4-42b2-be15-9614b5342165",
   "metadata": {},
   "source": [
    "AI is the broadest concept of all, and gives a machine the ability to imitate human behaviour. AI is the theory that computers can replicate human intelligence and “think.”1 AI can be used to create digital assistants, play chess, recognize faces, or diagnose diseases.\n",
    "\n",
    "ML is the application of AI into a system or machine, which helps it to self-learn and improve continually. ML is a subfield of AI that uses algorithms trained on data to produce adaptable models that can perform a variety of complex tasks.2 ML can be used to recommend products, detect spam, or classify images.\n",
    "\n",
    "DL is a subset of ML that uses several layers within neural networks to do some of the most complex ML tasks without any human intervention. DL uses complex algorithms and artificial neural networks designed to imitate how humans think and learn.3 DL can be used to generate realistic images, translate languages, or recognize speech.\n",
    "\n",
    "DS is a broad field of study about data systems and processes aimed at maintaining data sets and deriving meaning from them. DS is a data-driven technique and each of DS, ML and DL have processes that relate to data or big data, contextually.4 DS uses math, programming, and business analysis to produce insights from vast volumes of data. DS can be used to guide business processes and reach organizational goals."
   ]
  },
  {
   "cell_type": "markdown",
   "id": "bb635799-cc28-4c38-b048-7ac0e2657307",
   "metadata": {},
   "source": [
    "###\n",
    "Q(5)"
   ]
  },
  {
   "cell_type": "markdown",
   "id": "aaceea9d-7881-463f-bdc4-fa877962eab8",
   "metadata": {},
   "source": [
    "Supervised, unsupervised, and semi-supervised learning are three types of machine learning techniques that differ in how they use data to train a model. Here are the main differences between them:\n",
    "\n",
    "Supervised learning uses labeled data, which means that the input data has a known output value, such as a category or a number. The model learns from the training data and then applies its knowledge to new data that it has not seen before. The goal of supervised learning is to make accurate predictions or classifications based on the input features. Some examples of supervised learning are spam detection, image recognition, and sentiment analysis.\n",
    "\n",
    "Unsupervised learning does not use any labeled data, but instead tries to discover hidden patterns and structure in the data by itself. The model does not have any feedback or guidance from the output values, but rather learns from the intrinsic properties of the data. The goal of unsupervised learning is to explore and cluster data, reduce the dimensionality of data, or generate new data. Some examples of unsupervised learning are clustering, dimensionality reduction, and generative modeling.\n",
    "\n",
    "Semi-supervised learning takes a middle ground between supervised and unsupervised learning. It uses a small amount of labeled data bolstering a larger set of unlabeled data. The model leverages both types of data to improve its performance and generalization. The goal of semi-supervised learning is to use the unlabeled data to enhance the learning process and reduce the dependency on labeled data. Some examples of semi-supervised learning are self-training, co-training, and graph-based methods."
   ]
  },
  {
   "cell_type": "markdown",
   "id": "cee1e4bc-3e5e-4e67-bd48-09d640f68555",
   "metadata": {},
   "source": [
    "### Q(6)"
   ]
  },
  {
   "cell_type": "markdown",
   "id": "7b0e8e8a-162e-4a4d-afaf-44659b17f348",
   "metadata": {},
   "source": [
    "Train, test and validation split is a common way of dividing a dataset into different subsets for different purposes in machine learning. The importance of each term is as follows:\n",
    "\n",
    "Train: This is the largest subset of the dataset that is used to train the model. The model learns from the input features and the output labels of the training data, and tries to minimize the error or loss function. The training set is important because it provides the data that the model needs to learn from and improve its performance. \n",
    "However, the model may overfit to the training set, meaning that it memorizes the data and does not generalize well to new data. Therefore, we need other subsets to evaluate the model and prevent overfitting.\n",
    "\n",
    "Test: This is a subset of the dataset that is used to evaluate the final performance of the model after it has been trained. The model does not have access to the test data during training, so it cannot learn from it or adjust its parameters based on it. The test set is important because it provides an unbiased estimate of how well the model can perform on new data that it has never seen before. The test set should only be used once at the end of the training process, and not for tuning or selecting the model.\n",
    "\n",
    "Validation: This is a subset of the dataset that is used to tune and select the best model during training. The model can use the validation data to check its performance and adjust its hyperparameters, such as learning rate, number of layers, etc. The validation set is important because it helps to find the optimal configuration of the model that can achieve the best results on unseen data. The validation set should be used frequently during training, but not as often as the training set."
   ]
  },
  {
   "cell_type": "markdown",
   "id": "746eed25-7214-44b5-9f84-3112a3ef6dea",
   "metadata": {},
   "source": [
    "### Q(7)"
   ]
  },
  {
   "cell_type": "markdown",
   "id": "5ef40ef5-1f46-4f5f-9c4d-363d1de8fe99",
   "metadata": {},
   "source": [
    "Unsupervised learning is a type of machine learning that does not use any labeled data to train a model, but instead tries to discover hidden patterns and structure in the data by itself. Unsupervised learning can be used for anomaly detection, which is the task of identifying abnormal or unusual observations in a dataset. Anomaly detection can be useful for various applications, such as fraud detection, fault detection, intrusion detection, or medical diagnosis.\n",
    "\n",
    "There are different ways to use unsupervised learning for anomaly detection, depending on the assumptions and methods used. Some of the common approaches are:\n",
    "\n",
    "Clustering: This is the process of grouping similar data points together based on their features or distance. Clustering can be used to segment data into normal and anomalous clusters, or to detect outliers that do not belong to any cluster. For example, unsupervised learning can be used to organize computing clusters based on the geographic areas of web requests received from a specific area of the world.\n",
    "\n",
    "Dimensionality reduction: This is the process of reducing the number of features or variables in a dataset while preserving its essential information. Dimensionality reduction can be used to project high-dimensional data into a lower-dimensional space, where anomalies can be more easily detected or visualized. For example, unsupervised learning can be used to compress images, extract keywords, or find latent factors.\n",
    "\n",
    "Generative modeling: This is the process of creating new data that resembles the original data distribution. Generative modeling can be used to measure how likely a new observation is generated by the model, and assign a score of abnormality based on that likelihood. For example, unsupervised learning can be used to generate realistic images, translate languages, or recognize speech."
   ]
  },
  {
   "cell_type": "markdown",
   "id": "f163489b-4549-4ad0-8235-4e671c7a7e2f",
   "metadata": {},
   "source": [
    "### Q(8)"
   ]
  },
  {
   "cell_type": "markdown",
   "id": "28d6361e-4a37-486c-8e6c-e0f809966f52",
   "metadata": {},
   "source": [
    "Some commonly used supervised learning algorithms are:\n",
    "\n",
    "Linear regression: This is a regression algorithm that models the relationship between one or more input variables (x) and a continuous output variable (y) as a linear function. For example, linear regression can be used to predict the house price based on the size, location, and number of rooms\n",
    "\n",
    "Random forest: This is a classification and regression algorithm that uses an ensemble of decision trees to make predictions. Each decision tree is trained on a random subset of the data and features, and the final prediction is obtained by averaging or voting the predictions of all the trees. For example, random forest can be used to classify images based on their content or to predict the survival rate of Titanic passengers\n",
    "\n",
    "Support vector machine: This is a classification algorithm that finds the optimal hyperplane that separates the data into two or more classes with the maximum margin. The hyperplane can be linear or nonlinear, depending on the kernel function used. For example, support vector machine can be used to classify handwritten digits or to detect spam emails\n",
    "\n",
    "Some commonly used unsupervised learning algorithms are:\n",
    "\n",
    "Principal component analysis: This is a dimensionality reduction algorithm that transforms a set of correlated features into a set of uncorrelated components that capture most of the variance in the data. The components are ordered by their importance, and the lower ones can be discarded to reduce the complexity and noise in the data. \n",
    "\n",
    "For example, principal component analysis can be used to compress images, extract keywords, or find latent factors\n",
    "K-means clustering: This is a clustering algorithm that partitions the data into k groups based on their similarity. The algorithm assigns each data point to the nearest cluster center, and updates the cluster centers by taking the mean of all the points in each cluster. The algorithm repeats this process until the cluster assignments do not change or a maximum number of iterations is reached. For example, k-means clustering can be used to segment customers, identify anomalies, or find topics in text\n",
    "\n",
    "Apriori algorithm: This is an association rule mining algorithm that finds frequent itemsets and rules in transactional data. The algorithm uses a bottom-up approach, starting from single items and extending them to larger itemsets based on their support and confidence. The algorithm prunes the itemsets that do not satisfy a minimum threshold of support and confidence. For example, apriori algorithm can be used to discover market basket patterns, web usage patterns, or bioinformatics patterns"
   ]
  },
  {
   "cell_type": "code",
   "execution_count": null,
   "id": "93690ec4-177a-46e0-ab64-f282a12af32e",
   "metadata": {},
   "outputs": [],
   "source": []
  }
 ],
 "metadata": {
  "kernelspec": {
   "display_name": "Python 3 (ipykernel)",
   "language": "python",
   "name": "python3"
  },
  "language_info": {
   "codemirror_mode": {
    "name": "ipython",
    "version": 3
   },
   "file_extension": ".py",
   "mimetype": "text/x-python",
   "name": "python",
   "nbconvert_exporter": "python",
   "pygments_lexer": "ipython3",
   "version": "3.10.8"
  }
 },
 "nbformat": 4,
 "nbformat_minor": 5
}
