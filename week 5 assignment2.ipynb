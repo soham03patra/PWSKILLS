{
 "cells": [
  {
   "cell_type": "markdown",
   "id": "40dc7413-1ac0-4bc2-809a-6c05322d8ee4",
   "metadata": {},
   "source": [
    "1) Built-in exceptions offer information about Python-related problems, and custom exceptions will add information about project-related problems.\n"
   ]
  },
  {
   "cell_type": "code",
   "execution_count": 1,
   "id": "54eb3cc6-3fcc-45db-8428-57cea64ff0ee",
   "metadata": {},
   "outputs": [
    {
     "name": "stdout",
     "output_type": "stream",
     "text": [
      "unsupported operand type(s) for -: 'int' and 'str'\n"
     ]
    }
   ],
   "source": [
    "try:\n",
    "    123-\"soham\"\n",
    "except Exception as e:\n",
    "    print(e)\n",
    "    "
   ]
  },
  {
   "cell_type": "markdown",
   "id": "a6000ec9-b230-4e16-a035-a60fef2e3a9f",
   "metadata": {},
   "source": [
    "3)ArithmeticError types in Python include: a) OverFlowError. b) ZeroDivisionError. c) FloatingPointError."
   ]
  },
  {
   "cell_type": "code",
   "execution_count": 2,
   "id": "8b4de209-bec8-4c42-9d95-471034f51db0",
   "metadata": {},
   "outputs": [],
   "source": [
    "try:\n",
    "    result = 3/0.1\n",
    "except FloatingPointError as e:\n",
    "    print(\"FloatingPointError:\", e)\n"
   ]
  },
  {
   "cell_type": "code",
   "execution_count": 3,
   "id": "a1b023b4-9f6d-4513-84a7-d41640d90c7a",
   "metadata": {},
   "outputs": [
    {
     "name": "stdout",
     "output_type": "stream",
     "text": [
      "ZeroDivisionError: division by zero\n"
     ]
    }
   ],
   "source": [
    "try:\n",
    "    result = 10 / 0  # Division by zero\n",
    "except ZeroDivisionError as e:\n",
    "    print(\"ZeroDivisionError:\", e)\n"
   ]
  },
  {
   "cell_type": "markdown",
   "id": "c001fc1b-9c19-4814-ae1b-0a0bad935d4b",
   "metadata": {},
   "source": [
    "4) LookupError Exception is the Base class for errors raised when something can't be found."
   ]
  },
  {
   "cell_type": "code",
   "execution_count": 22,
   "id": "3c566546-3f9d-4725-ab77-42e48b09380b",
   "metadata": {},
   "outputs": [
    {
     "name": "stdout",
     "output_type": "stream",
     "text": [
      "'key1'\n"
     ]
    }
   ],
   "source": [
    "try:\n",
    "    d={\"key\":\"soham\", \"l1\":\"kumar\"}\n",
    "    print(d[\"key1\"])\n",
    "except KeyError as e:\n",
    "    print(e)"
   ]
  },
  {
   "cell_type": "code",
   "execution_count": 18,
   "id": "27296402-f42d-422d-9b75-e2abc2d05079",
   "metadata": {},
   "outputs": [
    {
     "name": "stdout",
     "output_type": "stream",
     "text": [
      "list index out of range\n"
     ]
    }
   ],
   "source": [
    "try:\n",
    "    l=[1,2,3,4,5]\n",
    "    print(l[5])\n",
    "except IndexError as e :\n",
    "    print(e)"
   ]
  },
  {
   "cell_type": "markdown",
   "id": "32a8076d-96b3-408a-b5db-a713aab6145b",
   "metadata": {},
   "source": [
    "5) Python's ImportError ( ModuleNotFoundError ) indicates that you tried to import a module that Python doesn't find\n",
    "\n",
    "The 'module not found' error is a syntax error that appears when the static import statement cannot find the file at the declared path."
   ]
  },
  {
   "cell_type": "markdown",
   "id": "2ec095b8-d2c1-47ca-b043-066992ce4701",
   "metadata": {},
   "source": [
    "6) \n",
    "a)Use Exceptions for Exceptional Cases\n",
    "b)Don't Swallow the Exception\n",
    "c)Catch Specific Exceptions\n",
    "d)Always Clean Up Resources in a Finally Block\n",
    "e)Avoid Raising Generic Exceptions\n",
    "f)Raise Custom Exceptions\n",
    "g)Define Your Own Exception Hierarchy"
   ]
  },
  {
   "cell_type": "code",
   "execution_count": null,
   "id": "1b50f9eb-9d3b-45a1-a975-789c77ee666b",
   "metadata": {},
   "outputs": [],
   "source": []
  }
 ],
 "metadata": {
  "kernelspec": {
   "display_name": "Python 3 (ipykernel)",
   "language": "python",
   "name": "python3"
  },
  "language_info": {
   "codemirror_mode": {
    "name": "ipython",
    "version": 3
   },
   "file_extension": ".py",
   "mimetype": "text/x-python",
   "name": "python",
   "nbconvert_exporter": "python",
   "pygments_lexer": "ipython3",
   "version": "3.10.8"
  }
 },
 "nbformat": 4,
 "nbformat_minor": 5
}
