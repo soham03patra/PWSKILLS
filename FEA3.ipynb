{
 "cells": [
  {
   "cell_type": "markdown",
   "id": "cf7fc1b3-1710-4c5e-bc58-6c4ef79e3705",
   "metadata": {},
   "source": [
    "## Q(1)"
   ]
  },
  {
   "cell_type": "markdown",
   "id": "07a17bb5-d939-4b32-93dd-2bb9b7536670",
   "metadata": {},
   "source": [
    "Data encoding is the process of converting data from one form or format to another. In the context of data science, encoding is particularly relevant when dealing with categorical variables, which are variables that can take on a limited, fixed number of values.\n",
    "\n",
    "urpose of Data Encoding in Data Science:\n",
    "\n",
    "Machine Learning Algorithms:\n",
    "\n",
    "Many machine learning algorithms require numerical input. Encoding categorical variables allows you to represent these variables with numerical values, making it possible to use them as features in machine learning models.\n",
    "\n",
    "Feature Representation:\n",
    "\n",
    "Encoding helps convert non-numeric data into a format that can be easily fed into algorithms for analysis. This is crucial for creating meaningful features that contribute to the predictive power of a model.\n",
    "\n",
    "Distance Computations:\n",
    "\n",
    "In various machine learning algorithms, such as clustering or nearest neighbors, the concept of distance is fundamental. Encoding categorical variables allows these algorithms to calculate distances between data points.\n",
    "\n",
    "Preventing Misinterpretation:\n",
    "\n",
    "Without proper encoding, a model might misinterpret categorical variables as having an ordinal relationship or a numerical significance that does not exist. Encoding prevents such misinterpretations."
   ]
  },
  {
   "cell_type": "markdown",
   "id": "2e887b8e-5acf-439e-be53-5ca9eed1837f",
   "metadata": {},
   "source": [
    "## Q(2)"
   ]
  },
  {
   "cell_type": "markdown",
   "id": "c48f5b53-ab0e-4b96-ba18-7c6d2aa5ba8a",
   "metadata": {},
   "source": [
    "Nominal encoding is a type of encoding used for categorical variables where there is no inherent order or ranking among the categories. In nominal encoding, each category is assigned a unique integer, and these integers do not imply any particular order or magnitude. The primary goal is to represent each category as a distinct label, allowing machine learning models to interpret and process the categorical variable appropriately."
   ]
  },
  {
   "cell_type": "code",
   "execution_count": 2,
   "id": "4a895108-0019-41c2-a07f-6d21c5835467",
   "metadata": {},
   "outputs": [],
   "source": [
    "import pandas as pd"
   ]
  },
  {
   "cell_type": "code",
   "execution_count": 3,
   "id": "1482ec6a-2f55-42e1-ab99-31b0f743426c",
   "metadata": {},
   "outputs": [],
   "source": [
    "data = {\n",
    "    'CarID': [1, 2, 3, 4, 5],\n",
    "    'Color': ['Red', 'Blue', 'Green', 'Red', 'Blue'],\n",
    "    'Price': [25000, 28000, 22000, 30000, 26000],\n",
    "    'Mileage': [30000, 35000, 25000, 40000, 32000]\n",
    "}\n"
   ]
  },
  {
   "cell_type": "code",
   "execution_count": 4,
   "id": "21bf6d82-cce7-4aa3-be10-67770872559a",
   "metadata": {},
   "outputs": [],
   "source": [
    "df = pd.DataFrame(data)"
   ]
  },
  {
   "cell_type": "code",
   "execution_count": 9,
   "id": "799e8298-53a0-4c5b-ac5c-abd2f0ad6c89",
   "metadata": {},
   "outputs": [],
   "source": [
    "df['Color(Encoded)'] = pd.factorize(df['Color'])[0] + 1"
   ]
  },
  {
   "cell_type": "code",
   "execution_count": 10,
   "id": "91c9ec2f-402c-456b-a326-056471218af2",
   "metadata": {},
   "outputs": [
    {
     "name": "stdout",
     "output_type": "stream",
     "text": [
      "   CarID  Color (Encoded)  Price  Mileage\n",
      "0      1                1  25000    30000\n",
      "1      2                2  28000    35000\n",
      "2      3                3  22000    25000\n",
      "3      4                1  30000    40000\n",
      "4      5                2  26000    32000\n"
     ]
    }
   ],
   "source": [
    "print(df[['CarID', 'Color (Encoded)', 'Price', 'Mileage']])"
   ]
  },
  {
   "cell_type": "markdown",
   "id": "d1e8d9f3-98d6-450f-95f3-901d4b9bae60",
   "metadata": {},
   "source": [
    "## Q(3)"
   ]
  },
  {
   "cell_type": "markdown",
   "id": "7377d374-baeb-42fe-8c5c-41f4fc5a1564",
   "metadata": {},
   "source": [
    "Nominal encoding is preferred over one-hot encoding in situations where the categorical variable has a large number of categories, and the cardinality (number of unique categories) is high. One-hot encoding, which creates a binary column for each category, can lead to a high-dimensional and sparse representation of the data, especially when dealing with many categories. This high dimensionality may result in increased computational complexity and memory usage."
   ]
  },
  {
   "cell_type": "code",
   "execution_count": 1,
   "id": "6f6bc582-aa4e-43d4-8798-323a4a721768",
   "metadata": {},
   "outputs": [],
   "source": [
    "import pandas as pd"
   ]
  },
  {
   "cell_type": "code",
   "execution_count": 2,
   "id": "5592d134-51c0-44f8-9f32-0b2fd395191f",
   "metadata": {},
   "outputs": [],
   "source": [
    "data = {\n",
    "    'ProductID': [1, 2, 3, 4, 5],\n",
    "    'Category': ['Electronics', 'Clothing', 'Electronics', 'Furniture', 'Clothing'],\n",
    "    'Price': [500, 30, 700, 1200, 50],\n",
    "    'Sales': [100, 500, 80, 50, 300]\n",
    "}"
   ]
  },
  {
   "cell_type": "code",
   "execution_count": 10,
   "id": "e96eee43-487c-4e10-aa9b-f562355afb0d",
   "metadata": {},
   "outputs": [
    {
     "data": {
      "text/html": [
       "<div>\n",
       "<style scoped>\n",
       "    .dataframe tbody tr th:only-of-type {\n",
       "        vertical-align: middle;\n",
       "    }\n",
       "\n",
       "    .dataframe tbody tr th {\n",
       "        vertical-align: top;\n",
       "    }\n",
       "\n",
       "    .dataframe thead th {\n",
       "        text-align: right;\n",
       "    }\n",
       "</style>\n",
       "<table border=\"1\" class=\"dataframe\">\n",
       "  <thead>\n",
       "    <tr style=\"text-align: right;\">\n",
       "      <th></th>\n",
       "      <th>ProductID</th>\n",
       "      <th>Category</th>\n",
       "      <th>Price</th>\n",
       "      <th>Sales</th>\n",
       "    </tr>\n",
       "  </thead>\n",
       "  <tbody>\n",
       "    <tr>\n",
       "      <th>0</th>\n",
       "      <td>1</td>\n",
       "      <td>Electronics</td>\n",
       "      <td>500</td>\n",
       "      <td>100</td>\n",
       "    </tr>\n",
       "    <tr>\n",
       "      <th>1</th>\n",
       "      <td>2</td>\n",
       "      <td>Clothing</td>\n",
       "      <td>30</td>\n",
       "      <td>500</td>\n",
       "    </tr>\n",
       "    <tr>\n",
       "      <th>2</th>\n",
       "      <td>3</td>\n",
       "      <td>Electronics</td>\n",
       "      <td>700</td>\n",
       "      <td>80</td>\n",
       "    </tr>\n",
       "    <tr>\n",
       "      <th>3</th>\n",
       "      <td>4</td>\n",
       "      <td>Furniture</td>\n",
       "      <td>1200</td>\n",
       "      <td>50</td>\n",
       "    </tr>\n",
       "    <tr>\n",
       "      <th>4</th>\n",
       "      <td>5</td>\n",
       "      <td>Clothing</td>\n",
       "      <td>50</td>\n",
       "      <td>300</td>\n",
       "    </tr>\n",
       "  </tbody>\n",
       "</table>\n",
       "</div>"
      ],
      "text/plain": [
       "   ProductID     Category  Price  Sales\n",
       "0          1  Electronics    500    100\n",
       "1          2     Clothing     30    500\n",
       "2          3  Electronics    700     80\n",
       "3          4    Furniture   1200     50\n",
       "4          5     Clothing     50    300"
      ]
     },
     "execution_count": 10,
     "metadata": {},
     "output_type": "execute_result"
    }
   ],
   "source": [
    "pd.DataFrame(data)"
   ]
  },
  {
   "cell_type": "code",
   "execution_count": 4,
   "id": "0ce0d35d-3b58-4204-8227-c17406aaa73a",
   "metadata": {},
   "outputs": [],
   "source": [
    "df = pd.DataFrame(data)"
   ]
  },
  {
   "cell_type": "code",
   "execution_count": 7,
   "id": "28e6058f-0a09-4e7e-813c-f24c23752534",
   "metadata": {},
   "outputs": [],
   "source": [
    "df['Category(encoded)']= pd.factorize(df['Category'])[0]+1"
   ]
  },
  {
   "cell_type": "code",
   "execution_count": 9,
   "id": "8f223efc-9a51-4720-8468-eac6ba836e80",
   "metadata": {},
   "outputs": [
    {
     "name": "stdout",
     "output_type": "stream",
     "text": [
      "   ProductID  Category(encoded)  Price  Sales\n",
      "0          1                  1    500    100\n",
      "1          2                  2     30    500\n",
      "2          3                  1    700     80\n",
      "3          4                  3   1200     50\n",
      "4          5                  2     50    300\n"
     ]
    }
   ],
   "source": [
    "print(df[['ProductID','Category(encoded)','Price','Sales']])"
   ]
  },
  {
   "cell_type": "markdown",
   "id": "a7a5583d-cbdd-4004-902a-9d78ffe74bdf",
   "metadata": {},
   "source": [
    "## Q(4)"
   ]
  },
  {
   "cell_type": "markdown",
   "id": "83e77199-2830-463c-8b4d-05061fc17886",
   "metadata": {},
   "source": [
    "If the categorical data has no inherent order or ranking among the 5 unique values, and the relationship between the categories is purely nominal, then nominal encoding (e.g., label encoding) would be the suitable choice. This ensures that the machine learning algorithm doesn't interpret any unintended ordinal relationship between the categories."
   ]
  },
  {
   "cell_type": "code",
   "execution_count": 12,
   "id": "dac5d693-41a1-4a43-a52b-6a7042e5a74d",
   "metadata": {},
   "outputs": [
    {
     "name": "stdout",
     "output_type": "stream",
     "text": [
      "   Category (Encoded)\n",
      "0                   1\n",
      "1                   2\n",
      "2                   3\n",
      "3                   4\n",
      "4                   5\n"
     ]
    }
   ],
   "source": [
    "\n",
    "import pandas as pd\n",
    "\n",
    "data = {'Category': ['Red', 'Blue', 'Green', 'Yellow', 'Purple']}\n",
    "df = pd.DataFrame(data)\n",
    "\n",
    "df['Category (Encoded)'] = pd.factorize(df['Category'])[0] + 1\n",
    "\n",
    "print(df[['Category (Encoded)']])\n"
   ]
  },
  {
   "cell_type": "markdown",
   "id": "db13ce82-5085-4b65-9fe1-a0be9b7b66b8",
   "metadata": {},
   "source": [
    "Label encoding provides a compact representation of the categorical data, allowing you to use these encoded values as numerical features in machine learning algorithms without introducing unintended ordinal relationships."
   ]
  },
  {
   "cell_type": "markdown",
   "id": "cfd20dd2-9f54-42ff-82cf-ca7afddd9bdb",
   "metadata": {},
   "source": [
    "## Q(5)"
   ]
  },
  {
   "cell_type": "markdown",
   "id": "dac8d0f3-c291-4eea-a252-9728ebbe6456",
   "metadata": {},
   "source": [
    "When using nominal encoding, each unique category in a categorical variable is assigned a unique integer. The number of new columns created depends on the number of unique categories in each categorical column. If a categorical column has \\(k\\) unique categories, then nominal encoding would result in \\(k\\) new columns.\n",
    "\n",
    "Let's denote the number of unique categories in the first categorical column as \\(k_1\\) and the number of unique categories in the second categorical column as \\(k_2\\). The total number of new columns created would be \\(k_1 + k_2\\).\n",
    "\n",
    "In your case, you have two categorical columns. Without specific information about the number of unique categories in each column, let's denote them as \\(k_1\\) and \\(k_2\\). Therefore, the total number of new columns created would be \\(k_1 + k_2\\).\n",
    "\n",
    "If you have the actual values for \\(k_1\\) and \\(k_2\\), you can substitute them into the formula to get the exact number of new columns.\n",
    "\n",
    "In summary, without information about the number of unique categories in each categorical column, the total number of new columns created through nominal encoding is \\(k_1 + k_2\\)."
   ]
  },
  {
   "cell_type": "markdown",
   "id": "fbb4ab3c-29db-4761-8f4f-2108d5995943",
   "metadata": {},
   "source": [
    "## Q(6)"
   ]
  },
  {
   "cell_type": "code",
   "execution_count": 13,
   "id": "ea22b8ac-38df-49cf-94a6-33b6ebf57770",
   "metadata": {},
   "outputs": [],
   "source": [
    "import pandas as pd"
   ]
  },
  {
   "cell_type": "code",
   "execution_count": 14,
   "id": "4f91c4fb-dd51-4414-bcdc-b447cafd6d8e",
   "metadata": {},
   "outputs": [],
   "source": [
    "data = {\n",
    "    'Species': ['Lion', 'Tiger', 'Elephant', 'Giraffe', 'Zebra'],\n",
    "    'Habitat': ['Savanna', 'Jungle', 'Grassland', 'Forest', 'Grassland'],\n",
    "    'Diet': ['Carnivore', 'Carnivore', 'Herbivore', 'Herbivore', 'Herbivore']\n",
    "}"
   ]
  },
  {
   "cell_type": "code",
   "execution_count": 16,
   "id": "87de235d-c0f6-4838-92dc-e2fbacacbcdf",
   "metadata": {},
   "outputs": [
    {
     "data": {
      "text/html": [
       "<div>\n",
       "<style scoped>\n",
       "    .dataframe tbody tr th:only-of-type {\n",
       "        vertical-align: middle;\n",
       "    }\n",
       "\n",
       "    .dataframe tbody tr th {\n",
       "        vertical-align: top;\n",
       "    }\n",
       "\n",
       "    .dataframe thead th {\n",
       "        text-align: right;\n",
       "    }\n",
       "</style>\n",
       "<table border=\"1\" class=\"dataframe\">\n",
       "  <thead>\n",
       "    <tr style=\"text-align: right;\">\n",
       "      <th></th>\n",
       "      <th>Species</th>\n",
       "      <th>Habitat</th>\n",
       "      <th>Diet</th>\n",
       "    </tr>\n",
       "  </thead>\n",
       "  <tbody>\n",
       "    <tr>\n",
       "      <th>0</th>\n",
       "      <td>Lion</td>\n",
       "      <td>Savanna</td>\n",
       "      <td>Carnivore</td>\n",
       "    </tr>\n",
       "    <tr>\n",
       "      <th>1</th>\n",
       "      <td>Tiger</td>\n",
       "      <td>Jungle</td>\n",
       "      <td>Carnivore</td>\n",
       "    </tr>\n",
       "    <tr>\n",
       "      <th>2</th>\n",
       "      <td>Elephant</td>\n",
       "      <td>Grassland</td>\n",
       "      <td>Herbivore</td>\n",
       "    </tr>\n",
       "    <tr>\n",
       "      <th>3</th>\n",
       "      <td>Giraffe</td>\n",
       "      <td>Forest</td>\n",
       "      <td>Herbivore</td>\n",
       "    </tr>\n",
       "    <tr>\n",
       "      <th>4</th>\n",
       "      <td>Zebra</td>\n",
       "      <td>Grassland</td>\n",
       "      <td>Herbivore</td>\n",
       "    </tr>\n",
       "  </tbody>\n",
       "</table>\n",
       "</div>"
      ],
      "text/plain": [
       "    Species    Habitat       Diet\n",
       "0      Lion    Savanna  Carnivore\n",
       "1     Tiger     Jungle  Carnivore\n",
       "2  Elephant  Grassland  Herbivore\n",
       "3   Giraffe     Forest  Herbivore\n",
       "4     Zebra  Grassland  Herbivore"
      ]
     },
     "execution_count": 16,
     "metadata": {},
     "output_type": "execute_result"
    }
   ],
   "source": [
    "pd.DataFrame(data)"
   ]
  },
  {
   "cell_type": "code",
   "execution_count": 17,
   "id": "4e8eff49-b2af-41b9-996a-2fe067231fdf",
   "metadata": {},
   "outputs": [],
   "source": [
    "df = pd.DataFrame(data)"
   ]
  },
  {
   "cell_type": "code",
   "execution_count": 18,
   "id": "5366ad29-9bc6-4c1c-a6d8-1d2d0791e5b4",
   "metadata": {},
   "outputs": [],
   "source": [
    "df['Species (Encoded)'] = df['Species'].astype('category').cat.codes + 1\n",
    "df['Habitat (Encoded)'] = df['Habitat'].astype('category').cat.codes + 1\n",
    "df['Diet (Encoded)'] = df['Diet'].astype('category').cat.codes + 1\n"
   ]
  },
  {
   "cell_type": "code",
   "execution_count": 20,
   "id": "aecc40af-0b56-4c00-9f37-31f7d804b3f3",
   "metadata": {},
   "outputs": [
    {
     "name": "stdout",
     "output_type": "stream",
     "text": [
      "   Species (Encoded)  Habitat (Encoded)  Diet (Encoded)\n",
      "0                  3                  4               1\n",
      "1                  4                  3               1\n",
      "2                  1                  2               2\n",
      "3                  2                  1               2\n",
      "4                  5                  2               2\n"
     ]
    }
   ],
   "source": [
    "print(df[['Species (Encoded)','Habitat (Encoded)','Diet (Encoded)']])"
   ]
  },
  {
   "cell_type": "markdown",
   "id": "30510f56-3be1-413d-bf46-5fae1e890866",
   "metadata": {},
   "source": [
    "The choice between one-hot encoding and ordinal/label encoding depends on the nature of the categorical variables and their relationships:\n",
    "\n",
    "If species, habitat, and diet have no inherent order or ranking, and there are a limited number of unique values, one-hot encoding is suitable.\n",
    "\n",
    "If there is a meaningful order or ranking in species, habitat, or diet, and you want to preserve that information, then ordinal encoding or label encoding might be appropriate.\n",
    "\n",
    "Consider the specific characteristics and relationships within your dataset to make an informed decision about the encoding technique that best fits your machine learning requirements."
   ]
  },
  {
   "cell_type": "markdown",
   "id": "f6dfc7eb-cc33-4dc3-b7ce-5fc9b87dac56",
   "metadata": {},
   "source": [
    "## Q(7)"
   ]
  },
  {
   "cell_type": "markdown",
   "id": "9d882773-4a9f-46bc-aa52-36a162644f61",
   "metadata": {},
   "source": [
    "To transform categorical data into numerical data for predicting customer churn in a telecommunications company, you can use appropriate encoding techniques for each type of categorical variable. In this case, you mentioned that the dataset includes the customer's gender and contract type as categorical features. Here's a step-by-step explanation of how you might implement the encoding using a combination of one-hot encoding and label encoding:\n",
    " Step-by-Step Explanation:\n",
    "\n",
    " 1. Identify Categorical Features:\n",
    "   - Examine the dataset to identify the categorical features. In this case, \"gender\" and \"contract type\" are the categorical features.\n",
    " 2. Choose Encoding Techniques:\n",
    "   - Decide on the appropriate encoding technique for each categorical feature:\n",
    "     - For \"gender,\" which is a binary categorical feature (two unique values), you can use label encoding.\n",
    "     - For \"contract type,\" which may have more than two unique values, you can use one-hot encoding.\n",
    " 3. Import Libraries:\n",
    "   - Import the necessary libraries for data preprocessing and encoding.\n",
    "\n",
    " 4. Load and Explore the Dataset:\n",
    "   - Load the dataset containing features like gender, age, contract type, monthly charges, and tenure.\n",
    "\n",
    "5. Apply Label Encoding for Binary Categorical Feature (\"gender\"):\n",
    "\n",
    "   After this step, the \"gender\" column is replaced with the \"gender_encoded\" column containing numerical values (0 or 1).\n",
    "\n",
    " 6. Apply One-Hot Encoding for Categorical Feature with Multiple Values (\"contract type\"):\n",
    "\n",
    "   The \"contract_type\" column is replaced with \"contract_type_encoded,\" containing one-hot encoded columns for different contract types.\n",
    "\n",
    " 7. Drop Original Categorical Columns:\n",
    "\n",
    "\n",
    "   After this step, the dataset includes numerical columns for gender and one-hot encoded columns for contract type.\n",
    "\n",
    " 8. Data Ready for Analysis:\n",
    "   - The dataset is now transformed, and the numerical columns can be used for analyzing and building machine learning models to predict customer churn.\n"
   ]
  },
  {
   "cell_type": "code",
   "execution_count": null,
   "id": "615a86c0-fedc-4a2b-a4f7-5d3dd467e9c7",
   "metadata": {},
   "outputs": [],
   "source": []
  }
 ],
 "metadata": {
  "kernelspec": {
   "display_name": "Python 3 (ipykernel)",
   "language": "python",
   "name": "python3"
  },
  "language_info": {
   "codemirror_mode": {
    "name": "ipython",
    "version": 3
   },
   "file_extension": ".py",
   "mimetype": "text/x-python",
   "name": "python",
   "nbconvert_exporter": "python",
   "pygments_lexer": "ipython3",
   "version": "3.10.8"
  }
 },
 "nbformat": 4,
 "nbformat_minor": 5
}
