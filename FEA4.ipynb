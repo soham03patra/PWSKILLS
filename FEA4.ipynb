{
 "cells": [
  {
   "cell_type": "markdown",
   "id": "5eeae6ce-d531-4e05-a8a0-a4ed4703a321",
   "metadata": {},
   "source": [
    "## Q(1)"
   ]
  },
  {
   "cell_type": "markdown",
   "id": "5810a408-6302-42c9-bd18-71363b7b06e4",
   "metadata": {},
   "source": [
    "Ordinal Encoding and Label Encoding are both techniques used to convert categorical data into numerical format, but they are applied in different contexts."
   ]
  },
  {
   "cell_type": "markdown",
   "id": "0a1d703c-5144-43b4-b29e-e2ce61406604",
   "metadata": {},
   "source": [
    "Use Ordinal Encoding:\n",
    "\n",
    "When the order of categories carries information relevant to your model.\n",
    "For example, predicting student performance using ordinal encoding for education levels might be more accurate than using label encoding.\n",
    "\n",
    "Use Label Encoding:\n",
    "\n",
    "When the order of categories doesn't matter for your model.\n",
    "For example, classifying fruit images might not be affected by whether \"apple\" is encoded as 1 and \"banana\" as 2 or vice versa."
   ]
  },
  {
   "cell_type": "markdown",
   "id": "12637e8a-306a-4030-987d-c4bfd149054e",
   "metadata": {},
   "source": [
    "Imagine we're building a model to predict customer churn based on their satisfaction levels (High, Medium, Low).\n",
    "\n",
    "Ordinal Encoding: High = 1, Medium = 2, Low = 3. This encoding preserves the order of satisfaction and allows your model to learn that customers closer to \"Low\" are more likely to churn.\n",
    "Label Encoding: High = 1, Medium = 2, Low = 3. This encoding treats the levels as unordered, and your model might not capture the relationship between satisfaction and churn effectively.\n",
    "Choosing the right encoding technique depends on the specific characteristics of your data and the goal of your machine learning model."
   ]
  },
  {
   "cell_type": "markdown",
   "id": "af462e87-c46b-49a8-b563-b56096845092",
   "metadata": {},
   "source": [
    "## Q(2)"
   ]
  },
  {
   "cell_type": "markdown",
   "id": "e056dc1d-0ddf-4fa4-a33c-13ff7f72b076",
   "metadata": {},
   "source": [
    "Target Guided Ordinal Encoding is a technique used to encode categorical variables based on the relationship between the categories and the target variable in a supervised machine learning setting. This method assigns ordinal ranks to categories based on the mean or median of the target variable for each category. Target Guided Ordinal Encoding is particularly useful when dealing with categorical features with high cardinality and when the categories have a meaningful relationship with the target variable."
   ]
  },
  {
   "cell_type": "markdown",
   "id": "5f6020ca-24eb-4912-9498-c39cbf138cb2",
   "metadata": {},
   "source": [
    "Example:\n",
    "\n",
    "Predicting customer credit risk based on city of residence\n",
    "\n",
    "Categorical feature: City (London, Paris, New York, Berlin)\n",
    "Target variable: Credit risk (high, medium, low)\n",
    "TGE steps:\n",
    "\n",
    "Calculate average credit risk for each city:\n",
    "London: 0.4 (average risk)\n",
    "Paris: 0.2 (low risk)\n",
    "New York: 0.8 (high risk)\n",
    "Berlin: 0.6 (medium risk)\n",
    "Sort cities based on average risk: Paris, London, Berlin, New York\n",
    "Assign ordinal values: Paris = 1, London = 2, Berlin = 3, New York = 4"
   ]
  },
  {
   "cell_type": "markdown",
   "id": "d4be254d-018d-46ff-ae8e-2b02d0785b27",
   "metadata": {},
   "source": [
    "## Q(3)"
   ]
  },
  {
   "cell_type": "markdown",
   "id": "286fde15-1fcf-44ff-b2f3-fa172be88d4a",
   "metadata": {},
   "source": [
    "Covariance, in the realm of statistics, is a powerful tool for understanding the relationship between two variables. It quantifies how much, and in what direction, two variables tend to move together.\n",
    "\n",
    "Think of it like this: Imagine variables as dancing partners. If they both sashay to the right when the music picks up, their covariance is positive. If one twirls left while the other dips right, their covariance is negative. And if they just shuffle independently, their covariance is zero, suggesting no coordinated movement.\n",
    "\n",
    "Here's why covariance is so important:\n",
    "\n",
    "Unveiling hidden relationships: It can reveal subtle connections between variables that might be missed by simpler analysis. For example, you might find that income and education have a positive covariance, but their correlation (a related measure) might be weaker due to non-linear relationships.\n",
    "Building better models: Understanding how variables covary can inform the design of statistical models. In finance, knowing the covariance between stocks helps build portfolios that minimize risk.\n",
    "Data exploration: Covariance can be a valuable tool for initial data exploration, helping you identify potential patterns and relationships to investigate further.\n",
    "Calculating Covariance:\n",
    "\n",
    "The formula for covariance involves some statistical magic, but the basic idea is straightforward:\n",
    "\n",
    "Take the difference between each variable's value and its average. This removes the overall \"bias\" of the data and focuses on how individual pairs of points deviate from the norm.\n",
    "Multiply those differences together. This captures the joint movement of the variables.\n",
    "Average the multiplied differences across all data points. This gives you the final covariance value."
   ]
  },
  {
   "cell_type": "markdown",
   "id": "6334423d-74dd-4d48-b8e5-cd085f84d960",
   "metadata": {},
   "source": [
    "## Q(4)"
   ]
  },
  {
   "cell_type": "code",
   "execution_count": 1,
   "id": "2d5d4dcc-0bb0-48dd-b54e-df1676c8a63e",
   "metadata": {},
   "outputs": [],
   "source": [
    "from sklearn.preprocessing import LabelEncoder\n",
    "import pandas as pd"
   ]
  },
  {
   "cell_type": "code",
   "execution_count": 2,
   "id": "840fdbfd-bd85-41f6-a0b4-088688bb616c",
   "metadata": {},
   "outputs": [],
   "source": [
    "data = {'Color': ['red', 'green', 'blue', 'red', 'blue'],\n",
    "        'Size': ['small', 'medium', 'large', 'medium', 'small'],\n",
    "        'Material': ['wood', 'metal', 'plastic', 'metal', 'wood']}"
   ]
  },
  {
   "cell_type": "code",
   "execution_count": 5,
   "id": "541f3f23-1368-4ee2-bd37-0057a764fc1b",
   "metadata": {},
   "outputs": [],
   "source": [
    "df = pd.DataFrame(data)"
   ]
  },
  {
   "cell_type": "code",
   "execution_count": 6,
   "id": "320321eb-45be-464a-9495-70016efd6799",
   "metadata": {},
   "outputs": [],
   "source": [
    "label_encoder = LabelEncoder()"
   ]
  },
  {
   "cell_type": "code",
   "execution_count": 13,
   "id": "72530c6e-b072-4aa5-8652-7b0dbb1d360e",
   "metadata": {},
   "outputs": [],
   "source": [
    "df['Color_encoder']= label_encoder.fit_transform(df['Color'])\n",
    "df['Size_Encoded'] = label_encoder.fit_transform(df['Size'])\n",
    "df['Material_Encoded'] = label_encoder.fit_transform(df['Material'])"
   ]
  },
  {
   "cell_type": "code",
   "execution_count": 16,
   "id": "51bff679-5e51-495b-8b5e-0f7b0c9fa38f",
   "metadata": {},
   "outputs": [
    {
     "name": "stdout",
     "output_type": "stream",
     "text": [
      "   Color  Color_Encoded    Size  Size_Encoded Material  Material_Encoded\n",
      "0    red              2   small             2     wood                 2\n",
      "1  green              1  medium             1    metal                 0\n",
      "2   blue              0   large             0  plastic                 1\n",
      "3    red              2  medium             1    metal                 0\n",
      "4   blue              0   small             2     wood                 2\n"
     ]
    }
   ],
   "source": [
    "print(df[['Color', 'Color_Encoded', 'Size', 'Size_Encoded', 'Material', 'Material_Encoded']])"
   ]
  },
  {
   "cell_type": "markdown",
   "id": "b03ed5ed-b0cc-4d5a-b728-bba498f805c3",
   "metadata": {},
   "source": [
    "## Q(5)"
   ]
  },
  {
   "cell_type": "code",
   "execution_count": 17,
   "id": "489f963e-c026-4feb-8efe-b85f5608ef97",
   "metadata": {},
   "outputs": [],
   "source": [
    "import pandas as pd"
   ]
  },
  {
   "cell_type": "code",
   "execution_count": 18,
   "id": "b18eed93-45db-4882-88c7-a39edd14687a",
   "metadata": {},
   "outputs": [],
   "source": [
    "data = {'Age': [25, 30, 35, 40, 45],\n",
    "        'Income': [50000, 60000, 75000, 90000, 80000],\n",
    "        'Education': [12, 16, 18, 20, 14]}\n"
   ]
  },
  {
   "cell_type": "code",
   "execution_count": 20,
   "id": "5bf69fef-9551-4ea8-b5f4-9fc2178dc246",
   "metadata": {},
   "outputs": [
    {
     "data": {
      "text/html": [
       "<div>\n",
       "<style scoped>\n",
       "    .dataframe tbody tr th:only-of-type {\n",
       "        vertical-align: middle;\n",
       "    }\n",
       "\n",
       "    .dataframe tbody tr th {\n",
       "        vertical-align: top;\n",
       "    }\n",
       "\n",
       "    .dataframe thead th {\n",
       "        text-align: right;\n",
       "    }\n",
       "</style>\n",
       "<table border=\"1\" class=\"dataframe\">\n",
       "  <thead>\n",
       "    <tr style=\"text-align: right;\">\n",
       "      <th></th>\n",
       "      <th>Age</th>\n",
       "      <th>Income</th>\n",
       "      <th>Education</th>\n",
       "    </tr>\n",
       "  </thead>\n",
       "  <tbody>\n",
       "    <tr>\n",
       "      <th>0</th>\n",
       "      <td>25</td>\n",
       "      <td>50000</td>\n",
       "      <td>12</td>\n",
       "    </tr>\n",
       "    <tr>\n",
       "      <th>1</th>\n",
       "      <td>30</td>\n",
       "      <td>60000</td>\n",
       "      <td>16</td>\n",
       "    </tr>\n",
       "    <tr>\n",
       "      <th>2</th>\n",
       "      <td>35</td>\n",
       "      <td>75000</td>\n",
       "      <td>18</td>\n",
       "    </tr>\n",
       "    <tr>\n",
       "      <th>3</th>\n",
       "      <td>40</td>\n",
       "      <td>90000</td>\n",
       "      <td>20</td>\n",
       "    </tr>\n",
       "    <tr>\n",
       "      <th>4</th>\n",
       "      <td>45</td>\n",
       "      <td>80000</td>\n",
       "      <td>14</td>\n",
       "    </tr>\n",
       "  </tbody>\n",
       "</table>\n",
       "</div>"
      ],
      "text/plain": [
       "   Age  Income  Education\n",
       "0   25   50000         12\n",
       "1   30   60000         16\n",
       "2   35   75000         18\n",
       "3   40   90000         20\n",
       "4   45   80000         14"
      ]
     },
     "execution_count": 20,
     "metadata": {},
     "output_type": "execute_result"
    }
   ],
   "source": [
    "pd.DataFrame(data)"
   ]
  },
  {
   "cell_type": "code",
   "execution_count": 25,
   "id": "c7ec5f32-9c1c-4eb1-a52b-8c9632dd4ff6",
   "metadata": {},
   "outputs": [],
   "source": [
    "df = pd.DataFrame(data)"
   ]
  },
  {
   "cell_type": "code",
   "execution_count": 26,
   "id": "bae3561a-b1c1-47ee-a899-40f356761d03",
   "metadata": {},
   "outputs": [],
   "source": [
    "covarience_matrix = df.cov()"
   ]
  },
  {
   "cell_type": "code",
   "execution_count": 27,
   "id": "8a600692-e176-4227-b1c7-11c6acca2d67",
   "metadata": {},
   "outputs": [
    {
     "name": "stdout",
     "output_type": "stream",
     "text": [
      "Covariance Matrix:\n",
      "                Age       Income  Education\n",
      "Age            62.5     112500.0       10.0\n",
      "Income     112500.0  255000000.0    37500.0\n",
      "Education      10.0      37500.0       10.0\n"
     ]
    }
   ],
   "source": [
    "print(\"Covariance Matrix:\")\n",
    "print(covariance_matrix)"
   ]
  },
  {
   "cell_type": "markdown",
   "id": "b520fc17-76a6-47b1-bfa4-a67b1581ecfd",
   "metadata": {},
   "source": [
    "## Q(6)"
   ]
  },
  {
   "cell_type": "code",
   "execution_count": 31,
   "id": "9c8cbb39-58a1-40fd-b8a5-d915c40970a5",
   "metadata": {},
   "outputs": [
    {
     "name": "stdout",
     "output_type": "stream",
     "text": [
      "   Gender Education Level Employment Status  Gender_Encoded  \\\n",
      "0    Male     High School        Unemployed               1   \n",
      "1  Female      Bachelor's         Part-Time               0   \n",
      "2    Male        Master's         Full-Time               1   \n",
      "3  Female             PhD         Part-Time               0   \n",
      "\n",
      "   Education Level_Encoded  Part-Time  Full-Time  \n",
      "0                      0.0        0.0        1.0  \n",
      "1                      1.0        1.0        0.0  \n",
      "2                      2.0        0.0        0.0  \n",
      "3                      3.0        1.0        0.0  \n"
     ]
    },
    {
     "name": "stderr",
     "output_type": "stream",
     "text": [
      "/opt/conda/lib/python3.10/site-packages/sklearn/preprocessing/_encoders.py:808: FutureWarning: `sparse` was renamed to `sparse_output` in version 1.2 and will be removed in 1.4. `sparse_output` is ignored unless you leave `sparse` to its default value.\n",
      "  warnings.warn(\n"
     ]
    }
   ],
   "source": [
    "import pandas as pd\n",
    "from sklearn.preprocessing import OrdinalEncoder, OneHotEncoder, LabelEncoder\n",
    "\n",
    "data = {'Gender': ['Male', 'Female', 'Male', 'Female'],\n",
    "        'Education Level': ['High School', 'Bachelor\\'s', 'Master\\'s', 'PhD'],\n",
    "        'Employment Status': ['Unemployed', 'Part-Time', 'Full-Time', 'Part-Time']}\n",
    "\n",
    "df = pd.DataFrame(data)\n",
    "\n",
    "label_encoder_gender = LabelEncoder()\n",
    "df['Gender_Encoded'] = label_encoder_gender.fit_transform(df['Gender'])\n",
    "\n",
    "ordinal_encoder_education = OrdinalEncoder(categories=[['High School', 'Bachelor\\'s', 'Master\\'s', 'PhD']])\n",
    "df['Education Level_Encoded'] = ordinal_encoder_education.fit_transform(df[['Education Level']])\n",
    "\n",
    "onehot_encoder_employment = OneHotEncoder(drop='first', sparse=False)\n",
    "employment_status_encoded = pd.DataFrame(onehot_encoder_employment.fit_transform(df[['Employment Status']]),\n",
    "                                         columns=['Part-Time', 'Full-Time'])\n",
    "df = pd.concat([df, employment_status_encoded], axis=1)\n",
    "\n",
    "print(df)\n"
   ]
  },
  {
   "cell_type": "markdown",
   "id": "7a1d3743-32b8-4fab-964f-957e67b9c927",
   "metadata": {},
   "source": [
    "## Q(7)"
   ]
  },
  {
   "cell_type": "code",
   "execution_count": 32,
   "id": "50fbf4b0-a69e-4324-9692-9b35f00f2989",
   "metadata": {},
   "outputs": [
    {
     "name": "stdout",
     "output_type": "stream",
     "text": [
      "Covariance Matrix:\n",
      "             Temperature  Humidity\n",
      "Temperature         17.0      20.0\n",
      "Humidity            20.0      62.5\n"
     ]
    },
    {
     "name": "stderr",
     "output_type": "stream",
     "text": [
      "/tmp/ipykernel_84/2854774113.py:11: FutureWarning: The default value of numeric_only in DataFrame.cov is deprecated. In a future version, it will default to False. Select only valid columns or specify the value of numeric_only to silence this warning.\n",
      "  covariance_matrix = df.cov()\n"
     ]
    }
   ],
   "source": [
    "import pandas as pd\n",
    "\n",
    "\n",
    "data = {'Temperature': [25, 20, 22, 28, 30],\n",
    "        'Humidity': [60, 70, 65, 75, 80],\n",
    "        'Weather Condition': ['Sunny', 'Cloudy', 'Rainy', 'Cloudy', 'Rainy'],\n",
    "        'Wind Direction': ['North', 'South', 'East', 'West', 'North']}\n",
    "\n",
    "df = pd.DataFrame(data)\n",
    "\n",
    "covariance_matrix = df.cov()\n",
    "\n",
    "print(\"Covariance Matrix:\")\n",
    "print(covariance_matrix)\n"
   ]
  },
  {
   "cell_type": "code",
   "execution_count": null,
   "id": "625d1b10-9117-430b-80ca-07a3237379ea",
   "metadata": {},
   "outputs": [],
   "source": []
  },
  {
   "cell_type": "code",
   "execution_count": null,
   "id": "a7e7ef61-2acb-46d0-b89b-79d47874a850",
   "metadata": {},
   "outputs": [],
   "source": []
  },
  {
   "cell_type": "code",
   "execution_count": null,
   "id": "3660edf7-47b6-4b35-900c-1934aa4c5176",
   "metadata": {},
   "outputs": [],
   "source": []
  },
  {
   "cell_type": "code",
   "execution_count": null,
   "id": "fa477423-6c62-4c05-99f5-015cb25e7487",
   "metadata": {},
   "outputs": [],
   "source": []
  },
  {
   "cell_type": "code",
   "execution_count": null,
   "id": "61714d51-1817-4315-af0f-f918b6b01144",
   "metadata": {},
   "outputs": [],
   "source": []
  },
  {
   "cell_type": "code",
   "execution_count": null,
   "id": "d2c97d26-9de0-4a46-821e-a03bbcdc1bb9",
   "metadata": {},
   "outputs": [],
   "source": []
  },
  {
   "cell_type": "code",
   "execution_count": null,
   "id": "ce1631c1-c89b-4d11-a627-f96ba6b7cde4",
   "metadata": {},
   "outputs": [],
   "source": []
  }
 ],
 "metadata": {
  "kernelspec": {
   "display_name": "Python 3 (ipykernel)",
   "language": "python",
   "name": "python3"
  },
  "language_info": {
   "codemirror_mode": {
    "name": "ipython",
    "version": 3
   },
   "file_extension": ".py",
   "mimetype": "text/x-python",
   "name": "python",
   "nbconvert_exporter": "python",
   "pygments_lexer": "ipython3",
   "version": "3.10.8"
  }
 },
 "nbformat": 4,
 "nbformat_minor": 5
}
