{
 "cells": [
  {
   "cell_type": "code",
   "execution_count": 31,
   "id": "1c1a94bd-db35-4f8e-bd05-8a3ce304e9bd",
   "metadata": {},
   "outputs": [],
   "source": [
    "# \"#\" is used to comment a single line"
   ]
  },
  {
   "cell_type": "code",
   "execution_count": 32,
   "id": "d2341d11-80aa-402b-b74d-ef27a01d8d25",
   "metadata": {},
   "outputs": [
    {
     "name": "stdout",
     "output_type": "stream",
     "text": [
      "10\n"
     ]
    }
   ],
   "source": [
    "''' triple quotes\n",
    "is used to comment \n",
    "multiple line in python'''\n",
    "a= 10\n",
    "print(a)"
   ]
  },
  {
   "cell_type": "code",
   "execution_count": 45,
   "id": "c25d7132-b56a-4493-9555-6fa3443808d0",
   "metadata": {},
   "outputs": [],
   "source": [
    "'''A variable is a string of characters \n",
    "and numbers associated with a piece of information \n",
    "'''\n",
    "name = \"soham\"\n",
    "age = 20\n",
    "# HERE name and age are variable that contains values "
   ]
  },
  {
   "cell_type": "code",
   "execution_count": 46,
   "id": "6ed4e8e7-a580-4d55-b79b-d4672b030fae",
   "metadata": {},
   "outputs": [],
   "source": [
    "a1= 20"
   ]
  },
  {
   "cell_type": "code",
   "execution_count": 47,
   "id": "5a3f008e-154c-470e-bc18-5fa061ac0471",
   "metadata": {},
   "outputs": [
    {
     "data": {
      "text/plain": [
       "int"
      ]
     },
     "execution_count": 47,
     "metadata": {},
     "output_type": "execute_result"
    }
   ],
   "source": [
    "type(a1)"
   ]
  },
  {
   "cell_type": "code",
   "execution_count": 48,
   "id": "6a80dc6a-c1b7-4dad-9233-0b2852266dc1",
   "metadata": {},
   "outputs": [],
   "source": [
    "a1= float(a1)"
   ]
  },
  {
   "cell_type": "code",
   "execution_count": 49,
   "id": "11d529db-e757-4d0d-8c63-3078817a24e8",
   "metadata": {},
   "outputs": [
    {
     "data": {
      "text/plain": [
       "float"
      ]
     },
     "execution_count": 49,
     "metadata": {},
     "output_type": "execute_result"
    }
   ],
   "source": [
    "type(a1)"
   ]
  },
  {
   "cell_type": "code",
   "execution_count": 50,
   "id": "1b5cf028-61fc-450e-9011-aebce512b246",
   "metadata": {},
   "outputs": [],
   "source": [
    "a1= str(a1)"
   ]
  },
  {
   "cell_type": "code",
   "execution_count": 51,
   "id": "30c573a0-3fde-42fd-be25-f68ba89abbfa",
   "metadata": {},
   "outputs": [
    {
     "data": {
      "text/plain": [
       "'20.0'"
      ]
     },
     "execution_count": 51,
     "metadata": {},
     "output_type": "execute_result"
    }
   ],
   "source": [
    "a1"
   ]
  },
  {
   "cell_type": "code",
   "execution_count": 52,
   "id": "09498918-c006-4bfb-b530-752f5445af38",
   "metadata": {},
   "outputs": [
    {
     "data": {
      "text/plain": [
       "str"
      ]
     },
     "execution_count": 52,
     "metadata": {},
     "output_type": "execute_result"
    }
   ],
   "source": [
    "type(a1)"
   ]
  },
  {
   "cell_type": "code",
   "execution_count": 53,
   "id": "df25edc9-14ba-425f-97d6-ddb0b492d0fc",
   "metadata": {},
   "outputs": [],
   "source": [
    "#open a command-line and type in \n",
    "#the word python , or python3 if you have both versions, \n",
    "#followed by the path to your script,"
   ]
  },
  {
   "cell_type": "code",
   "execution_count": 54,
   "id": "5699c968-038e-453e-b3fc-92906204e7c7",
   "metadata": {},
   "outputs": [],
   "source": [
    "list1=[1,2,3,4,5]"
   ]
  },
  {
   "cell_type": "code",
   "execution_count": 55,
   "id": "6166f0a2-82d5-4fb6-aa8a-9329af1750c6",
   "metadata": {},
   "outputs": [
    {
     "data": {
      "text/plain": [
       "[2, 3]"
      ]
     },
     "execution_count": 55,
     "metadata": {},
     "output_type": "execute_result"
    }
   ],
   "source": [
    "list1[1:3]"
   ]
  },
  {
   "cell_type": "code",
   "execution_count": 59,
   "id": "fa77e73d-3250-45bd-a67d-e506739b92cd",
   "metadata": {},
   "outputs": [],
   "source": [
    "'''Complex numbers are the numbers that are expressed in the form of a+ib \n",
    "where,\n",
    "a,b are real numbers and 'i' is an imaginary number called “iota”\n",
    "in python it is represented as (a+jb)'''\n",
    "b1 = 2+3j\n"
   ]
  },
  {
   "cell_type": "code",
   "execution_count": 60,
   "id": "86463bea-ce6f-466d-aefe-a75668955311",
   "metadata": {},
   "outputs": [
    {
     "data": {
      "text/plain": [
       "complex"
      ]
     },
     "execution_count": 60,
     "metadata": {},
     "output_type": "execute_result"
    }
   ],
   "source": [
    "type(b1)"
   ]
  },
  {
   "cell_type": "code",
   "execution_count": 62,
   "id": "c6f8b22c-2287-4aa8-b091-d02876e1b6c7",
   "metadata": {},
   "outputs": [
    {
     "data": {
      "text/plain": [
       "2.0"
      ]
     },
     "execution_count": 62,
     "metadata": {},
     "output_type": "execute_result"
    }
   ],
   "source": [
    "b1.real"
   ]
  },
  {
   "cell_type": "code",
   "execution_count": 63,
   "id": "20ba37d5-fbd6-4506-ace3-88b365f0b854",
   "metadata": {},
   "outputs": [
    {
     "data": {
      "text/plain": [
       "3.0"
      ]
     },
     "execution_count": 63,
     "metadata": {},
     "output_type": "execute_result"
    }
   ],
   "source": [
    "b1.imag"
   ]
  },
  {
   "cell_type": "code",
   "execution_count": 67,
   "id": "3697a474-1712-4d30-8378-254453163e90",
   "metadata": {},
   "outputs": [],
   "source": [
    "Age = 25 "
   ]
  },
  {
   "cell_type": "code",
   "execution_count": 66,
   "id": "f94699f2-3e4f-40e6-a913-faec1b252ce4",
   "metadata": {},
   "outputs": [],
   "source": [
    "_age =25"
   ]
  },
  {
   "cell_type": "code",
   "execution_count": 69,
   "id": "c265a6f1-57aa-44ef-a7b9-8a893a2565d0",
   "metadata": {},
   "outputs": [
    {
     "ename": "SyntaxError",
     "evalue": "invalid syntax. Maybe you meant '==' or ':=' instead of '='? (417250693.py, line 1)",
     "output_type": "error",
     "traceback": [
      "\u001b[0;36m  Cell \u001b[0;32mIn[69], line 1\u001b[0;36m\u001b[0m\n\u001b[0;31m    @age =25 # we can't use special character in variable declaration as puthon is case sensitive\u001b[0m\n\u001b[0m     ^\u001b[0m\n\u001b[0;31mSyntaxError\u001b[0m\u001b[0;31m:\u001b[0m invalid syntax. Maybe you meant '==' or ':=' instead of '='?\n"
     ]
    }
   ],
   "source": [
    "@age =25 # we can't use special character in variable declaration as puthon is case sensitive "
   ]
  },
  {
   "cell_type": "code",
   "execution_count": 70,
   "id": "d5453a9d-73f7-48db-b03b-a553bed60d6d",
   "metadata": {},
   "outputs": [],
   "source": [
    "price = 9.99"
   ]
  },
  {
   "cell_type": "code",
   "execution_count": 71,
   "id": "7c1a7290-ad36-4ffe-be06-5b9b14db9b9f",
   "metadata": {},
   "outputs": [
    {
     "data": {
      "text/plain": [
       "float"
      ]
     },
     "execution_count": 71,
     "metadata": {},
     "output_type": "execute_result"
    }
   ],
   "source": [
    "type(price)"
   ]
  },
  {
   "cell_type": "code",
   "execution_count": 72,
   "id": "5cd7adf3-0fa9-47c8-9cb6-344fdcd1076b",
   "metadata": {},
   "outputs": [],
   "source": [
    "name = \"soham patra\""
   ]
  },
  {
   "cell_type": "code",
   "execution_count": 73,
   "id": "a8f34cf2-b810-4aac-be8d-eb6add8311b6",
   "metadata": {},
   "outputs": [
    {
     "name": "stdout",
     "output_type": "stream",
     "text": [
      "soham patra\n"
     ]
    }
   ],
   "source": [
    "print(name)"
   ]
  },
  {
   "cell_type": "code",
   "execution_count": 74,
   "id": "6d48e5e1-25a2-4850-8701-ac4e11cd73a7",
   "metadata": {},
   "outputs": [],
   "source": [
    "var1 =\"Hello, World!\" "
   ]
  },
  {
   "cell_type": "code",
   "execution_count": 75,
   "id": "146cf967-62ab-4660-a190-f6bb67616cf1",
   "metadata": {},
   "outputs": [
    {
     "data": {
      "text/plain": [
       "'World'"
      ]
     },
     "execution_count": 75,
     "metadata": {},
     "output_type": "execute_result"
    }
   ],
   "source": [
    "var1[7:12:]"
   ]
  },
  {
   "cell_type": "code",
   "execution_count": 76,
   "id": "e9dde42e-fc0d-4c93-96cb-8869062dfcd9",
   "metadata": {},
   "outputs": [],
   "source": [
    "is_student = True"
   ]
  },
  {
   "cell_type": "code",
   "execution_count": 77,
   "id": "240d8f8d-3260-43e7-87b8-d45e4a524981",
   "metadata": {},
   "outputs": [
    {
     "data": {
      "text/plain": [
       "bool"
      ]
     },
     "execution_count": 77,
     "metadata": {},
     "output_type": "execute_result"
    }
   ],
   "source": [
    "type(is_student)"
   ]
  },
  {
   "cell_type": "code",
   "execution_count": null,
   "id": "86c8ebad-e40a-4c72-a29c-a1e12482c73a",
   "metadata": {},
   "outputs": [],
   "source": []
  }
 ],
 "metadata": {
  "kernelspec": {
   "display_name": "Python 3 (ipykernel)",
   "language": "python",
   "name": "python3"
  },
  "language_info": {
   "codemirror_mode": {
    "name": "ipython",
    "version": 3
   },
   "file_extension": ".py",
   "mimetype": "text/x-python",
   "name": "python",
   "nbconvert_exporter": "python",
   "pygments_lexer": "ipython3",
   "version": "3.10.8"
  }
 },
 "nbformat": 4,
 "nbformat_minor": 5
}
