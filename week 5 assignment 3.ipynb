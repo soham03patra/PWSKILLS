{
 "cells": [
  {
   "cell_type": "markdown",
   "id": "850f46a1-f243-4f46-a437-654fbb4ae20b",
   "metadata": {},
   "source": [
    "1) Multithreading is defined as the ability of a processor to execute multiple threads concurrently.\n",
    "  Python multithreading enables efficient utilization of the resources as the threads share the data space and memory.\n",
    "  \n",
    "  Threading Modules used to handle threads in python"
   ]
  },
  {
   "cell_type": "markdown",
   "id": "c0ff7c98-2e45-4e98-9e1c-5ae0b614a73e",
   "metadata": {},
   "source": [
    "2) Python threads are used in cases where the execution of a task involves some waiting."
   ]
  },
  {
   "cell_type": "markdown",
   "id": "e7feb118-e77f-44eb-86dd-50c8ad310ef7",
   "metadata": {},
   "source": [
    "a)  activeCount() − Returns the number of thread objects that are active.\n",
    "b)  current_thread() --is an inbuilt method of the threading module, it is used to return the current Thread                              object,which corresponds to the caller's thread of control.\n",
    "c) Enumerate() -- it is a built-in function in python that allows you to keep track of the number of iterations                       (loops) in a loop."
   ]
  },
  {
   "cell_type": "markdown",
   "id": "3212044e-77b4-4f19-b9d0-eaf11eb318cc",
   "metadata": {},
   "source": [
    "3) a) run() --> method executes any target function belonging to a given thread object that is now active."
   ]
  },
  {
   "cell_type": "markdown",
   "id": "0d34b631-6800-4f99-8fcf-4e543132a076",
   "metadata": {},
   "source": [
    " b)  start() --> it is used to start a thread's activity. "
   ]
  },
  {
   "cell_type": "markdown",
   "id": "d08852ce-f199-433a-9efd-865697c74cf5",
   "metadata": {},
   "source": [
    "c) join() --> The join in Python takes all the elements of an iterable and joins them into a single string."
   ]
  },
  {
   "cell_type": "markdown",
   "id": "34599f74-cf3c-4d73-a846-8146dd0ca90c",
   "metadata": {},
   "source": [
    "d) alive()--> method returns True if the thread is still running and False."
   ]
  },
  {
   "cell_type": "code",
   "execution_count": 1,
   "id": "f4a9ae5d-4a2e-40e9-9c3f-d8c28a9c294b",
   "metadata": {},
   "outputs": [],
   "source": [
    "import threading"
   ]
  },
  {
   "cell_type": "code",
   "execution_count": 49,
   "id": "38b0f3b5-d939-4e98-86d0-3738d53632d6",
   "metadata": {},
   "outputs": [
    {
     "name": "stdout",
     "output_type": "stream",
     "text": [
      "List of Squares: [1, 4, 9, 16, 25, 36, 49, 64, 81, 100]\n",
      "List of Cubes: [1, 8, 27, 64, 125, 216, 343, 512, 729, 1000]\n"
     ]
    }
   ],
   "source": [
    "import threading\n",
    "\n",
    "def print_squares(n):\n",
    "    squares = [i ** 2 for i in range(1, n + 1)]\n",
    "    print(\"List of Squares:\", squares)\n",
    "\n",
    "def print_cubes(n):\n",
    "    cubes = [i ** 3 for i in range(1, n + 1)]\n",
    "    print(\"List of Cubes:\", cubes)\n",
    "\n",
    "\n",
    "thread1 = threading.Thread(target=print_squares, args=(10,))\n",
    "thread2 = threading.Thread(target=print_cubes, args=(10,))\n",
    "\n",
    "\n",
    "thread1.start()\n",
    "thread2.start()\n",
    "\n",
    "\n",
    "thread1.join()\n",
    "thread2.join()\n"
   ]
  },
  {
   "cell_type": "markdown",
   "id": "26a9867e-fc16-4447-bde0-7ebbec6c66bb",
   "metadata": {},
   "source": [
    "5) \n",
    "Advantages:\n",
    "i)Improved performance and concurrency\n",
    "ii) implified coding of remote procedure calls and conversations\n",
    "iii) Simultaneous access to multiple applications\n",
    "\n",
    "disadvantages:\n",
    "i) Difficulty of writing code\n",
    "ii) Difficulty of debugging\n",
    "iii) Difficulty of testing"
   ]
  },
  {
   "cell_type": "markdown",
   "id": "cbe4a15a-b366-4ab1-b43d-041510dae55e",
   "metadata": {},
   "source": [
    "6) A race condition occurs when two threads use the same variable at a given time. Deadlock exists when two threads seek one lock simultaneously.        This situation will stop both threads from processing or executing the functions."
   ]
  },
  {
   "cell_type": "code",
   "execution_count": null,
   "id": "727884db-3baa-49ce-8304-ea250f64241d",
   "metadata": {},
   "outputs": [],
   "source": []
  }
 ],
 "metadata": {
  "kernelspec": {
   "display_name": "Python 3 (ipykernel)",
   "language": "python",
   "name": "python3"
  },
  "language_info": {
   "codemirror_mode": {
    "name": "ipython",
    "version": 3
   },
   "file_extension": ".py",
   "mimetype": "text/x-python",
   "name": "python",
   "nbconvert_exporter": "python",
   "pygments_lexer": "ipython3",
   "version": "3.10.8"
  }
 },
 "nbformat": 4,
 "nbformat_minor": 5
}
