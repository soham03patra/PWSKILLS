{
 "cells": [
  {
   "cell_type": "markdown",
   "id": "8cb23f83-b03c-4693-ba80-aeb8f1972551",
   "metadata": {},
   "source": [
    "## Q(1)"
   ]
  },
  {
   "cell_type": "markdown",
   "id": "bacae469-88b5-4a00-9e84-68dcb0160cfc",
   "metadata": {},
   "source": [
    "The Pearson correlation coefficient, often denoted by \\(r\\), is a measure of the strength and direction of a linear relationship between two continuous variables. It ranges from -1 to 1, where:\n",
    "\n",
    "- \\(r = 1\\) indicates a perfect positive linear relationship,\n",
    "- \\(r = -1\\) indicates a perfect negative linear relationship,\n",
    "- \\(r = 0\\) indicates no linear relationship.\n",
    "\n",
    "To calculate the Pearson correlation coefficient between the amount of time students spend studying for an exam and their final exam scores, you can use the following formula:\n",
    "\n",
    "\\[ r = \\frac{\\sum_{i=1}^{n} (X_i - \\bar{X})(Y_i - \\bar{Y})}{\\sqrt{\\sum_{i=1}^{n} (X_i - \\bar{X})^2 \\sum_{i=1}^{n} (Y_i - \\bar{Y})^2}} \\]\n",
    "\n",
    "Here's a step-by-step explanation:\n",
    "\n",
    "1. Calculate the mean (\\(\\bar{X}\\)) and standard deviation (\\(s_X\\)) of the time spent studying (variable \\(X\\)).\n",
    "2. Calculate the mean (\\(\\bar{Y}\\)) and standard deviation (\\(s_Y\\)) of the final exam scores (variable \\(Y\\)).\n",
    "3. For each pair of data points \\((X_i, Y_i)\\), calculate the deviations from the mean: \\((X_i - \\bar{X})\\) and \\((Y_i - \\bar{Y})\\).\n",
    "4. Multiply the deviations for each pair and sum them up.\n",
    "5. Divide the result by the product of the standard deviations of \\(X\\) and \\(Y\\).\n",
    "6. The final result is the Pearson correlation coefficient \\(r\\).\n",
    "\n",
    "Interpretation:\n",
    "\n",
    "- If \\(r\\) is close to 1, it indicates a strong positive linear relationship. As the amount of time spent studying increases, final exam scores tend to increase.\n",
    "- If \\(r\\) is close to -1, it indicates a strong negative linear relationship. As the amount of time spent studying increases, final exam scores tend to decrease.\n",
    "- If \\(r\\) is close to 0, it indicates a weak or no linear relationship.\n",
    "\n",
    "Keep in mind that correlation does not imply causation. Even if there is a strong correlation, it does not necessarily mean that one variable causes the other.\n",
    "\n",
    "Please provide the actual data or more specific values if you want assistance in calculating the Pearson correlation coefficient for your dataset."
   ]
  },
  {
   "cell_type": "markdown",
   "id": "6bd7cac4-b4b6-4cfb-a611-a65e1cc7e8e1",
   "metadata": {},
   "source": [
    "## Q(2)"
   ]
  },
  {
   "cell_type": "markdown",
   "id": "72b271d4-93c6-48dc-bc5e-5b6601dae607",
   "metadata": {},
   "source": [
    "Spearman's rank correlation coefficient (\\(\\rho\\)) is a non-parametric measure of the strength and direction of the monotonic relationship between two variables. Unlike Pearson correlation, Spearman's correlation does not assume a linear relationship and is based on the ranks of the data points.\n",
    "\n",
    "The formula for Spearman's rank correlation coefficient is as follows:\n",
    "\n",
    "\\[ \\rho = 1 - \\frac{6 \\sum d_i^2}{n(n^2 - 1)} \\]\n",
    "\n",
    "where:\n",
    "- \\( d_i \\) is the difference between the ranks of corresponding pairs of data points.\n",
    "- \\( n \\) is the number of data points.\n",
    "\n",
    "Here's a step-by-step explanation of how to calculate Spearman's rank correlation:\n",
    "\n",
    "1. Rank the data for both variables independently.\n",
    "2. Calculate the differences (\\( d_i \\)) between the ranks of corresponding pairs.\n",
    "3. Square each difference and sum them up.\n",
    "4. Use the formula to calculate \\(\\rho\\).\n",
    "\n",
    "Interpretation of \\(\\rho\\):\n",
    "- \\( \\rho = 1 \\): Perfect monotonic increasing relationship.\n",
    "- \\( \\rho = -1 \\): Perfect monotonic decreasing relationship.\n",
    "- \\( \\rho = 0 \\): No monotonic relationship.\n",
    "\n",
    "Let's assume you have the following data:\n",
    "\n",
    "\n",
    "\n",
    "Interpretation:\n",
    "- If \\(\\rho\\) is close to 1, it indicates a strong monotonic increasing relationship. As the amount of sleep increases, job satisfaction tends to increase.\n",
    "- If \\(\\rho\\) is close to -1, it indicates a strong monotonic decreasing relationship. As the amount of sleep increases, job satisfaction tends to decrease.\n",
    "- If \\(\\rho\\) is close to 0, it suggests no clear monotonic relationship.\n",
    "\n",
    "The p-value is also provided, and a low p-value (typically below a significance level like 0.05) suggests that the correlation is statistically significant."
   ]
  },
  {
   "cell_type": "code",
   "execution_count": 3,
   "id": "c11d91b7-5057-4899-8bd2-c8df53f83ebe",
   "metadata": {},
   "outputs": [
    {
     "name": "stdout",
     "output_type": "stream",
     "text": [
      "Spearman's Rank Correlation (rho): 0.9999999999999999\n",
      "P-value: 1.4042654220543672e-24\n"
     ]
    }
   ],
   "source": [
    "\n",
    "from scipy.stats import spearmanr\n",
    "\n",
    "amount_of_sleep = [8, 6, 7, 5, 9]\n",
    "job_satisfaction = [7, 4, 6, 3, 8]\n",
    "\n",
    "rho, p_value = spearmanr(amount_of_sleep, job_satisfaction)\n",
    "\n",
    "print(f\"Spearman's Rank Correlation (rho): {rho}\")\n",
    "print(f\"P-value: {p_value}\")"
   ]
  },
  {
   "cell_type": "markdown",
   "id": "1b5a22c4-6d87-42c9-b8d0-a8f136eb12c6",
   "metadata": {},
   "source": [
    "## Q(3)"
   ]
  },
  {
   "cell_type": "code",
   "execution_count": 4,
   "id": "baf74ddc-5fad-4e3b-aed4-1135754d3921",
   "metadata": {},
   "outputs": [
    {
     "name": "stdout",
     "output_type": "stream",
     "text": [
      "Pearson Correlation Coefficient: -0.2548349841430553\n",
      "Spearman's Rank Correlation: -0.29546218487394954\n"
     ]
    }
   ],
   "source": [
    "import numpy as np\n",
    "from scipy.stats import pearsonr, spearmanr\n",
    "\n",
    "hours_of_exercise = np.random.uniform(1, 10, 50) \n",
    "bmi = np.random.normal(25, 5, 50)  \n",
    "\n",
    "\n",
    "pearson_corr, _ = pearsonr(hours_of_exercise, bmi)\n",
    "\n",
    "\n",
    "spearman_corr, _ = spearmanr(hours_of_exercise, bmi)\n",
    "\n",
    "print(f\"Pearson Correlation Coefficient: {pearson_corr}\")\n",
    "print(f\"Spearman's Rank Correlation: {spearman_corr}\")\n"
   ]
  },
  {
   "cell_type": "markdown",
   "id": "27e7c3ef-8ae2-4b5f-9b57-aa0204562ee6",
   "metadata": {},
   "source": [
    "## Q(4)"
   ]
  },
  {
   "cell_type": "code",
   "execution_count": 5,
   "id": "afcd0a08-61c6-4234-967c-638ad65f1394",
   "metadata": {},
   "outputs": [
    {
     "name": "stdout",
     "output_type": "stream",
     "text": [
      "Pearson Correlation Coefficient: 0.025961939031553177\n",
      "P-value: 0.8579648012175253\n"
     ]
    }
   ],
   "source": [
    "from scipy.stats import pearsonr\n",
    "import numpy as np\n",
    "\n",
    "hours_of_tv = np.random.uniform(1, 5, 50)\n",
    "physical_activity = np.random.uniform(1, 10, 50) \n",
    "\n",
    "pearson_corr, p_value = pearsonr(hours_of_tv, physical_activity)\n",
    "\n",
    "print(f\"Pearson Correlation Coefficient: {pearson_corr}\")\n",
    "print(f\"P-value: {p_value}\")\n"
   ]
  },
  {
   "cell_type": "markdown",
   "id": "97726361-54c4-4ce0-be7c-d9312e239c52",
   "metadata": {},
   "source": [
    "## Q(6)"
   ]
  },
  {
   "cell_type": "code",
   "execution_count": 6,
   "id": "11dec572-911c-4a17-ba3d-e2ac9dfbb510",
   "metadata": {},
   "outputs": [
    {
     "name": "stdout",
     "output_type": "stream",
     "text": [
      "Pearson Correlation Coefficient: 0.05508170480619611\n",
      "P-value: 0.7725087661795392\n"
     ]
    }
   ],
   "source": [
    "from scipy.stats import pearsonr\n",
    "import numpy as np\n",
    "\n",
    "\n",
    "sales_calls_per_day = np.random.randint(20, 50, 30)  \n",
    "sales_per_week = np.random.randint(5, 20, 30) \n",
    "\n",
    "\n",
    "pearson_corr, p_value = pearsonr(sales_calls_per_day, sales_per_week)\n",
    "\n",
    "print(f\"Pearson Correlation Coefficient: {pearson_corr}\")\n",
    "print(f\"P-value: {p_value}\")\n"
   ]
  },
  {
   "cell_type": "code",
   "execution_count": null,
   "id": "ced61900-7a98-41de-b1de-db13034c1f6b",
   "metadata": {},
   "outputs": [],
   "source": []
  },
  {
   "cell_type": "code",
   "execution_count": null,
   "id": "357dd4d5-014d-4c36-a17a-84bf67507ecb",
   "metadata": {},
   "outputs": [],
   "source": []
  },
  {
   "cell_type": "code",
   "execution_count": null,
   "id": "b64459be-58c4-43e4-8f77-a3805fe8ae02",
   "metadata": {},
   "outputs": [],
   "source": []
  }
 ],
 "metadata": {
  "kernelspec": {
   "display_name": "Python 3 (ipykernel)",
   "language": "python",
   "name": "python3"
  },
  "language_info": {
   "codemirror_mode": {
    "name": "ipython",
    "version": 3
   },
   "file_extension": ".py",
   "mimetype": "text/x-python",
   "name": "python",
   "nbconvert_exporter": "python",
   "pygments_lexer": "ipython3",
   "version": "3.10.8"
  }
 },
 "nbformat": 4,
 "nbformat_minor": 5
}
