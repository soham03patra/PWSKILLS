{
 "cells": [
  {
   "cell_type": "markdown",
   "id": "25ed4d33-e62c-4a9c-9305-33cf3ef43c6f",
   "metadata": {},
   "source": [
    "## Q(1)"
   ]
  },
  {
   "cell_type": "code",
   "execution_count": 1,
   "id": "81f75200-5d24-4f56-8b4c-295be60b9c7b",
   "metadata": {},
   "outputs": [
    {
     "name": "stdout",
     "output_type": "stream",
     "text": [
      "F-value: 238.6538\n",
      "P-value: 0.0000\n"
     ]
    }
   ],
   "source": [
    "import numpy as np\n",
    "from scipy.stats import f_oneway\n",
    "\n",
    "def calculate_f_value(data1, data2):\n",
    "   \n",
    "\n",
    "    # Perform variance ratio test (F-test)\n",
    "    f_value, p_value = f_oneway(data1, data2)\n",
    "\n",
    "    return f_value, p_value\n",
    "\n",
    "# Example usage:\n",
    "data1 = np.random.normal(0, 1, 100)\n",
    "data2 = np.random.normal(2, 1, 100)\n",
    "\n",
    "f_value, p_value = calculate_f_value(data1, data2)\n",
    "\n",
    "print(f\"F-value: {f_value:.4f}\")\n",
    "print(f\"P-value: {p_value:.4f}\")\n"
   ]
  },
  {
   "cell_type": "markdown",
   "id": "16b50bc0-25d0-42e3-a26c-3f7e41b7d786",
   "metadata": {},
   "source": [
    "## Q(2)"
   ]
  },
  {
   "cell_type": "code",
   "execution_count": 2,
   "id": "5b63970b-22d2-4c68-bfc8-2dd951ad1e57",
   "metadata": {},
   "outputs": [
    {
     "name": "stdout",
     "output_type": "stream",
     "text": [
      "Critical F-value: 4.4613\n"
     ]
    }
   ],
   "source": [
    "from scipy.stats import f\n",
    "\n",
    "def calculate_critical_f_value(significance_level, dfn, dfd):\n",
    "    \n",
    "    # Calculate critical F-value using percent point function (ppf)\n",
    "    alpha = significance_level / 2  # Two-tailed test\n",
    "    critical_f_value = f.ppf(1 - alpha, dfn, dfd)\n",
    "\n",
    "    return critical_f_value\n",
    "\n",
    "# Example usage:\n",
    "significance_level = 0.05\n",
    "dfn = 2\n",
    "dfd = 20\n",
    "\n",
    "critical_f_value = calculate_critical_f_value(significance_level, dfn, dfd)\n",
    "\n",
    "print(f\"Critical F-value: {critical_f_value:.4f}\")\n"
   ]
  },
  {
   "cell_type": "markdown",
   "id": "36f06f35-761c-4e75-9970-67e33e2dbf5f",
   "metadata": {},
   "source": [
    "## Q(3)"
   ]
  },
  {
   "cell_type": "code",
   "execution_count": 4,
   "id": "ab0d6c5e-97f3-47ad-834a-7b0a516a91c6",
   "metadata": {},
   "outputs": [
    {
     "name": "stdout",
     "output_type": "stream",
     "text": [
      "F-value: 1.9731\n",
      "Degrees of Freedom (numerator): 49\n",
      "Degrees of Freedom (denominator): 49\n",
      "P-value: 0.0191\n"
     ]
    }
   ],
   "source": [
    "import numpy as np\n",
    "from scipy.stats import f\n",
    "\n",
    "def perform_f_test(sample1, sample2):\n",
    "\n",
    "    # Calculate sample variances\n",
    "    var1 = np.var(sample1, ddof=1)\n",
    "    var2 = np.var(sample2, ddof=1)\n",
    "\n",
    "    # Perform F-test\n",
    "    f_value = var1 / var2 if var1 > var2 else var2 / var1  # F-statistic\n",
    "    dfn = len(sample1) - 1\n",
    "    dfd = len(sample2) - 1\n",
    "    p_value = 2 * min(f.cdf(f_value, dfn, dfd), 1 - f.cdf(f_value, dfn, dfd))  # Two-tailed test\n",
    "\n",
    "    return f_value, dfn, dfd, p_value\n",
    "\n",
    "# Example usage:\n",
    "np.random.seed(42)  # for reproducibility\n",
    "\n",
    "# Generate random samples from two normal distributions\n",
    "sample1 = np.random.normal(0, 1, 50)\n",
    "sample2 = np.random.normal(0, 1.5, 50)\n",
    "\n",
    "f_value, dfn, dfd, p_value = perform_f_test(sample1, sample2)\n",
    "\n",
    "print(f\"F-value: {f_value:.4f}\")\n",
    "print(f\"Degrees of Freedom (numerator): {dfn}\")\n",
    "print(f\"Degrees of Freedom (denominator): {dfd}\")\n",
    "print(f\"P-value: {p_value:.4f}\")\n"
   ]
  },
  {
   "cell_type": "markdown",
   "id": "d746ed02-2783-4c83-b55f-e7c0f7bc2729",
   "metadata": {},
   "source": [
    "## Q(4)"
   ]
  },
  {
   "cell_type": "code",
   "execution_count": 5,
   "id": "7cb64492-f619-4445-8cf6-db2620d3a0fd",
   "metadata": {},
   "outputs": [
    {
     "name": "stdout",
     "output_type": "stream",
     "text": [
      "Fail to reject the null hypothesis. No significant difference in variances.\n",
      "F-statistic: 1.5000\n",
      "Degrees of Freedom (numerator): 11\n",
      "Degrees of Freedom (denominator): 11\n",
      "P-value: 0.5124\n"
     ]
    }
   ],
   "source": [
    "from scipy.stats import f\n",
    "\n",
    "# Given information\n",
    "variance1 = 10\n",
    "variance2 = 15\n",
    "sample_size1 = 12\n",
    "sample_size2 = 12\n",
    "alpha = 0.05\n",
    "\n",
    "# Calculate the F-statistic\n",
    "f_statistic = variance2 / variance1\n",
    "\n",
    "# Degrees of freedom\n",
    "dfn = sample_size2 - 1\n",
    "dfd = sample_size1 - 1\n",
    "\n",
    "# Calculate the p-value\n",
    "p_value = 2 * min(f.cdf(f_statistic, dfn, dfd), 1 - f.cdf(f_statistic, dfn, dfd))\n",
    "\n",
    "# Compare p-value to significance level\n",
    "if p_value < alpha:\n",
    "    print(f\"Reject the null hypothesis. Variances are significantly different.\")\n",
    "else:\n",
    "    print(\"Fail to reject the null hypothesis. No significant difference in variances.\")\n",
    "    \n",
    "# Output results\n",
    "print(f\"F-statistic: {f_statistic:.4f}\")\n",
    "print(f\"Degrees of Freedom (numerator): {dfn}\")\n",
    "print(f\"Degrees of Freedom (denominator): {dfd}\")\n",
    "print(f\"P-value: {p_value:.4f}\")\n"
   ]
  },
  {
   "cell_type": "markdown",
   "id": "3bd8c060-0857-4e2b-9ac4-e4b3c096f499",
   "metadata": {},
   "source": [
    "## Q(5)"
   ]
  },
  {
   "cell_type": "code",
   "execution_count": 6,
   "id": "4aece7a0-587b-4b26-ad6f-96d8ee7be35a",
   "metadata": {},
   "outputs": [
    {
     "name": "stdout",
     "output_type": "stream",
     "text": [
      "Fail to reject the null hypothesis. The claim is justified.\n",
      "F-statistic: 1.2000\n",
      "Degrees of Freedom (numerator): 24\n",
      "Degrees of Freedom (denominator): 1\n",
      "P-value: 0.6296\n"
     ]
    }
   ],
   "source": [
    "from scipy.stats import f\n",
    "\n",
    "# Given information\n",
    "claimed_variance = 0.005\n",
    "sample_size = 25\n",
    "sample_variance = 0.006\n",
    "alpha = 0.01  # 1% significance level\n",
    "\n",
    "# Calculate the F-statistic\n",
    "f_statistic = sample_variance / claimed_variance\n",
    "\n",
    "# Degrees of freedom\n",
    "dfn = sample_size - 1\n",
    "dfd = 1  # Degrees of freedom for the denominator (since we're comparing with a single variance)\n",
    "\n",
    "# Calculate the p-value\n",
    "p_value = 1 - f.cdf(f_statistic, dfn, dfd)\n",
    "\n",
    "# Compare p-value to significance level\n",
    "if p_value < alpha:\n",
    "    print(\"Reject the null hypothesis. The claim is not justified.\")\n",
    "else:\n",
    "    print(\"Fail to reject the null hypothesis. The claim is justified.\")\n",
    "\n",
    "print(f\"F-statistic: {f_statistic:.4f}\")\n",
    "print(f\"Degrees of Freedom (numerator): {dfn}\")\n",
    "print(f\"Degrees of Freedom (denominator): {dfd}\")\n",
    "print(f\"P-value: {p_value:.4f}\")\n"
   ]
  },
  {
   "cell_type": "markdown",
   "id": "aa9a9c0d-0337-4b8b-b1f4-cc407822d9b7",
   "metadata": {},
   "source": [
    "## Q(6)"
   ]
  },
  {
   "cell_type": "code",
   "execution_count": 7,
   "id": "49927772-8eac-41e6-8d4f-b5b6e92ed30f",
   "metadata": {},
   "outputs": [
    {
     "name": "stdout",
     "output_type": "stream",
     "text": [
      "Mean of F-distribution: 1.2500\n",
      "Variance of F-distribution: 1.3542\n"
     ]
    }
   ],
   "source": [
    "def calculate_f_distribution_mean_variance(dfn, dfd):\n",
    "\n",
    "    # Calculate mean\n",
    "    mean = dfd / (dfd - 2)\n",
    "\n",
    "    # Calculate variance\n",
    "    variance = (2 * (dfd**2 * (dfn + dfd - 2))) / (dfn * (dfd - 2)**2 * (dfd - 4))\n",
    "\n",
    "    return mean, variance\n",
    "\n",
    "# Example usage:\n",
    "dfn = 5\n",
    "dfd = 10\n",
    "\n",
    "mean, variance = calculate_f_distribution_mean_variance(dfn, dfd)\n",
    "\n",
    "print(f\"Mean of F-distribution: {mean:.4f}\")\n",
    "print(f\"Variance of F-distribution: {variance:.4f}\")\n"
   ]
  },
  {
   "cell_type": "markdown",
   "id": "2548ff92-1d63-4ed5-9152-4c1025bb002d",
   "metadata": {},
   "source": [
    "## Q(7)"
   ]
  },
  {
   "cell_type": "code",
   "execution_count": 8,
   "id": "93dd473a-5ed1-4307-89a1-a8948af6a1ab",
   "metadata": {},
   "outputs": [
    {
     "name": "stdout",
     "output_type": "stream",
     "text": [
      "Fail to reject the null hypothesis. No significant difference in variances.\n",
      "F-statistic: 1.2500\n",
      "Degrees of Freedom (numerator): 9\n",
      "Degrees of Freedom (denominator): 14\n",
      "P-value: 0.6832\n"
     ]
    }
   ],
   "source": [
    "from scipy.stats import f\n",
    "\n",
    "# Given information\n",
    "sample_size1 = 10\n",
    "sample_size2 = 15\n",
    "sample_variance1 = 25\n",
    "sample_variance2 = 20\n",
    "alpha = 0.10  # 10% significance level\n",
    "\n",
    "# Identify the larger and smaller variances\n",
    "larger_variance = max(sample_variance1, sample_variance2)\n",
    "smaller_variance = min(sample_variance1, sample_variance2)\n",
    "\n",
    "# Calculate the F-statistic\n",
    "f_statistic = larger_variance / smaller_variance\n",
    "\n",
    "# Degrees of freedom\n",
    "dfn = sample_size1 - 1\n",
    "dfd = sample_size2 - 1\n",
    "\n",
    "# Calculate the p-value\n",
    "p_value = 2 * min(f.cdf(f_statistic, dfn, dfd), 1 - f.cdf(f_statistic, dfn, dfd))\n",
    "\n",
    "# Compare p-value to significance level\n",
    "if p_value < alpha:\n",
    "    print(\"Reject the null hypothesis. Variances are significantly different.\")\n",
    "else:\n",
    "    print(\"Fail to reject the null hypothesis. No significant difference in variances.\")\n",
    "    \n",
    "print(f\"F-statistic: {f_statistic:.4f}\")\n",
    "print(f\"Degrees of Freedom (numerator): {dfn}\")\n",
    "print(f\"Degrees of Freedom (denominator): {dfd}\")\n",
    "print(f\"P-value: {p_value:.4f}\")\n"
   ]
  },
  {
   "cell_type": "markdown",
   "id": "2baec399-d61c-46c2-81d3-2113eb1d3143",
   "metadata": {},
   "source": [
    "## Q(8)"
   ]
  },
  {
   "cell_type": "code",
   "execution_count": 10,
   "id": "cdb7bada-f455-4ad0-9f40-a3b4263a9efa",
   "metadata": {},
   "outputs": [
    {
     "name": "stdout",
     "output_type": "stream",
     "text": [
      "Fail to reject the null hypothesis. No significant difference in variances.\n",
      "F-statistic: 1.4552\n",
      "Degrees of Freedom (numerator): 6\n",
      "Degrees of Freedom (denominator): 5\n",
      "P-value: 0.6975\n"
     ]
    }
   ],
   "source": [
    "from scipy.stats import f\n",
    "\n",
    "# Given data\n",
    "waiting_times_a = [24, 25, 28, 23, 22, 20, 27]\n",
    "waiting_times_b = [31, 33, 35, 30, 32, 36]\n",
    "\n",
    "# Calculate sample variances\n",
    "variance_a = sum((x - sum(waiting_times_a)/len(waiting_times_a))**2 for x in waiting_times_a) / (len(waiting_times_a) - 1)\n",
    "variance_b = sum((x - sum(waiting_times_b)/len(waiting_times_b))**2 for x in waiting_times_b) / (len(waiting_times_b) - 1)\n",
    "\n",
    "# Identify the larger and smaller variances\n",
    "larger_variance = max(variance_a, variance_b)\n",
    "smaller_variance = min(variance_a, variance_b)\n",
    "\n",
    "# Calculate the F-statistic\n",
    "f_statistic = larger_variance / smaller_variance\n",
    "\n",
    "# Degrees of freedom\n",
    "dfn = len(waiting_times_a) - 1\n",
    "dfd = len(waiting_times_b) - 1\n",
    "\n",
    "# Calculate the p-value\n",
    "p_value = 2 * min(f.cdf(f_statistic, dfn, dfd), 1 - f.cdf(f_statistic, dfn, dfd))\n",
    "\n",
    "# Significance level\n",
    "alpha = 0.05\n",
    "\n",
    "# Compare p-value to significance level\n",
    "if p_value < alpha:\n",
    "    print(\"Reject the null hypothesis. Variances are significantly different.\")\n",
    "else:\n",
    "    print(\"Fail to reject the null hypothesis. No significant difference in variances.\")\n",
    "    \n",
    "print(f\"F-statistic: {f_statistic:.4f}\")\n",
    "print(f\"Degrees of Freedom (numerator): {dfn}\")\n",
    "print(f\"Degrees of Freedom (denominator): {dfd}\")\n",
    "print(f\"P-value: {p_value:.4f}\")\n"
   ]
  },
  {
   "cell_type": "markdown",
   "id": "c2deb0b4-b0d8-4c61-bc91-a4eb2b7e169a",
   "metadata": {},
   "source": [
    "## Q(9)"
   ]
  },
  {
   "cell_type": "code",
   "execution_count": 11,
   "id": "b9fe4114-ac47-4975-9bd0-487439ddf07d",
   "metadata": {},
   "outputs": [
    {
     "name": "stdout",
     "output_type": "stream",
     "text": [
      "Fail to reject the null hypothesis. No significant difference in variances.\n",
      "F-statistic: 1.9443\n",
      "Degrees of Freedom (numerator): 5\n",
      "Degrees of Freedom (denominator): 5\n",
      "P-value: 0.4831\n"
     ]
    }
   ],
   "source": [
    "from scipy.stats import f\n",
    "\n",
    "# Given data\n",
    "scores_group_a = [80, 85, 90, 92, 87, 83]\n",
    "scores_group_b = [75, 78, 82, 79, 81, 84]\n",
    "\n",
    "# Calculate sample variances\n",
    "variance_group_a = sum((x - sum(scores_group_a)/len(scores_group_a))**2 for x in scores_group_a) / (len(scores_group_a) - 1)\n",
    "variance_group_b = sum((x - sum(scores_group_b)/len(scores_group_b))**2 for x in scores_group_b) / (len(scores_group_b) - 1)\n",
    "\n",
    "# Identify the larger and smaller variances\n",
    "larger_variance = max(variance_group_a, variance_group_b)\n",
    "smaller_variance = min(variance_group_a, variance_group_b)\n",
    "\n",
    "# Calculate the F-statistic\n",
    "f_statistic = larger_variance / smaller_variance\n",
    "\n",
    "# Degrees of freedom\n",
    "dfn = len(scores_group_a) - 1\n",
    "dfd = len(scores_group_b) - 1\n",
    "\n",
    "# Calculate the p-value\n",
    "p_value = 2 * min(f.cdf(f_statistic, dfn, dfd), 1 - f.cdf(f_statistic, dfn, dfd))\n",
    "\n",
    "# Significance level\n",
    "alpha = 0.01\n",
    "\n",
    "# Compare p-value to significance level\n",
    "if p_value < alpha:\n",
    "    print(\"Reject the null hypothesis. Variances are significantly different.\")\n",
    "else:\n",
    "    print(\"Fail to reject the null hypothesis. No significant difference in variances.\")\n",
    "    \n",
    "print(f\"F-statistic: {f_statistic:.4f}\")\n",
    "print(f\"Degrees of Freedom (numerator): {dfn}\")\n",
    "print(f\"Degrees of Freedom (denominator): {dfd}\")\n",
    "print(f\"P-value: {p_value:.4f}\")\n"
   ]
  },
  {
   "cell_type": "code",
   "execution_count": null,
   "id": "b126f987-eeef-417a-945b-9b4865c3ec91",
   "metadata": {},
   "outputs": [],
   "source": []
  },
  {
   "cell_type": "code",
   "execution_count": null,
   "id": "3fd4eff3-c519-47cb-b63e-7f900b51f02f",
   "metadata": {},
   "outputs": [],
   "source": []
  },
  {
   "cell_type": "code",
   "execution_count": null,
   "id": "2cb69eba-2277-4858-bf72-b31bffbaa278",
   "metadata": {},
   "outputs": [],
   "source": []
  }
 ],
 "metadata": {
  "kernelspec": {
   "display_name": "Python 3 (ipykernel)",
   "language": "python",
   "name": "python3"
  },
  "language_info": {
   "codemirror_mode": {
    "name": "ipython",
    "version": 3
   },
   "file_extension": ".py",
   "mimetype": "text/x-python",
   "name": "python",
   "nbconvert_exporter": "python",
   "pygments_lexer": "ipython3",
   "version": "3.10.8"
  }
 },
 "nbformat": 4,
 "nbformat_minor": 5
}
