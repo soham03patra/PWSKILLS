{
 "cells": [
  {
   "cell_type": "markdown",
   "id": "127c6cd2-9f78-4109-9327-ec2b5d8d2303",
   "metadata": {},
   "source": [
    "###\n",
    "Q(1)"
   ]
  },
  {
   "cell_type": "markdown",
   "id": "5bb8e2da-1bd7-4654-aa65-b78a1a15298d",
   "metadata": {},
   "source": [
    "The Probability Mass Function (PMF) and the Probability Density Function (PDF) are two statistical functions that describe the probability distribution of a random variable. A random variable is a variable whose value is not known to the function, but depends on the outcome of an experiment. For example, the number of heads obtained when flipping a coin is a random variable.\n",
    "\n",
    "The PMF is used for discrete random variables, which are variables that can take only a finite or countable number of values. For example, the number of students in a class, the number of dice rolls that result in a six, or the number of goals scored in a soccer match are discrete random variables. The PMF assigns a probability to each possible value of the discrete random variable, such that the sum of all probabilities is equal to one. The PMF can be represented by a table, a formula, or a graph."
   ]
  },
  {
   "cell_type": "markdown",
   "id": "b1269650-9be9-4bdc-b1e5-3d4ff555c09f",
   "metadata": {},
   "source": [
    "###\n",
    "Q(2)\n"
   ]
  },
  {
   "cell_type": "markdown",
   "id": "ebe3e0e0-9d99-4c89-b693-8ca93ae3924e",
   "metadata": {},
   "source": [
    "A cumulative density function (CDF) is a function that gives the probability that a random variable is less than or equal to a certain value. It is also called the cumulative distribution function or the cumulant. For example, suppose you roll a fair six-sided die and let X be the number you get. Then the CDF of X is given by:\n",
    "\n",
    "F(x) = P(X ≤ x) = {0, if x < 1 1/6, if 1 ≤ x < 2 2/6, if 2 ≤ x < 3 3/6, if 3 ≤ x < 4 4/6, if 4 ≤ x < 5 5/6, if 5 ≤ x < 6 1, if x ≥ 6\n",
    "\n",
    "he CDF is used to calculate the probability of events involving a random variable. For example, using the CDF of X above, you can find the probability that you roll an even number by computing:\n",
    "\n",
    "P(X is even) = P(X ≤ 6) - P(X ≤ 3) = F(6) - F(3) = 1 - 3/6 = 3/6"
   ]
  },
  {
   "cell_type": "markdown",
   "id": "07c83cf4-a82b-4d6e-af1b-7025dfcd1d70",
   "metadata": {},
   "source": [
    "###\n",
    "Q(3)"
   ]
  },
  {
   "cell_type": "markdown",
   "id": "d92302ba-bf1e-44e8-b33c-b7bb52b103a2",
   "metadata": {},
   "source": [
    "Some examples of situations where the normal distribution might be used as a model are:\n",
    "\n",
    "i) The height of people in a population. The mean is the average height and the standard deviation is the variation    in height around the mean. Most people have heights close to the mean, while few people have heights very          different from the mean1\n",
    "\n",
    "ii) The test scores of students in a class. The mean is the average score and the standard deviation is the variation in score around the mean. Most students have scores close to the mean, while few students have scores very high or very low\n",
    "\n",
    "The parameters of the normal distribution are the mean and the standard deviation. They relate to the shape of the distribution as follows:\n",
    "\n",
    "i) The mean determines where the peak of the curve is centered. Increasing the mean moves the curve right, while      decreasing it moves the curve left2\n",
    "\n",
    "ii) The standard deviation stretches or squeezes the curve. A small standard deviation results in a narrow curve,       while a large standard deviation leads to a wide curve2"
   ]
  },
  {
   "cell_type": "markdown",
   "id": "7e2920f3-7b4b-4a49-9e88-9e173ec64b4b",
   "metadata": {},
   "source": [
    "###\n",
    "Q(4)"
   ]
  },
  {
   "cell_type": "markdown",
   "id": "5002b274-5bfb-453e-9fa7-ac283c99fe54",
   "metadata": {},
   "source": [
    "some reasons why the normal distribution is so important:\n",
    "\n",
    "The normal distribution describes how the values of a variable are distributed. It is the most accurate distribution for many natural phenomena, such as height, weight, blood pressure, IQ, test scores, etc\n",
    "\n",
    "The normal distribution has two parameters: the mean and the standard deviation. The mean determines where the peak of the curve is centered, while the standard deviation measures how spread out the values are around the mean. \n",
    "\n",
    "These two parameters can easily summarize the characteristics of a large data set\n",
    "\n",
    "The normal distribution has some useful properties that make it easy to work with. For example, it is symmetric, meaning that half of the values fall below the mean and half above the mean. It also follows the empirical rule, which states that about 68% of the values are within one standard deviation from the mean, 95% within two standard deviations, and 99.7% within three standard deviations. This rule helps us estimate the probability of events involving a normal variable."
   ]
  },
  {
   "cell_type": "markdown",
   "id": "be0bf62d-1552-4721-a566-87d0f2b6c65e",
   "metadata": {},
   "source": [
    "###\n",
    "Q(5)\n",
    "\n",
    "The Bernoulli distribution is the simplest discrete probability distribution that has only two possible outcomes: success or failure. For example, if you toss a coin, there are only two possible outcomes: heads or tails. If you consider heads as success and tails as failure, then the probability of success is p and the probability of failure is q = 1 - p. The Bernoulli distribution describes the probability of getting either outcome in a single trial. For example, if p = 0.5, then the probability of getting heads or tails is 0.5 each.\n",
    "\n",
    "The binomial distribution is a generalization of the Bernoulli distribution that describes the probability of getting a certain number of successes in a fixed number of trials, where each trial is independent and has the same probability of success as the Bernoulli distribution. For example, if you toss a coin 10 times, there are 10 independent trials, each with a probability of success p = 0.5. The binomial distribution tells you the probability of getting any number of heads from 0 to 10 in these 10 trials.\n",
    "\n",
    "The difference between the Bernoulli distribution and the binomial distribution is that the Bernoulli distribution deals with a single trial, while the binomial distribution deals with multiple trials. The Bernoulli distribution is a special case of the binomial distribution when n = 1, where n is the number of trials."
   ]
  },
  {
   "cell_type": "markdown",
   "id": "eaeec15f-b635-42fa-b5c0-787aac56e6a9",
   "metadata": {},
   "source": [
    "###\n",
    "Q(6)\n",
    "\n",
    "Consider a dataset with a mean of 50 and a standard deviation of 10.\n",
    "If we assume that the dataset is normally distributed, what is the probability that a randomly selected observation will be greater than 60 \n",
    "\n",
    "Use the appropriate formula and show your calculations:\n",
    "\n",
    "z score = (60 - 50)/10 \n",
    "\n",
    "z score = 1\n",
    "\n",
    "the area to the left of z = 1 is 0.8413. i.e 84.134%\n",
    "\n",
    "the area grater than 60 is = 1 - 0.8413 = 0.15866. i.e 15.866%\n"
   ]
  },
  {
   "cell_type": "markdown",
   "id": "34d0df76-7e31-4c9b-924d-b9d14d3d418e",
   "metadata": {},
   "source": [
    "###\n",
    "Q(7)\n",
    "\n",
    "uniform Distribution is a type of probability distribution where all outcomes are equally likely.\n",
    "For example, if you randomly hand a $100 bill to any passerby on a street corner, each passerby has an equal chance of receiving the money. Rolling a die or selecting a card from a deck are also examples of uniform distribution"
   ]
  },
  {
   "cell_type": "markdown",
   "id": "c1c87f0f-fa7d-4c2c-a734-3e6240513707",
   "metadata": {},
   "source": [
    "###\n",
    "Q(8)\n",
    "\n",
    "The z score is a measure of how many standard deviations a data point is from the mean of a distribution. It is also known as a standard score because it allows the comparison of scores on different kinds of variables by standardizing the distribution\n",
    "\n",
    "Some of the benefits of using z scores are:\n",
    "\n",
    "i) It allows researchers to calculate the probability of a score occurring within a standard normal distribution,      which has a mean of 0 and a standard deviation of 1\n",
    "\n",
    "ii) It enables us to compare two scores from different samples, which may have different means and standard             deviations\n",
    "\n",
    "iii) It helps us identify outliers, which are data points that are unusually high or low compared to the rest of        the data"
   ]
  },
  {
   "cell_type": "markdown",
   "id": "a3a3eef3-3f13-4edc-8cc8-318f9a9c292a",
   "metadata": {
    "tags": []
   },
   "source": [
    "###\n",
    "Q(9)\n",
    "\n",
    "The central limit theorem is a fundamental result in probability theory and statistics that states that the distribution of the sample mean of a large number of independent and identically distributed random variables tends to a normal distribution, regardless of the shape of the original distribution\n",
    "\n",
    "The significance of the central limit theorem is that it allows us to use the normal distribution as an approximation for many problems involving other types of distributions, as long as the sample size is large enough. The normal distribution has many desirable properties and is easy to work with, so it simplifies the analysis and inference of data\n",
    "\n",
    "Some examples of how the central limit theorem is useful are:\n",
    "\n",
    "i) It enables us to calculate confidence intervals and hypothesis tests for the population mean using the sample     mean and the standard error, which is the standard deviation of the sample mean\n",
    "\n",
    "ii) It allows us to compare the means of two or more samples from different populations using the t-test or the         ANOVA test, which are based on the normal distribution\n",
    "\n",
    "iii) It helps us understand the sampling error and the margin of error in surveys and polls, which are based on the     standard deviation of the sample mean"
   ]
  },
  {
   "cell_type": "markdown",
   "id": "80e09b16-3e8f-4432-b1c6-8b8f61611290",
   "metadata": {},
   "source": [
    "###\n",
    "Q(10)\n",
    "\n",
    "The central limit theorem is a powerful result that allows us to use the normal distribution to approximate many other distributions, as long as the sample size is large enough. However, the theorem is based on some assumptions that must be met for it to be valid. \n",
    "\n",
    "These assumptions are:\n",
    "\n",
    "i) The samples must be independent of each other, meaning that the outcome of one sample does not affect the          outcome of another sample. For example, if you draw cards from a deck without replacement, the samples are not      independent, because the cards you draw in one sample affect the cards available for another sample\n",
    "\n",
    "ii)  The samples must be randomly selected, meaning that every element in the population has an equal chance of          being included in a sample. For example, if you survey people on the street about their political views, the       samples are not random, because you are more likely to encounter people who are out and about than people who       are at home or at work\n",
    "\n",
    "iii)  The sample size must be sufficiently large, usually n > 30, where n is the number of observations in each         sample. This ensures that the sampling distribution of the mean is approximately normal, regardless of the         shape of the population distribution. For example, if you roll a die 10 times and calculate the mean, the           sampling distribution may not be normal, because 10 is not a large enough sample size"
   ]
  },
  {
   "cell_type": "code",
   "execution_count": null,
   "id": "42033ae8-2818-4c94-b871-9849c44cc465",
   "metadata": {},
   "outputs": [],
   "source": []
  }
 ],
 "metadata": {
  "kernelspec": {
   "display_name": "Python 3 (ipykernel)",
   "language": "python",
   "name": "python3"
  },
  "language_info": {
   "codemirror_mode": {
    "name": "ipython",
    "version": 3
   },
   "file_extension": ".py",
   "mimetype": "text/x-python",
   "name": "python",
   "nbconvert_exporter": "python",
   "pygments_lexer": "ipython3",
   "version": "3.10.8"
  }
 },
 "nbformat": 4,
 "nbformat_minor": 5
}
