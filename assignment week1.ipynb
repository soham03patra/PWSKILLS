{
 "cells": [
  {
   "cell_type": "code",
   "execution_count": 40,
   "id": "a3e1fe0f-92b0-4633-bab0-2cf3c6ffc206",
   "metadata": {},
   "outputs": [],
   "source": [
    "s=\"soham\""
   ]
  },
  {
   "cell_type": "code",
   "execution_count": 41,
   "id": "a6255a2b-8257-4740-b4d9-157e1ac51f3d",
   "metadata": {},
   "outputs": [
    {
     "data": {
      "text/plain": [
       "str"
      ]
     },
     "execution_count": 41,
     "metadata": {},
     "output_type": "execute_result"
    }
   ],
   "source": [
    "type(s)"
   ]
  },
  {
   "cell_type": "code",
   "execution_count": 42,
   "id": "d92c8b58-6dfd-4622-aeb8-37131ea7f042",
   "metadata": {},
   "outputs": [],
   "source": [
    "l=[1,2,3,45,\"soham\",3+7j]"
   ]
  },
  {
   "cell_type": "code",
   "execution_count": 43,
   "id": "2b155ef1-66af-4550-813f-b648047b42d3",
   "metadata": {},
   "outputs": [
    {
     "data": {
      "text/plain": [
       "list"
      ]
     },
     "execution_count": 43,
     "metadata": {},
     "output_type": "execute_result"
    }
   ],
   "source": [
    "type(l)"
   ]
  },
  {
   "cell_type": "code",
   "execution_count": 44,
   "id": "db5523fe-7cf7-432b-82cc-c300b3f9bd93",
   "metadata": {},
   "outputs": [],
   "source": [
    "b=3.45"
   ]
  },
  {
   "cell_type": "code",
   "execution_count": 45,
   "id": "57ca24a8-46fe-40d7-86d1-92f64fe9117f",
   "metadata": {},
   "outputs": [
    {
     "data": {
      "text/plain": [
       "float"
      ]
     },
     "execution_count": 45,
     "metadata": {},
     "output_type": "execute_result"
    }
   ],
   "source": [
    "type(b)"
   ]
  },
  {
   "cell_type": "code",
   "execution_count": 46,
   "id": "892e87e7-df4f-4167-8bcb-2facbdec8397",
   "metadata": {},
   "outputs": [],
   "source": [
    "l1=(1,2,3,4)"
   ]
  },
  {
   "cell_type": "code",
   "execution_count": 47,
   "id": "e89f29c9-27fa-435f-99e0-50ad031e4447",
   "metadata": {},
   "outputs": [
    {
     "data": {
      "text/plain": [
       "tuple"
      ]
     },
     "execution_count": 47,
     "metadata": {},
     "output_type": "execute_result"
    }
   ],
   "source": [
    "type(l1)"
   ]
  },
  {
   "cell_type": "code",
   "execution_count": 48,
   "id": "93ff9369-10c4-4b17-985b-e269bcb1d2a0",
   "metadata": {},
   "outputs": [],
   "source": [
    "var1=''"
   ]
  },
  {
   "cell_type": "code",
   "execution_count": 49,
   "id": "9246d4b5-542e-430f-8dfb-4ae15831ad0f",
   "metadata": {},
   "outputs": [
    {
     "data": {
      "text/plain": [
       "str"
      ]
     },
     "execution_count": 49,
     "metadata": {},
     "output_type": "execute_result"
    }
   ],
   "source": [
    "type(var1)"
   ]
  },
  {
   "cell_type": "code",
   "execution_count": 50,
   "id": "7f4c742f-18a5-4fab-b0c2-2adb3a0da639",
   "metadata": {},
   "outputs": [],
   "source": [
    "var2='[DS,ML,Python]'"
   ]
  },
  {
   "cell_type": "code",
   "execution_count": 51,
   "id": "5ce3a2ad-4d63-4918-a22c-e8d006c77789",
   "metadata": {},
   "outputs": [
    {
     "data": {
      "text/plain": [
       "str"
      ]
     },
     "execution_count": 51,
     "metadata": {},
     "output_type": "execute_result"
    }
   ],
   "source": [
    "type(var2)"
   ]
  },
  {
   "cell_type": "code",
   "execution_count": 52,
   "id": "538be161-0cbc-4ede-a03b-7cf4db6b36b9",
   "metadata": {},
   "outputs": [],
   "source": [
    "var3=['DS','ML','Python']"
   ]
  },
  {
   "cell_type": "code",
   "execution_count": 53,
   "id": "53e034b5-3b9b-406c-b9ce-ff83d9e40cb1",
   "metadata": {},
   "outputs": [
    {
     "data": {
      "text/plain": [
       "list"
      ]
     },
     "execution_count": 53,
     "metadata": {},
     "output_type": "execute_result"
    }
   ],
   "source": [
    "type(var3)"
   ]
  },
  {
   "cell_type": "code",
   "execution_count": 54,
   "id": "36a11069-da5d-4800-b44b-2c061ef9769c",
   "metadata": {},
   "outputs": [],
   "source": [
    "var4=1"
   ]
  },
  {
   "cell_type": "code",
   "execution_count": 55,
   "id": "bebd81ef-c6c6-4da9-a709-7ec4b996050c",
   "metadata": {},
   "outputs": [
    {
     "data": {
      "text/plain": [
       "int"
      ]
     },
     "execution_count": 55,
     "metadata": {},
     "output_type": "execute_result"
    }
   ],
   "source": [
    "type(var4)"
   ]
  },
  {
   "cell_type": "code",
   "execution_count": 56,
   "id": "4e633441-2184-46d7-95e9-a88c81e69e9a",
   "metadata": {},
   "outputs": [
    {
     "data": {
      "text/plain": [
       "2.0"
      ]
     },
     "execution_count": 56,
     "metadata": {},
     "output_type": "execute_result"
    }
   ],
   "source": [
    "4/2"
   ]
  },
  {
   "cell_type": "code",
   "execution_count": 57,
   "id": "096cf6e2-4a38-47bc-a711-32f5c5c08b62",
   "metadata": {},
   "outputs": [
    {
     "data": {
      "text/plain": [
       "1"
      ]
     },
     "execution_count": 57,
     "metadata": {},
     "output_type": "execute_result"
    }
   ],
   "source": [
    "5%4"
   ]
  },
  {
   "cell_type": "code",
   "execution_count": 58,
   "id": "c28e6f87-a48c-4fbb-9cf5-3a92de477f4d",
   "metadata": {},
   "outputs": [
    {
     "data": {
      "text/plain": [
       "1"
      ]
     },
     "execution_count": 58,
     "metadata": {},
     "output_type": "execute_result"
    }
   ],
   "source": [
    "5//4"
   ]
  },
  {
   "cell_type": "code",
   "execution_count": 59,
   "id": "33dffe2e-ae9a-42da-9a49-4edde1c20222",
   "metadata": {},
   "outputs": [
    {
     "data": {
      "text/plain": [
       "8"
      ]
     },
     "execution_count": 59,
     "metadata": {},
     "output_type": "execute_result"
    }
   ],
   "source": [
    "2**3"
   ]
  },
  {
   "cell_type": "code",
   "execution_count": 60,
   "id": "99143c4c-a0d2-4c0e-a3fc-37337a9f4bcb",
   "metadata": {
    "id": "2f5ea9bc-0a79-4b44-b152-bf8e5c3b7e40"
   },
   "outputs": [
    {
     "name": "stdout",
     "output_type": "stream",
     "text": [
      "2 <class 'int'>\n",
      "3 <class 'int'>\n",
      "4 <class 'int'>\n",
      "5 <class 'int'>\n",
      "6 <class 'int'>\n",
      "sudh <class 'str'>\n",
      "pwskills <class 'str'>\n",
      "23.45 <class 'float'>\n",
      "True <class 'bool'>\n",
      "False <class 'bool'>\n"
     ]
    }
   ],
   "source": [
    "l = [2,3,4,5,6,\"sudh\" , \"pwskills\" , 23.45, True , False]\n",
    "for i in l:\n",
    "    print(  i , type(i))"
   ]
  },
  {
   "cell_type": "code",
   "execution_count": 61,
   "id": "f85b8086-6c29-4ec6-abb4-33b113479ba8",
   "metadata": {},
   "outputs": [
    {
     "name": "stdout",
     "output_type": "stream",
     "text": [
      "a is divisible by b  3 times\n"
     ]
    }
   ],
   "source": [
    "a=40\n",
    "b=2\n",
    "i=0\n",
    "while a%b==0:\n",
    "    a=a/b\n",
    "    i=i+1\n",
    "print(\"a is divisible by b \",i,\"times\")"
   ]
  },
  {
   "cell_type": "code",
   "execution_count": 62,
   "id": "df434e8c-74cb-4c04-94ec-a2801ba9a5e8",
   "metadata": {},
   "outputs": [
    {
     "name": "stdout",
     "output_type": "stream",
     "text": [
      "3\n",
      "6\n",
      "9\n",
      "12\n",
      "15\n",
      "18\n",
      "21\n",
      "24\n"
     ]
    }
   ],
   "source": [
    "list1=[1,2,3,4,5,6,7,8,9,10,11,12,13,14,15,16,17,18,19,20,21,22,23,24,25]\n",
    "for i in list1:\n",
    "    if i%3==0:\n",
    "        print(i)\n",
    "        i=i+1"
   ]
  },
  {
   "cell_type": "code",
   "execution_count": 63,
   "id": "52535e46-4df3-4be3-926a-8a97fe727971",
   "metadata": {},
   "outputs": [
    {
     "data": {
      "text/plain": [
       "str"
      ]
     },
     "execution_count": 63,
     "metadata": {},
     "output_type": "execute_result"
    }
   ],
   "source": [
    "\"\"\"Mutable objects are those that allow\n",
    "you to change their value or data in place without affecting the object's identity. \n",
    "In contrast,\n",
    "immutable objects don't allow this kind of operation.\"\"\"\n",
    "str1=(\"soham\") # example =>'string' is immutable while 'list' is mutable\n",
    "type(str1) \n",
    "\n"
   ]
  },
  {
   "cell_type": "code",
   "execution_count": 64,
   "id": "8be2fb1d-df7e-4e5c-8563-5e63faab62d3",
   "metadata": {},
   "outputs": [
    {
     "data": {
      "text/plain": [
       "list"
      ]
     },
     "execution_count": 64,
     "metadata": {},
     "output_type": "execute_result"
    }
   ],
   "source": [
    "list2=[1,2,3,\"soham\"]\n",
    "type(list2)"
   ]
  },
  {
   "cell_type": "code",
   "execution_count": 65,
   "id": "51524ef2-edf4-4189-ba04-24f274823f6d",
   "metadata": {},
   "outputs": [],
   "source": [
    "list2.remove(\"soham\")"
   ]
  },
  {
   "cell_type": "code",
   "execution_count": 66,
   "id": "b7ada418-36d2-41df-a3d4-9be2edde0f48",
   "metadata": {},
   "outputs": [
    {
     "data": {
      "text/plain": [
       "[1, 2, 3]"
      ]
     },
     "execution_count": 66,
     "metadata": {},
     "output_type": "execute_result"
    }
   ],
   "source": [
    "list2"
   ]
  },
  {
   "cell_type": "code",
   "execution_count": 67,
   "id": "a8a73319-a863-4d95-958b-3df3080faa8c",
   "metadata": {},
   "outputs": [],
   "source": [
    "list2.append(4)"
   ]
  },
  {
   "cell_type": "code",
   "execution_count": 68,
   "id": "dd97f1aa-10eb-46c7-abd3-82c7ad6cfd3e",
   "metadata": {},
   "outputs": [
    {
     "data": {
      "text/plain": [
       "[1, 2, 3, 4]"
      ]
     },
     "execution_count": 68,
     "metadata": {},
     "output_type": "execute_result"
    }
   ],
   "source": [
    "list2"
   ]
  }
 ],
 "metadata": {
  "kernelspec": {
   "display_name": "Python 3 (ipykernel)",
   "language": "python",
   "name": "python3"
  },
  "language_info": {
   "codemirror_mode": {
    "name": "ipython",
    "version": 3
   },
   "file_extension": ".py",
   "mimetype": "text/x-python",
   "name": "python",
   "nbconvert_exporter": "python",
   "pygments_lexer": "ipython3",
   "version": "3.10.6"
  }
 },
 "nbformat": 4,
 "nbformat_minor": 5
}
