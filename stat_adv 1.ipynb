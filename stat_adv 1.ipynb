{
 "cells": [
  {
   "cell_type": "markdown",
   "id": "5f5e4f72-f21d-49c3-9180-b0b6c27ee0dd",
   "metadata": {},
   "source": [
    "###\n",
    "Q(1)\n",
    "\n",
    "A probability density function (PDF) is a function that describes the relative likelihood of a continuous random variable taking on a certain value or range of values.\n",
    "\n",
    "For example, suppose we have a random variable X that represents the height of a person in centimeters. The PDF of X tells us how likely it is to find a person with a given height, or within a given range of heights. The PDF of X is positive for all values of X, and the total area under the PDF curve is equal to 1"
   ]
  },
  {
   "cell_type": "markdown",
   "id": "d3d03e99-4b7d-410c-a186-6e55f75e01cb",
   "metadata": {},
   "source": [
    "###\n",
    "Q(2)\n",
    "\n",
    "The types of Probability distribution :\n",
    "\n",
    "i) Normal/Gaussian distribution \n",
    "\n",
    "ii) Bernouli Distribution\n",
    "\n",
    "iii) Uniform distribution\n",
    "\n",
    "iv) Poission  Distribution\n",
    "\n",
    "v) log normal Distribution\n",
    "\n",
    "vi) Binomial Distribution"
   ]
  },
  {
   "cell_type": "markdown",
   "id": "b77ba46f-4731-4e6b-84b1-e228077936ec",
   "metadata": {},
   "source": [
    "###\n",
    "Q(3)"
   ]
  },
  {
   "cell_type": "code",
   "execution_count": 1,
   "id": "d5f48d25-9e24-48c3-8332-9866e1013b2d",
   "metadata": {},
   "outputs": [],
   "source": [
    "import math\n",
    "\n",
    "def normal_pdf(x, mu, sigma):\n",
    "  # x is the point, mu is the mean, sigma is the standard deviation\n",
    "  # returns the probability density function value at x\n",
    "  return (1 / (sigma * math.sqrt(2 * math.pi))) * math.exp(-0.5 * ((x - mu) / sigma) ** 2)\n"
   ]
  },
  {
   "cell_type": "code",
   "execution_count": 2,
   "id": "c3bfafbf-0e18-4377-812f-ae9f7994adb7",
   "metadata": {},
   "outputs": [
    {
     "data": {
      "text/plain": [
       "0.12579440923099774"
      ]
     },
     "execution_count": 2,
     "metadata": {},
     "output_type": "execute_result"
    }
   ],
   "source": [
    "normal_pdf(1,2,3)"
   ]
  },
  {
   "cell_type": "markdown",
   "id": "e65533f5-13d0-4b58-ac51-60f40316bc20",
   "metadata": {},
   "source": [
    "###\n",
    "Q(4)\n",
    "\n",
    "The binomial distribution is a discrete probability distribution that describes the number of successes in a fixed number of independent trials, each with a constant probability of success. Some examples of events where binomial distribution can be applied are:\n",
    "\n",
    "Tossing a coin n times and counting the number of heads\n",
    "Rolling a die n times and counting the number of sixes\n",
    "\n",
    "\n",
    "Some properties of the binomial distribution are:\n",
    "\n",
    "i)   There are only two possible outcomes: success or failure\n",
    "\n",
    "ii)  There is a fixed number of trials, denoted by n\n",
    "\n",
    "iii) The probability of success, denoted by p, is constant for each trial\n",
    "\n",
    "iv)  The mean of the distribution is μ = np\n",
    "\n",
    "v)   The variance of the distribution is σ² = np(1-p)\n",
    "\n",
    "vi)  The standard deviation of the distribution is σ = √np(1-p)"
   ]
  },
  {
   "cell_type": "markdown",
   "id": "f4a9dfb5-ce5c-407f-9283-77c5da98bdc4",
   "metadata": {},
   "source": [
    "###\n",
    "Q(5)"
   ]
  },
  {
   "cell_type": "code",
   "execution_count": 7,
   "id": "c13014ce-0cac-4417-869c-379c796ab88a",
   "metadata": {},
   "outputs": [],
   "source": [
    "import numpy as np\n",
    "import matplotlib.pyplot as plt\n"
   ]
  },
  {
   "cell_type": "code",
   "execution_count": 8,
   "id": "8e036148-a54c-470e-9016-4f1215e5010f",
   "metadata": {},
   "outputs": [],
   "source": [
    "\n",
    "sample = np.random.binomial(n=10, p=0.4, size=1000)"
   ]
  },
  {
   "cell_type": "code",
   "execution_count": 9,
   "id": "f74ed90b-6d7f-4edb-a2b5-b4fcebd42168",
   "metadata": {},
   "outputs": [
    {
     "data": {
      "text/plain": [
       "array([5, 2, 6, 1, 4, 5, 7, 0, 4, 4, 5, 7, 4, 4, 5, 4, 2, 0, 3, 5, 3, 6,\n",
       "       3, 7, 5, 5, 4, 8, 6, 5, 4, 5, 8, 1, 7, 2, 4, 5, 4, 3, 5, 4, 2, 6,\n",
       "       4, 5, 8, 4, 3, 3, 4, 4, 4, 3, 4, 6, 5, 5, 6, 4, 4, 2, 6, 3, 3, 5,\n",
       "       6, 3, 5, 4, 3, 5, 3, 6, 4, 3, 5, 1, 5, 6, 5, 7, 7, 4, 6, 7, 5, 2,\n",
       "       2, 6, 5, 6, 1, 2, 8, 3, 3, 6, 4, 8, 2, 1, 5, 6, 1, 3, 4, 3, 2, 3,\n",
       "       7, 5, 3, 2, 4, 4, 5, 4, 4, 2, 5, 3, 5, 4, 2, 2, 5, 3, 5, 4, 3, 8,\n",
       "       4, 2, 2, 3, 7, 4, 1, 5, 3, 4, 6, 7, 5, 3, 6, 3, 3, 2, 5, 4, 4, 5,\n",
       "       4, 7, 4, 4, 3, 3, 4, 2, 5, 2, 4, 3, 4, 3, 4, 2, 3, 5, 5, 5, 3, 4,\n",
       "       8, 2, 6, 4, 7, 7, 4, 4, 3, 6, 3, 2, 2, 4, 3, 4, 5, 3, 7, 5, 3, 4,\n",
       "       2, 5, 1, 5, 2, 7, 4, 6, 5, 3, 3, 4, 5, 2, 4, 4, 3, 5, 2, 3, 4, 4,\n",
       "       2, 2, 4, 6, 3, 4, 4, 1, 5, 3, 5, 2, 4, 3, 2, 3, 5, 2, 7, 6, 3, 5,\n",
       "       6, 6, 6, 3, 2, 2, 7, 4, 5, 4, 4, 0, 3, 4, 5, 5, 6, 6, 4, 4, 3, 5,\n",
       "       3, 7, 1, 4, 5, 2, 6, 3, 5, 4, 4, 3, 5, 5, 7, 5, 2, 3, 6, 4, 3, 4,\n",
       "       4, 4, 8, 4, 5, 3, 3, 3, 4, 3, 5, 3, 2, 4, 5, 6, 3, 1, 4, 6, 5, 4,\n",
       "       4, 8, 4, 6, 3, 4, 4, 3, 4, 2, 3, 3, 5, 3, 4, 4, 3, 5, 4, 4, 6, 3,\n",
       "       3, 2, 3, 2, 6, 6, 3, 5, 1, 3, 2, 5, 0, 4, 2, 5, 3, 5, 4, 5, 4, 3,\n",
       "       3, 3, 6, 4, 2, 4, 6, 6, 4, 4, 4, 4, 4, 5, 6, 6, 4, 3, 4, 1, 4, 6,\n",
       "       6, 4, 2, 5, 6, 4, 6, 7, 3, 7, 4, 4, 3, 3, 4, 3, 2, 8, 6, 4, 1, 3,\n",
       "       2, 3, 4, 5, 4, 3, 4, 4, 5, 5, 1, 3, 4, 1, 3, 4, 5, 5, 3, 7, 4, 4,\n",
       "       6, 4, 4, 2, 5, 5, 1, 3, 3, 3, 5, 4, 2, 2, 4, 4, 4, 5, 5, 4, 1, 8,\n",
       "       6, 4, 6, 1, 4, 4, 1, 5, 2, 3, 2, 6, 8, 4, 3, 3, 4, 6, 5, 5, 3, 6,\n",
       "       1, 2, 3, 6, 5, 4, 3, 5, 6, 5, 5, 4, 4, 3, 4, 6, 6, 4, 3, 6, 2, 5,\n",
       "       3, 4, 5, 7, 4, 4, 2, 4, 2, 4, 2, 6, 4, 4, 4, 5, 3, 2, 6, 4, 2, 4,\n",
       "       4, 3, 4, 7, 3, 2, 4, 2, 3, 2, 7, 4, 5, 4, 4, 3, 4, 5, 2, 7, 5, 6,\n",
       "       4, 6, 3, 2, 5, 6, 2, 4, 6, 6, 7, 4, 4, 2, 4, 1, 3, 1, 2, 4, 3, 5,\n",
       "       2, 3, 2, 8, 1, 6, 5, 3, 5, 4, 5, 5, 3, 7, 2, 3, 5, 4, 5, 5, 2, 6,\n",
       "       4, 7, 4, 5, 6, 2, 4, 4, 5, 3, 2, 2, 4, 3, 4, 5, 5, 3, 2, 5, 0, 7,\n",
       "       4, 5, 2, 4, 3, 6, 3, 3, 4, 3, 2, 3, 6, 4, 7, 3, 3, 4, 3, 6, 5, 5,\n",
       "       5, 6, 5, 4, 4, 5, 6, 1, 3, 5, 4, 3, 4, 2, 2, 2, 6, 4, 1, 5, 5, 3,\n",
       "       3, 3, 3, 6, 6, 4, 5, 3, 1, 4, 5, 4, 6, 3, 4, 4, 1, 3, 4, 5, 4, 6,\n",
       "       5, 3, 2, 4, 5, 6, 3, 4, 4, 4, 4, 4, 7, 5, 4, 5, 3, 6, 5, 2, 2, 1,\n",
       "       3, 4, 4, 3, 4, 5, 6, 5, 5, 6, 5, 5, 4, 3, 4, 3, 1, 5, 4, 2, 7, 6,\n",
       "       5, 3, 2, 4, 5, 3, 5, 5, 3, 5, 2, 4, 3, 6, 4, 7, 5, 3, 4, 5, 3, 5,\n",
       "       7, 1, 6, 3, 3, 4, 2, 5, 3, 6, 4, 4, 2, 4, 6, 5, 2, 5, 1, 3, 3, 6,\n",
       "       4, 2, 2, 5, 2, 5, 4, 4, 6, 2, 6, 2, 4, 3, 7, 5, 5, 5, 7, 6, 3, 4,\n",
       "       4, 5, 3, 5, 5, 3, 3, 4, 2, 5, 4, 1, 2, 3, 2, 4, 2, 3, 4, 4, 5, 5,\n",
       "       4, 3, 4, 4, 5, 5, 6, 3, 6, 3, 5, 1, 3, 4, 6, 4, 4, 5, 5, 4, 3, 3,\n",
       "       5, 1, 5, 3, 2, 4, 3, 4, 6, 5, 2, 5, 5, 5, 5, 5, 3, 2, 6, 5, 3, 7,\n",
       "       6, 5, 7, 5, 3, 4, 4, 5, 5, 5, 5, 3, 2, 5, 5, 5, 3, 3, 4, 6, 2, 5,\n",
       "       3, 6, 2, 2, 5, 2, 4, 2, 4, 5, 5, 1, 3, 3, 7, 3, 7, 5, 3, 6, 4, 4,\n",
       "       4, 3, 2, 3, 6, 7, 4, 2, 4, 4, 5, 4, 3, 5, 5, 3, 4, 4, 4, 6, 4, 3,\n",
       "       3, 2, 6, 7, 5, 5, 4, 6, 1, 3, 5, 3, 4, 7, 3, 4, 2, 1, 3, 2, 5, 4,\n",
       "       4, 3, 2, 4, 3, 4, 3, 3, 6, 2, 6, 4, 1, 7, 3, 4, 6, 3, 4, 5, 3, 3,\n",
       "       5, 4, 4, 4, 4, 4, 2, 3, 4, 4, 3, 3, 3, 2, 1, 3, 3, 3, 3, 5, 2, 5,\n",
       "       2, 7, 5, 2, 4, 1, 5, 4, 4, 7, 3, 3, 5, 4, 2, 3, 5, 3, 2, 6, 3, 3,\n",
       "       4, 6, 4, 5, 3, 5, 4, 3, 4, 3])"
      ]
     },
     "execution_count": 9,
     "metadata": {},
     "output_type": "execute_result"
    }
   ],
   "source": [
    "sample\n"
   ]
  },
  {
   "cell_type": "code",
   "execution_count": 15,
   "id": "377839ca-5bb7-4f0e-a1ca-588fa42c1514",
   "metadata": {},
   "outputs": [
    {
     "data": {
      "image/png": "[encoded data removed]",
      "text/plain": [
       "<Figure size 640x480 with 1 Axes>"
      ]
     },
     "metadata": {},
     "output_type": "display_data"
    }
   ],
   "source": [
    "plt.hist(sample)\n",
    "\n",
    "plt.xlabel('Number of successes')\n",
    "\n",
    "plt.ylabel('Frequency')\n",
    "\n",
    "plt.title('Histogram of binomial sample')\n",
    "\n",
    "plt.show()"
   ]
  },
  {
   "cell_type": "markdown",
   "id": "5bf0eabb-acd2-425b-b05c-a1bad3504ce2",
   "metadata": {},
   "source": [
    "###\n",
    "Q(6)\n"
   ]
  },
  {
   "cell_type": "code",
   "execution_count": 21,
   "id": "080703e1-ecec-4d32-8f73-1fac6ab2835a",
   "metadata": {},
   "outputs": [],
   "source": [
    "import math"
   ]
  },
  {
   "cell_type": "code",
   "execution_count": 22,
   "id": "4293a348-3ec7-4bfb-a105-651761585610",
   "metadata": {},
   "outputs": [],
   "source": [
    "def poisson_cdf(x, mu):\n",
    "  # x is the point, mu is the mean\n",
    "  # returns the cumulative distribution function value at x\n",
    "  cdf = 0\n",
    "  for k in range(x+1):\n",
    "    cdf = cdf +(mu ** k) * math.exp(-mu) / math.factorial(k)\n",
    "  return cdf"
   ]
  },
  {
   "cell_type": "code",
   "execution_count": 23,
   "id": "6deed4e4-66fd-4efd-8778-b4275e722787",
   "metadata": {},
   "outputs": [
    {
     "data": {
      "text/plain": [
       "0.002291791207791422"
      ]
     },
     "execution_count": 23,
     "metadata": {},
     "output_type": "execute_result"
    }
   ],
   "source": [
    "poisson_cdf(3,12)"
   ]
  },
  {
   "cell_type": "markdown",
   "id": "163e1dda-b011-48ce-8ad8-3ee361ec7164",
   "metadata": {},
   "source": [
    "###\n",
    "Q(7)"
   ]
  },
  {
   "cell_type": "markdown",
   "id": "2964c15a-405a-4609-bee9-8b4a04d4bc47",
   "metadata": {},
   "source": [
    "Binomial distribution and Poisson distribution are two discrete probability distributions \n",
    "that can be used to model the number of events that occur in a given interval. \n",
    "\n",
    "However, they have some key differences:\n",
    "\n",
    "Binomial distribution is applicable to experiments with a fixed number of trials,\n",
    "each with two possible outcomes: success or failure.\n",
    "Poisson distribution is applicable to events occurring within a fixed interval of time or space,\n",
    "with an unlimited number of possible outcomes.\n",
    "\n",
    "Binomial distribution requires a known number of trials and a constant probability of success for each trial.\n",
    "Poisson distribution does not require a specific number of events or a constant probability of occurrence,\n",
    "but only an average rate of occurrence (lambda) for the interval.\n",
    "\n",
    "Binomial distribution deals with discrete random variables that can only take integer values from 0 to n.\n",
    "Poisson distribution deals with continuous random variables that can take any non-negative value.\n",
    "\n",
    "Binomial distribution has a mean and variance of np and np(1-p), where n is the number of trials and p is the\n",
    "probability of success. Poisson distribution has a mean and variance of lambda, where lambda is the average rate\n",
    "of occurrence."
   ]
  },
  {
   "cell_type": "markdown",
   "id": "d3d91a12-16a8-4475-a6ea-2643c6ad5406",
   "metadata": {},
   "source": [
    "###\n",
    "Q(8)"
   ]
  },
  {
   "cell_type": "code",
   "execution_count": 25,
   "id": "0ce02f35-15a5-4944-9d41-ac874fab4026",
   "metadata": {},
   "outputs": [],
   "source": [
    "import numpy as np\n"
   ]
  },
  {
   "cell_type": "code",
   "execution_count": 27,
   "id": "de368c00-5073-4d4b-a840-d651219bf0ee",
   "metadata": {},
   "outputs": [],
   "source": [
    "\n",
    "sample = np.random.poisson(lam=5, size=1000)"
   ]
  },
  {
   "cell_type": "code",
   "execution_count": 30,
   "id": "30575e38-6847-4e0f-9870-e20eb6b4677b",
   "metadata": {},
   "outputs": [
    {
     "data": {
      "text/plain": [
       "array([ 6,  1,  6,  5,  5,  7,  2,  4,  4,  8,  3,  6,  9,  7,  7,  6,  2,\n",
       "        6,  9,  3,  9,  4,  2,  9,  3,  6,  4,  8,  4,  7,  5,  4,  2,  6,\n",
       "        4,  2,  8,  4,  5,  4,  3,  4,  8,  7,  5, 10,  3, 10,  7,  5,  6,\n",
       "        2,  7,  1, 10,  2,  7,  7,  4,  1,  5,  6,  4,  9,  5,  2,  5,  6,\n",
       "        4, 10,  3,  4,  3,  2,  7,  6, 10,  5,  7,  3,  6,  3,  3,  6,  2,\n",
       "        8,  6,  2,  6,  1,  5,  9,  8,  7,  3,  3,  7,  6,  6,  6,  4,  9,\n",
       "        6,  7,  9,  8,  6,  6,  5,  4,  1,  4,  3,  6,  5,  4,  4,  5,  8,\n",
       "        5,  4,  3,  6,  5, 11,  9,  5,  5,  9,  7,  3,  1,  5,  4,  6,  7,\n",
       "        3,  4,  5,  6,  7,  8,  5,  4,  6,  3,  5,  3,  5,  9,  4,  6,  6,\n",
       "        6,  6,  3,  6,  5,  3, 12, 10,  2,  4,  7,  4,  7,  6,  7,  8, 10,\n",
       "        4,  6,  1,  2,  5,  5,  4,  5,  1,  3,  6,  6,  7,  6,  3,  5,  6,\n",
       "        3,  3,  6,  3,  8,  3,  5,  4,  6,  3,  3,  3, 11,  4,  2,  4,  7,\n",
       "        8,  4,  3,  3,  2, 10, 10,  5,  1,  2,  7,  3,  4,  3,  5,  7,  5,\n",
       "        6,  6,  3,  2,  6,  0,  5,  6,  4, 10,  1,  8,  3,  6,  4,  6,  6,\n",
       "        5, 10,  3, 10, 11,  4,  5,  6,  5,  6,  6,  2,  3,  4,  3,  4,  5,\n",
       "        2,  6,  7,  2,  6,  4,  4,  4,  3,  6,  6,  6,  5,  3,  4,  2,  1,\n",
       "        6,  7,  5,  4,  3,  5,  9, 10,  3,  4,  5,  5,  3, 10,  2,  5,  4,\n",
       "        3, 12,  5,  6,  2,  2,  8,  4,  4,  4,  6,  9,  5,  9,  7,  6,  4,\n",
       "        5,  4,  7,  4,  5,  6,  3,  7,  4,  1,  4,  6,  0,  6,  3,  4,  2,\n",
       "        0,  5,  4,  6,  3,  3,  2,  3,  9,  4,  3,  6,  5,  3,  9,  3,  6,\n",
       "        7,  4,  6,  2,  4,  8,  7,  7,  5,  5,  1,  5,  3,  5,  3,  8,  2,\n",
       "        2,  5,  7,  2,  7,  6,  7,  3,  2,  6, 10,  5,  5,  3,  7,  6,  3,\n",
       "        6,  6,  2,  1,  2,  1,  2,  6,  5,  6,  1,  6,  3,  3,  3,  4,  5,\n",
       "        2,  3,  8,  4,  4,  3,  3,  5, 11,  5,  5,  8,  8,  3,  5,  2,  2,\n",
       "        3,  8,  6,  5, 10,  4,  4,  5,  2,  5,  9,  6,  4,  6,  3,  3,  5,\n",
       "        5,  2,  2,  6,  6,  6,  4,  6,  6,  2,  2,  7,  5,  6,  5,  6,  5,\n",
       "        4, 10,  3,  3,  5,  3,  4,  5, 13,  8,  1,  6,  6,  5,  7,  7,  3,\n",
       "        9,  5,  5,  2,  7,  6,  4,  3,  6,  2,  5,  2,  5,  2,  8,  4,  7,\n",
       "        4,  5,  4,  3,  7,  3,  9,  7,  4,  5,  9,  7,  8,  9,  3, 10,  2,\n",
       "        3,  6,  3,  3,  6,  4,  4,  6,  6,  3,  4,  5,  2,  3,  5,  5,  8,\n",
       "        1,  3,  5,  9,  5,  5,  5,  5,  6,  6,  4,  7,  8,  5,  5,  6,  2,\n",
       "        5,  4,  4,  4,  7,  7,  4,  1,  0,  5,  2,  7,  3,  7,  3,  2,  6,\n",
       "        9,  5,  4,  6,  5,  6,  4,  1,  3,  6,  5,  4, 11,  6,  1,  4,  8,\n",
       "        8,  6,  4,  5,  3,  5,  3,  6,  2,  4,  4,  6,  8,  3,  5,  2,  4,\n",
       "        6,  5,  5,  4,  6,  6,  4,  7,  5,  4,  4,  3,  4,  5,  4,  8,  6,\n",
       "        5,  6,  1,  3,  5,  5,  2,  4,  8,  4,  5,  5,  6,  4,  1,  9,  5,\n",
       "        8,  6,  8,  4,  8,  5,  4,  7,  3,  4,  2,  4,  5,  6,  8,  3,  5,\n",
       "        8,  3,  7,  5,  2,  1, 10,  3,  4,  8,  2,  6,  5,  7,  4,  5,  3,\n",
       "        5,  5,  3,  9,  3,  5,  3,  4, 10,  6,  4,  4,  6,  7,  4,  6,  9,\n",
       "        3,  4,  4,  6,  4,  7,  7,  1,  6,  1,  5,  4,  4,  2,  4,  7,  3,\n",
       "        6, 10,  6,  5,  3,  3,  5,  4,  3,  8,  3,  3,  5,  7,  6,  4,  6,\n",
       "        4,  5,  7,  6, 13,  7,  4,  3,  6,  4,  3,  4,  4,  2,  3,  3,  5,\n",
       "        7,  6,  3,  7,  4,  5,  3,  3,  3,  6,  4,  2,  7,  8,  4,  3,  6,\n",
       "        6,  3,  4,  6,  3,  7,  9,  5,  6,  6,  5,  1,  4,  3, 13,  7,  7,\n",
       "        2,  2,  3,  6,  3,  8,  6, 10,  4,  2,  7,  8,  3,  8,  5,  5,  5,\n",
       "        1,  3,  4,  6,  9,  3,  4,  2,  2,  6,  6,  7,  5,  2,  3,  4,  3,\n",
       "        7,  3,  8, 10,  4,  2,  5,  3,  7,  5,  4,  9, 14,  8,  3,  4,  5,\n",
       "        2,  3,  7,  6,  7,  3,  3,  3,  7,  6,  3,  6,  4,  6,  3,  6,  2,\n",
       "        4,  3,  7,  5,  5,  3,  6,  5,  8,  3,  4,  5,  7,  5,  3, 10,  3,\n",
       "        7,  2,  5,  6,  3,  4,  3,  8,  4,  3,  6,  6,  7,  6,  4,  5, 10,\n",
       "        6,  4, 10,  3,  6,  7,  5,  3,  5,  6,  5,  7,  5,  3,  5,  4,  3,\n",
       "        4,  4,  6,  4,  2,  4,  6,  5,  4,  5,  4,  6,  1,  5,  2,  4,  4,\n",
       "        7,  1,  7,  8,  3,  7,  1,  4,  4,  7,  6,  3,  0,  7,  3,  3,  3,\n",
       "        1,  6,  6,  7,  3,  5,  6,  7,  6,  6,  4,  3,  5,  4,  1,  6,  0,\n",
       "        5,  4,  5,  6,  9,  4,  4,  7,  1,  3,  2,  5,  4,  1,  6,  6,  3,\n",
       "        6, 10,  4,  6,  5,  3,  5,  3,  6,  4,  4,  5,  7,  4,  6,  7,  4,\n",
       "        6,  5,  4,  5,  8,  3,  6,  4,  4,  8,  1,  4,  6,  6,  6, 11,  4,\n",
       "        7,  5,  5,  5,  3,  4,  3,  8,  3,  1,  6,  4,  4,  6,  6,  5,  3,\n",
       "        7,  7,  5,  1,  5,  2,  3,  4,  6,  2,  5,  8,  3,  5])"
      ]
     },
     "execution_count": 30,
     "metadata": {},
     "output_type": "execute_result"
    }
   ],
   "source": [
    "sample"
   ]
  },
  {
   "cell_type": "code",
   "execution_count": 28,
   "id": "f6069342-6b56-4ceb-9e7e-4a91368d9be7",
   "metadata": {},
   "outputs": [],
   "source": [
    "sample_mean = np.mean(sample)\n",
    "sample_var = np.var(sample)"
   ]
  },
  {
   "cell_type": "code",
   "execution_count": 29,
   "id": "ba0b82cc-ab38-4d20-a352-c3c753130d75",
   "metadata": {},
   "outputs": [
    {
     "name": "stdout",
     "output_type": "stream",
     "text": [
      "Sample mean: 4.944\n",
      "Sample variance: 4.980864\n"
     ]
    }
   ],
   "source": [
    "print('Sample mean:', sample_mean)\n",
    "print('Sample variance:', sample_var)"
   ]
  },
  {
   "cell_type": "markdown",
   "id": "e9fb0849-de65-4e4b-98d6-04e8c41a7af7",
   "metadata": {},
   "source": [
    "###\n",
    "Q(9)"
   ]
  },
  {
   "cell_type": "markdown",
   "id": "7c29170c-9c2e-4c17-ac81-92b64c0d6f96",
   "metadata": {},
   "source": [
    "The mean and variance are related in binomial and Poisson distribution in the following ways:\n",
    "\n",
    "In binomial distribution, the mean is equal to np, where n is the number of trials and p is the probability of success. The variance is equal to np(1-p), where 1-p is the probability of failure. Therefore, the mean is always greater than or equal to the variance in binomial distribution.\n",
    "\n",
    " In Poisson distribution, the mean is equal to lambda, where lambda is the average rate of occurrence. The variance is also equal to lambda. Therefore, the mean and variance are always equal in Poisson distribution.\n"
   ]
  },
  {
   "cell_type": "markdown",
   "id": "1404627a-6a98-4ca7-ae3c-0f3dd1cb59be",
   "metadata": {},
   "source": [
    "###\n",
    "Q(10)"
   ]
  },
  {
   "cell_type": "markdown",
   "id": "6fea963d-e0eb-4e41-918b-fabc44a6c80c",
   "metadata": {},
   "source": [
    "In normal distribution, the least frequent data appear at the tails of the curve, \n",
    "which are far away from the mean. The data become less frequent when farther away from\n",
    "the mean because most of the data is clustered near the mean.\n",
    "\n",
    "The probability of observing a value that is more than 3 standard deviations away from the mean is very low\n",
    "(less than 0.3%) according to the empirical rule.\n",
    "\n",
    "Therefore, the least frequent data are those that are more than 3 standard deviations away from the mean \n",
    "in either direction."
   ]
  },
  {
   "cell_type": "code",
   "execution_count": null,
   "id": "4c017f3b-7106-429d-8f42-d7233a93c01c",
   "metadata": {},
   "outputs": [],
   "source": []
  }
 ],
 "metadata": {
  "kernelspec": {
   "display_name": "Python 3 (ipykernel)",
   "language": "python",
   "name": "python3"
  },
  "language_info": {
   "codemirror_mode": {
    "name": "ipython",
    "version": 3
   },
   "file_extension": ".py",
   "mimetype": "text/x-python",
   "name": "python",
   "nbconvert_exporter": "python",
   "pygments_lexer": "ipython3",
   "version": "3.10.8"
  }
 },
 "nbformat": 4,
 "nbformat_minor": 5
}
