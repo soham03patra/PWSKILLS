{
 "cells": [
  {
   "cell_type": "markdown",
   "id": "3bb14757-77e4-4eeb-8245-0ae71f53212e",
   "metadata": {},
   "source": [
    "###\n",
    "Q(1)\n",
    "\n",
    "Estimation statistics is a data analysis framework that uses a combination of effect sizes, confidence intervals, precision planning, and meta-analysis to plan experiments, analyze data and interpret results1 It complements hypothesis testing approaches such as null hypothesis significance testing (NHST), by going beyond the question of whether an effect is present or not, and provides information about how large an effect is.\n",
    "\n",
    "Point estimate and interval estimate are two types of estimates that can be used to infer about a population parameter based on a sample.\n",
    "\n",
    "A point estimate is a single value that is calculated from the sample, such as the sample mean or the sample proportion.\n",
    "\n",
    "An interval estimate is a range of values that is expected to contain the true parameter value with a certain degree of confidence, such as a confidence interval45\n",
    "\n",
    "Point estimates are simple and easy to understand, but they do not provide any information about the precision or accuracy of the estimate. \n",
    "\n",
    "Interval estimates are more complex and require knowledge of probability distributions and standard errors, but they provide information about the precision and accuracy of the estimate5"
   ]
  },
  {
   "cell_type": "markdown",
   "id": "1d536c6d-e22e-4101-a096-118ff810ac1d",
   "metadata": {},
   "source": [
    "###\n",
    "Q(2)\n"
   ]
  },
  {
   "cell_type": "code",
   "execution_count": 6,
   "id": "8c33cc7f-6700-4bc8-8873-be5e8c707f1c",
   "metadata": {},
   "outputs": [],
   "source": [
    "import statistics\n",
    "\n",
    "def estimate_population_mean(sample):\n",
    "    sample_mean = statistics.mean(sample)\n",
    "    sample_std = statistics.stdev(sample)\n",
    "    return sample_mean, sample_std \n",
    "\n",
    "sample_data = [20, 25, 30, 35, 40, 45, 50, 55, 60, 65]"
   ]
  },
  {
   "cell_type": "code",
   "execution_count": 7,
   "id": "943ca332-81c9-4287-94ff-a256b9458fc0",
   "metadata": {},
   "outputs": [
    {
     "data": {
      "text/plain": [
       "(42.5, 15.138251770487457)"
      ]
     },
     "execution_count": 7,
     "metadata": {},
     "output_type": "execute_result"
    }
   ],
   "source": [
    "estimate_population_mean(sample_data)"
   ]
  },
  {
   "cell_type": "markdown",
   "id": "ebc26fed-5901-4c0f-b9f6-a81160a81db9",
   "metadata": {},
   "source": [
    "###\n",
    "Q(3)\n",
    "\n",
    "Hypothesis testing is used to decide whether the data at hand sufficiently support a particular hypothesis. Hypothesis testing allows us to make probabilistic statements about population parameters or a population probability distribution.\n",
    "\n",
    "The importance of hypothesis testing is that it helps us to make data-driven decisions and extrapolate data from a sample to a population. It also helps us to measure the validity and reliability of outcomes in any systematic investigation. Hypothesis testing can also improve the current process by testing any idea without disturbing it. When a finding is statistically significant, it means that a hypothesis test has been performed\n"
   ]
  },
  {
   "cell_type": "markdown",
   "id": "af07ce28-92b8-4b5b-ae76-a5a362b1df8a",
   "metadata": {},
   "source": [
    "###\n",
    "Q(4)\n",
    "\n",
    "To create a hypothesis that states whether the average weight of male college students is greater than the average weight of female college students, we need to follow these steps:\n",
    "\n",
    "Define the population and the parameter of interest. In this case, the population is all college students, and the parameter of interest is the mean weight of each gender group.\n",
    "\n",
    "State the null hypothesis and the alternative hypothesis. The null hypothesis is the default assumption that there is no difference between the population means. The alternative hypothesis is the claim that we want to test, which is that there is a difference between the population means. In this case, we can write the hypotheses as follows:\n",
    "\n",
    "Null hypothesis: H0: μm = μf, where μm is the mean weight of male college students and μf is the mean weight of female college students.\n",
    "\n",
    "Alternative hypothesis: Ha: μm > μf, where μm is the mean weight of male college students and μf is the mean weight of female college students.\n",
    "\n",
    "Choose a significance level and a test statistic. The significance level is the probability of rejecting the null hypothesis when it is true, also known as the type I error rate. The test statistic is a numerical value that measures how far the sample data are from the null hypothesis. In this case, we can choose a common significance level of 0.05 and use a two-sample t-test as the test statistic, which compares the means of two independent samples.\n",
    "\n",
    "Collect data and calculate the test statistic and the p-value. The data can be collected by randomly sampling male and female college students and measuring their weights. The test statistic can be calculated by using the formula:\n",
    "\n",
    "t = (xm - xf) / sqrt((sm^2 / nm) + (sf^2 / nf)), where xm and xf are the sample means, sm and sf are the sample standard deviations, and nm and nf are the sample sizes of male and female college students respectively.\n",
    "\n",
    "The p-value is the probability of obtaining a test statistic at least as extreme as the observed one, assuming that the null hypothesis is true. The p-value can be calculated by using a t-distribution table or a software program.\n",
    "\n",
    "Compare the p-value with the significance level and make a decision. If the p-value is less than or equal to the significance level, we reject the null hypothesis and conclude that there is sufficient evidence to support the alternative hypothesis. If the p-value is greater than the significance level, we fail to reject the null hypothesis and conclude that there is not enough evidence to support the alternative hypothesis. In this case, we can also report a confidence interval for the difference between the population means, which gives us an estimate of how large or small the difference might be."
   ]
  },
  {
   "cell_type": "markdown",
   "id": "40f8144f-a7eb-49dd-b757-93660e5be127",
   "metadata": {},
   "source": [
    "###\n",
    "Q(5)"
   ]
  },
  {
   "cell_type": "code",
   "execution_count": 21,
   "id": "c9132692-50b9-4f6b-9a84-ee1484271888",
   "metadata": {},
   "outputs": [
    {
     "name": "stdout",
     "output_type": "stream",
     "text": [
      "Results of the Two-Sample T-test:\n",
      "Null Hypothesis Accepted: False\n",
      "T-Statistic: 5.228662556896479\n",
      "P-Value: 5.6749942287470357e-05\n",
      "Alpha: 0.05\n"
     ]
    }
   ],
   "source": [
    "import numpy as np\n",
    "from scipy import stats\n",
    "\n",
    "def two_sample_t_test(sample1, sample2, alpha=0.05, equal_var=True):\n",
    " \n",
    "    t_statistic, p_value = stats.ttest_ind(sample1, sample2, equal_var=equal_var)\n",
    "    null_hypothesis = p_value > alpha\n",
    "    \n",
    "    result = {\n",
    "        't_statistic': t_statistic,\n",
    "        'p_value': p_value,\n",
    "        'alpha': alpha,\n",
    "        'null_hypothesis': null_hypothesis\n",
    "    }\n",
    "    return result\n",
    "\n",
    "if __name__ == \"__main__\":\n",
    "    \n",
    "    sample1 = np.array([23, 28, 32, 27, 25, 30, 29, 26, 31, 24])\n",
    "    sample2 = np.array([19, 20, 24, 21, 18, 22, 23, 20, 25, 17])\n",
    "\n",
    "    result = two_sample_t_test(sample1, sample2, alpha=0.05, equal_var=True)\n",
    "\n",
    "    print(\"Results of the Two-Sample T-test:\")\n",
    "    print(\"Null Hypothesis Accepted:\", result['null_hypothesis'])\n",
    "    print(\"T-Statistic:\", result['t_statistic'])\n",
    "    print(\"P-Value:\", result['p_value'])\n",
    "    print(\"Alpha:\", result['alpha'])\n"
   ]
  },
  {
   "cell_type": "markdown",
   "id": "9e888078-abcc-4695-95ab-275bc9ff2694",
   "metadata": {},
   "source": [
    "###\n",
    "Q(6)"
   ]
  },
  {
   "cell_type": "markdown",
   "id": "6b00d61a-94cb-409a-819f-7f59deb4d18a",
   "metadata": {},
   "source": [
    "A null hypothesis is a statement that assumes there is no difference or no effect between two or more groups or variables in a population. For example, a null hypothesis could be that the average height of men and women is the same. A null hypothesis is often denoted by H0 and written in mathematical terms using an equality sign (=, ≤, or ≥).\n",
    "\n",
    "\n",
    "An alternative hypothesis is a statement that contradicts the null hypothesis and proposes that there is a difference or an effect between two or more groups or variables in a population. For example, an alternative hypothesis could be that the average height of men is greater than the average height of women. An alternative hypothesis is often denoted by Ha or H1 and written in mathematical terms using an inequality sign (≠, >, or <).\n",
    "\n",
    "Some examples of null and alternative hypotheses are:\n",
    "\n",
    "H0: The mean blood pressure of smokers and non-smokers is equal. Ha: The mean blood pressure of smokers and non-smokers is not equal."
   ]
  },
  {
   "cell_type": "markdown",
   "id": "ba00d143-0508-4b80-a65c-e382bb436d92",
   "metadata": {},
   "source": [
    "###\n",
    "Q(7)"
   ]
  },
  {
   "cell_type": "markdown",
   "id": "8a4e34a7-7f06-42bd-9015-e7bf247f750d",
   "metadata": {},
   "source": [
    "Hypothesis testing is a process of making statistical inferences about a population based on a sample. The steps involved in hypothesis testing are:\n",
    "\n",
    "Step 1:\n",
    "\n",
    "State the null and alternative hypotheses. The null hypothesis is the default assumption that there is no difference or no effect between the groups or variables of interest. The alternative hypothesis is the claim that we want to test, which is that there is a difference or an effect between the groups or variables of interest.\n",
    "\n",
    "Step 2: \n",
    "\n",
    "Choose a significance level and a test statistic. The significance level is the probability of rejecting the null hypothesis when it is true, also known as the type I error rate. The test statistic is a numerical value that measures how far the sample data are from the null hypothesis.\n",
    "\n",
    "Step 3: \n",
    "\n",
    "Collect data and calculate the test statistic and the p-value. The data can be collected by randomly sampling from the population or conducting an experiment. The test statistic can be calculated by using a formula or a software program. The p-value is the probability of obtaining a test statistic at least as extreme as the observed one, assuming that the null hypothesis is true.\n",
    "\n",
    "Step 4:\n",
    "\n",
    "Compare the p-value with the significance level and make a decision. If the p-value is less than or equal to the significance level, we reject the null hypothesis and conclude that there is sufficient evidence to support the alternative hypothesis. If the p-value is greater than the significance level, we fail to reject the null hypothesis and conclude that there is not enough evidence to support the alternative hypothesis."
   ]
  },
  {
   "cell_type": "markdown",
   "id": "1f77ad50-1f47-4e17-9fb9-61bdb0e8bd2c",
   "metadata": {},
   "source": [
    "###\n",
    "Q(8)"
   ]
  },
  {
   "cell_type": "markdown",
   "id": "606f0086-19c1-4243-b957-27922c1e43a4",
   "metadata": {},
   "source": [
    "A p-value is a measure of how likely it is that the data you observed would occur by chance if the null hypothesis were true. The null hypothesis is the default assumption that there is no difference or no effect between the groups or variables of interest in your study. The p-value is calculated from a statistical test that compares your data with the expected data under the null hypothesis.\n",
    "\n",
    "The significance of the p-value is that it helps you decide whether to reject or fail to reject the null hypothesis based on your data. The smaller the p-value, the more evidence there is against the null hypothesis and in favor of the alternative hypothesis, which is the opposite of the null hypothesis. A common threshold for statistical significance is a p-value less than or equal to 0.05, which means that there is less than a 5% chance that the null hypothesis is true given your data.\n",
    "\n",
    "For example, suppose you want to test whether a new drug lowers blood pressure more than a placebo. You randomly assign 100 patients to either receive the drug or the placebo and measure their blood pressure after four weeks. You use a two-sample t-test to compare the mean blood pressure of the two groups. The null hypothesis is that there is no difference in mean blood pressure between the drug and placebo groups. The alternative hypothesis is that there is a difference in mean blood pressure between the drug and placebo groups."
   ]
  },
  {
   "cell_type": "markdown",
   "id": "d7f1ec4a-6a3d-43f1-b8ce-e50da40fe1f7",
   "metadata": {},
   "source": [
    "###\n",
    "Q(9)"
   ]
  },
  {
   "cell_type": "code",
   "execution_count": 27,
   "id": "d50d222e-8f52-4b8e-a464-aa76bd9bfa2f",
   "metadata": {},
   "outputs": [],
   "source": [
    "\n",
    "import scipy.stats as stats\n",
    "import matplotlib.pyplot as plt\n",
    "\n"
   ]
  },
  {
   "cell_type": "code",
   "execution_count": 26,
   "id": "6d01ff26-a549-457c-9101-ba03f3e47cdf",
   "metadata": {},
   "outputs": [
    {
     "data": {
      "image/png": "[encoded data removed]",
      "text/plain": [
       "<Figure size 640x480 with 1 Axes>"
      ]
     },
     "metadata": {},
     "output_type": "display_data"
    }
   ],
   "source": [
    "\n",
    "x = stats.t.rvs(df=10, size=100)\n",
    "\n",
    "plt.hist(x, density=True, edgecolor='black', bins=20)\n",
    "\n",
    "plt.title(\"Student's t-distribution with 10 degrees of freedom\")\n",
    "plt.xlabel(\"x\")\n",
    "plt.ylabel(\"Density\")\n",
    "plt.show()"
   ]
  },
  {
   "cell_type": "markdown",
   "id": "d9252530-bad0-4460-9046-ccb241d05ef6",
   "metadata": {},
   "source": [
    "###\n",
    "Q(10)"
   ]
  },
  {
   "cell_type": "code",
   "execution_count": 34,
   "id": "5a9ef9b3-483f-426e-aa2d-71431df02da0",
   "metadata": {},
   "outputs": [
    {
     "name": "stdout",
     "output_type": "stream",
     "text": [
      "the value of test_statistic, p_value = \n",
      " -2.3145502494313788 0.04317161123458346\n",
      "We reject the null hypothesis (The population means of sample_1 and sample_2 are equal.) and conclude that there is a significant difference between the population means of sample_1 and sample_2.\n"
     ]
    }
   ],
   "source": [
    "import scipy.stats as stats\n",
    "\n",
    "sample_1 = [10, 12, 14, 16, 18, 20]\n",
    "sample_2 = [15, 17, 19, 21, 23, 25]\n",
    "\n",
    "\n",
    "null_hypothesis = \"The population means of sample_1 and sample_2 are equal.\"\n",
    "\n",
    "test_statistic, p_value = stats.ttest_ind(sample_1, sample_2)\n",
    "\n",
    "alpha = 0.05\n",
    "\n",
    "print(\"the value of test_statistic, p_value = \\n\",test_statistic, p_value)\n",
    "\n",
    "if p_value <= alpha:\n",
    "    print(f\"We reject the null hypothesis ({null_hypothesis}) and conclude that there is a significant difference between the population means of sample_1 and sample_2.\")\n",
    "else:\n",
    "    print(f\"We fail to reject the null hypothesis ({null_hypothesis}) and conclude that there is no significant difference between the population means of sample_1 and sample_2.\")\n"
   ]
  },
  {
   "cell_type": "markdown",
   "id": "346bf198-8777-445a-93cc-772b7f664a1f",
   "metadata": {},
   "source": [
    "###\n",
    "Q(11)"
   ]
  },
  {
   "cell_type": "markdown",
   "id": "dc06f1ad-1586-4261-b6b4-9b7aebcf742b",
   "metadata": {},
   "source": [
    "Student’s t-distribution is a continuous probability distribution that describes the behavior of a sample mean when the population standard deviation is unknown and the sample size is small. It is also known as Student’s t-test or simply the t-test.\n",
    "\n",
    "The t-distribution is similar to the normal distribution, which is also a bell-shaped curve that is symmetric around the mean. However, the t-distribution has heavier tails than the normal distribution, which means that it has more probability mass in the extreme values. The shape of the t-distribution depends on a parameter called the degrees of freedom, which is related to the sample size. The larger the degrees of freedom, the closer the t-distribution is to the normal distribution.\n",
    "\n",
    "The t-distribution is used when we want to make inferences about a population mean based on a sample mean, but we do not know the population standard deviation. This is often the case in real-world situations, where we only have access to a limited amount of data. The t-distribution allows us to calculate confidence intervals and perform hypothesis tests for the population mean, taking into account the uncertainty and variability of the sample data."
   ]
  },
  {
   "cell_type": "markdown",
   "id": "935d8caf-15bd-4f31-8f77-ed151c1c234b",
   "metadata": {},
   "source": [
    "###\n",
    "Q(12)"
   ]
  },
  {
   "cell_type": "markdown",
   "id": "912a2cd6-f526-4f24-9216-358272703f52",
   "metadata": {},
   "source": [
    "A t-statistic is a ratio that measures how far a sample mean is from a population mean, relative to the sample standard deviation. It is used to perform hypothesis tests and confidence intervals for the population mean, especially when the population standard deviation is unknown or the sample size is small\n",
    "\n",
    "The formula for t-statistic depends on the type of t-test you are using. There are three main types of t-tests: one-sample, two-sample, and paired. Here are the formulas for each type:\n",
    "\n",
    "One-sample t-test: This test compares the mean of one group of samples with a standard value. The formula is:\n",
    "\n",
    "t = (x̄ - μ) / (s / √n), where x̄ is the sample mean, μ is the standard value, s is the sample standard deviation, and n is the sample size.\n",
    "Two-sample t-test: This test compares the means of two independent groups of samples. The formula is:\n",
    "\n",
    "t = (x̄1 - x̄2) / √((s1^2 / n1) + (s2^2 / n2)), where x̄1 and x̄2 are the sample means, s1 and s2 are the sample standard deviations, and n1 and n2 are the sample sizes of the two groups.\n",
    "Paired t-test: This test compares the means of two related groups of samples, such as before and after an intervention. The formula is:\n",
    "\n",
    "t = (d̄  - μd) / (sd / √n), where d̄ is the mean difference between the paired samples, μd is the hypothesized mean difference, sd is the standard deviation of the differences, and n is the number of pairs."
   ]
  },
  {
   "cell_type": "markdown",
   "id": "2f433d3a-5a72-4e8f-bf8d-fcfe13edee89",
   "metadata": {},
   "source": [
    "####\n",
    "Q(13)\n",
    "\n",
    "To estimate the population mean revenue with a 95% confidence interval, we can use the following formula:\n",
    "\n",
    "Confidence Interval = x +/- z* (s/√n)\n",
    "\n",
    "where:\n",
    "\n",
    "x: sample mean\n",
    "z: z-value that corresponds to confidence level\n",
    "s: sample standard deviation\n",
    "n: sample size\n",
    "Plugging in the given values, we get:\n",
    "\n",
    "Confidence Interval = 500 +/- 1.96* (50/√50)\n",
    "\n",
    "Confidence Interval = 500 +/- 13.86\n",
    "\n",
    "Confidence Interval = [486.14, 513.86]\n",
    "\n",
    "This means that we are 95% confident that the true population mean revenue for the coffee shop is between  $486.14 and  $513.86"
   ]
  },
  {
   "cell_type": "markdown",
   "id": "5bfd8803-e8b3-46d0-abf9-b81b3ac3f088",
   "metadata": {},
   "source": [
    "###\n",
    "Q(14)"
   ]
  },
  {
   "cell_type": "markdown",
   "id": "6f3ba085-359e-439f-aec0-3a62a89373df",
   "metadata": {},
   "source": [
    "Null hypothesis: H0: μ = 10, where μ is the population mean decrease in blood pressure.\n",
    "\n",
    "Alternative hypothesis: Ha: μ ≠ 10, where μ is the population mean decrease in blood pressure.\n",
    "\n",
    "t = (x̄ - μ) / (s / √n), where x̄ is the sample mean, μ is the standard value, s is the sample standard deviation, and n is the sample size.\n",
    "\n",
    "t = (8 - 10) / (3 / √100) = -6.67\n",
    "\n",
    "The p-value is the probability of obtaining a test statistic at least as extreme as the observed one, assuming that the null hypothesis is true. The p-value can be calculated by using a t-distribution table or a software program. \n",
    "\n",
    "p-value ~ 0\n",
    "\n",
    "p-vale < significance (True)\n",
    "\n",
    "The result of this hypothesis test suggests that the new drug does not decrease blood pressure by 10 mmHg as hypothesized\n",
    "\n"
   ]
  },
  {
   "cell_type": "markdown",
   "id": "6fc8a89e-5825-4a9a-8496-363b0a6dd903",
   "metadata": {},
   "source": [
    "###\n",
    "Q(15)"
   ]
  },
  {
   "cell_type": "markdown",
   "id": "588beb59-343a-46c8-9fb0-d6dfb9b6282d",
   "metadata": {},
   "source": [
    "H0: μ = 5 \n",
    "\n",
    "H1: μ < 5\n",
    "\n",
    "t = (4.8 - 5) / (0.5 / √25) \n",
    "\n",
    "t = -2\n",
    "\n",
    "p-value ≈ 0.05694\n",
    "\n",
    "p-vale < significance value \n",
    "0.05694 < 0.01 (False)\n",
    " \n",
    "we accept the null hypothesis \n"
   ]
  },
  {
   "cell_type": "markdown",
   "id": "937f4df8-75ec-4886-be0c-9f7faf3c11f7",
   "metadata": {},
   "source": [
    "###\n",
    "Q(16)\n",
    "\n",
    "H0: μ1 = μ2 \n",
    "H1: μ1 ≠ μ2\n",
    "\n",
    "n1 = 30, x̄1 = 80, s1 = 10 \n",
    "\n",
    "n2 = 40, x̄2 = 75, s2 = 8\n",
    "\n",
    "t = (x̄1 - x̄2) / √((s1^2 / n1) + (s2^2 / n2))\n",
    "\n",
    "t = (80 - 75) / √((10^2 / 30) + (8^2 / 40)) t = 2.28\n",
    "\n",
    "degrees of freedom calculated as:\n",
    "df = ((s1^2 / n1) + (s2^2 / n2))^2 / (((s1^2 / n1)^2 / (n1 - 1)) + ((s2^2 / n2)^2 / (n2 - 1)))\n",
    "\n",
    "df = 57\n",
    "\n",
    "p-value = 0.027\n",
    "\n",
    "p-value < significance \n",
    "\n",
    "0.027 < 0.01 (False)\n",
    "\n",
    "we fail to reject the null hypothesis."
   ]
  },
  {
   "cell_type": "markdown",
   "id": "7ef33302-d00c-4325-ad55-9c734af942ab",
   "metadata": {
    "tags": []
   },
   "source": [
    "###\n",
    "Q(17)\n",
    "\n",
    "To estimate the population mean revenue with a 99% confidence interval, we can use the following formula:\n",
    "\n",
    "Confidence Interval = x +/- z* (s/√n)\n",
    "\n",
    "where:\n",
    "\n",
    "x: sample mean z: z-value that corresponds to confidence level s: sample standard deviation n: sample size Plugging in the given values, we get:\n",
    "\n",
    "Confidence Interval = 4 +/- 2.68* (1.5/√50)\n",
    "\n",
    "Confidence Interval = 4 +/- 0.56\n",
    "\n",
    "Confidence Interval = [4.56,3.44]\n",
    "\n",
    "This means that we are 95% confident that the true population mean revenue for the coffee shop is between  4.56 𝑎𝑛𝑑 3.44"
   ]
  },
  {
   "cell_type": "code",
   "execution_count": null,
   "id": "016d5c34-3450-43b9-9c8f-7852288c8836",
   "metadata": {},
   "outputs": [],
   "source": []
  }
 ],
 "metadata": {
  "kernelspec": {
   "display_name": "Python 3 (ipykernel)",
   "language": "python",
   "name": "python3"
  },
  "language_info": {
   "codemirror_mode": {
    "name": "ipython",
    "version": 3
   },
   "file_extension": ".py",
   "mimetype": "text/x-python",
   "name": "python",
   "nbconvert_exporter": "python",
   "pygments_lexer": "ipython3",
   "version": "3.10.8"
  }
 },
 "nbformat": 4,
 "nbformat_minor": 5
}
